{
 "cells": [
  {
   "cell_type": "code",
   "execution_count": 1,
   "metadata": {},
   "outputs": [],
   "source": [
    "import os, glob, sys, io\n",
    "import pathlib\n",
    "\n",
    "from pprint import pprint\n",
    "import numpy as np\n",
    "import random\n",
    "import pandas as pd\n",
    "import tensorflow as tf\n",
    "import matplotlib.pyplot as plt\n",
    "\n",
    "import scipy\n",
    "import scipy.signal\n",
    "import scipy.interpolate\n",
    "\n",
    "import pickle\n",
    "from tqdm.auto import tqdm, trange\n",
    "\n",
    "\n",
    "from IPython.core.display import display, HTML"
   ]
  },
  {
   "cell_type": "code",
   "execution_count": 2,
   "metadata": {},
   "outputs": [
    {
     "data": {
      "text/plain": [
       "50"
      ]
     },
     "execution_count": 2,
     "metadata": {},
     "output_type": "execute_result"
    }
   ],
   "source": [
    "out_dir = \"F:/MohammadRaziei/project/Dataset/ismrmrd_to_npz\"\n",
    "# out_dir = \"H:/Dataset/Bio/MRI Reconstruction/ismrmrd_to_npz\"\n",
    "pickle_dir = \"F:/MohammadRaziei/project/Dataset/npz_to_pickle\"\n",
    "# pickle_dir = \"H:/Dataset/Bio/MRI Reconstruction/npz_to_pickle\"\n",
    "pickle_batch_root = \"F:/MohammadRaziei/project/Dataset/pickle_batch_root\"\n",
    "\n",
    "filenames = glob.glob(out_dir+\"/*.npz\")\n",
    "len(filenames)"
   ]
  },
  {
   "cell_type": "code",
   "execution_count": 3,
   "metadata": {},
   "outputs": [
    {
     "data": {
      "text/plain": [
       "(1, 1, 40, 15, 1, 517, 320)"
      ]
     },
     "execution_count": 3,
     "metadata": {},
     "output_type": "execute_result"
    }
   ],
   "source": [
    "fid = 25;\n",
    "uuid = pathlib.Path(filenames[fid]).stem\n",
    "source = np.load(filenames[fid], allow_pickle=True)\n",
    "kspace = source['kspace']\n",
    "info = source['info'].item()\n",
    "lNx,lNy,lNz = info['lNx'],info['lNy'],info['lNz']\n",
    "kspace.shape"
   ]
  },
  {
   "cell_type": "code",
   "execution_count": 4,
   "metadata": {},
   "outputs": [
    {
     "data": {
      "text/html": [
       "<div>\n",
       "<style scoped>\n",
       "    .dataframe tbody tr th:only-of-type {\n",
       "        vertical-align: middle;\n",
       "    }\n",
       "\n",
       "    .dataframe tbody tr th {\n",
       "        vertical-align: top;\n",
       "    }\n",
       "\n",
       "    .dataframe thead th {\n",
       "        text-align: right;\n",
       "    }\n",
       "</style>\n",
       "<table border=\"1\" class=\"dataframe\">\n",
       "  <thead>\n",
       "    <tr style=\"text-align: right;\">\n",
       "      <th></th>\n",
       "      <th>lNx</th>\n",
       "      <th>lNy</th>\n",
       "      <th>lNz</th>\n",
       "      <th>eNx</th>\n",
       "      <th>eNy</th>\n",
       "      <th>eNz</th>\n",
       "      <th>rNx</th>\n",
       "      <th>rNy</th>\n",
       "      <th>rNz</th>\n",
       "      <th>eFOVx</th>\n",
       "      <th>eFOVy</th>\n",
       "      <th>eFOVz</th>\n",
       "      <th>rFOVx</th>\n",
       "      <th>rFOVy</th>\n",
       "      <th>rFOVz</th>\n",
       "      <th>ncoils</th>\n",
       "      <th>nslices</th>\n",
       "      <th>nreps</th>\n",
       "      <th>ncontrasts</th>\n",
       "    </tr>\n",
       "  </thead>\n",
       "  <tbody>\n",
       "    <tr>\n",
       "      <th>0</th>\n",
       "      <td>320.0</td>\n",
       "      <td>517.0</td>\n",
       "      <td>1.0</td>\n",
       "      <td>640.0</td>\n",
       "      <td>646.0</td>\n",
       "      <td>1.0</td>\n",
       "      <td>320.0</td>\n",
       "      <td>320.0</td>\n",
       "      <td>1.0</td>\n",
       "      <td>280.0</td>\n",
       "      <td>282.799988</td>\n",
       "      <td>4.5</td>\n",
       "      <td>140.0</td>\n",
       "      <td>140.0</td>\n",
       "      <td>3.0</td>\n",
       "      <td>15.0</td>\n",
       "      <td>40.0</td>\n",
       "      <td>1.0</td>\n",
       "      <td>1.0</td>\n",
       "    </tr>\n",
       "  </tbody>\n",
       "</table>\n",
       "</div>"
      ],
      "text/plain": [
       "     lNx    lNy  lNz    eNx    eNy  eNz    rNx    rNy  rNz  eFOVx       eFOVy  \\\n",
       "0  320.0  517.0  1.0  640.0  646.0  1.0  320.0  320.0  1.0  280.0  282.799988   \n",
       "\n",
       "   eFOVz  rFOVx  rFOVy  rFOVz  ncoils  nslices  nreps  ncontrasts  \n",
       "0    4.5  140.0  140.0    3.0    15.0     40.0    1.0         1.0  "
      ]
     },
     "execution_count": 4,
     "metadata": {},
     "output_type": "execute_result"
    }
   ],
   "source": [
    "pd.DataFrame.from_dict(info, orient='index').T"
   ]
  },
  {
   "cell_type": "code",
   "execution_count": 5,
   "metadata": {},
   "outputs": [
    {
     "data": {
      "text/html": [
       "<div>\n",
       "<style scoped>\n",
       "    .dataframe tbody tr th:only-of-type {\n",
       "        vertical-align: middle;\n",
       "    }\n",
       "\n",
       "    .dataframe tbody tr th {\n",
       "        vertical-align: top;\n",
       "    }\n",
       "\n",
       "    .dataframe thead th {\n",
       "        text-align: right;\n",
       "    }\n",
       "</style>\n",
       "<table border=\"1\" class=\"dataframe\">\n",
       "  <thead>\n",
       "    <tr style=\"text-align: right;\">\n",
       "      <th></th>\n",
       "      <th>lNx</th>\n",
       "      <th>lNy</th>\n",
       "      <th>lNz</th>\n",
       "      <th>eNx</th>\n",
       "      <th>eNy</th>\n",
       "      <th>eNz</th>\n",
       "      <th>rNx</th>\n",
       "      <th>rNy</th>\n",
       "      <th>rNz</th>\n",
       "      <th>eFOVx</th>\n",
       "      <th>eFOVy</th>\n",
       "      <th>eFOVz</th>\n",
       "      <th>rFOVx</th>\n",
       "      <th>rFOVy</th>\n",
       "      <th>rFOVz</th>\n",
       "      <th>ncoils</th>\n",
       "      <th>nslices</th>\n",
       "      <th>nreps</th>\n",
       "      <th>ncontrasts</th>\n",
       "    </tr>\n",
       "  </thead>\n",
       "  <tbody>\n",
       "    <tr>\n",
       "      <th>0</th>\n",
       "      <td>320</td>\n",
       "      <td>387</td>\n",
       "      <td>1</td>\n",
       "      <td>640</td>\n",
       "      <td>484</td>\n",
       "      <td>1</td>\n",
       "      <td>320</td>\n",
       "      <td>320</td>\n",
       "      <td>1</td>\n",
       "      <td>280.0</td>\n",
       "      <td>211.679993</td>\n",
       "      <td>4.5</td>\n",
       "      <td>140.0</td>\n",
       "      <td>140.0</td>\n",
       "      <td>3.0</td>\n",
       "      <td>15</td>\n",
       "      <td>37</td>\n",
       "      <td>1</td>\n",
       "      <td>1</td>\n",
       "    </tr>\n",
       "    <tr>\n",
       "      <th>1</th>\n",
       "      <td>384</td>\n",
       "      <td>616</td>\n",
       "      <td>1</td>\n",
       "      <td>768</td>\n",
       "      <td>770</td>\n",
       "      <td>1</td>\n",
       "      <td>384</td>\n",
       "      <td>384</td>\n",
       "      <td>1</td>\n",
       "      <td>280.0</td>\n",
       "      <td>280.700012</td>\n",
       "      <td>4.5</td>\n",
       "      <td>140.0</td>\n",
       "      <td>140.0</td>\n",
       "      <td>3.0</td>\n",
       "      <td>15</td>\n",
       "      <td>31</td>\n",
       "      <td>1</td>\n",
       "      <td>1</td>\n",
       "    </tr>\n",
       "    <tr>\n",
       "      <th>2</th>\n",
       "      <td>320</td>\n",
       "      <td>387</td>\n",
       "      <td>1</td>\n",
       "      <td>640</td>\n",
       "      <td>484</td>\n",
       "      <td>1</td>\n",
       "      <td>320</td>\n",
       "      <td>320</td>\n",
       "      <td>1</td>\n",
       "      <td>280.0</td>\n",
       "      <td>211.679993</td>\n",
       "      <td>4.5</td>\n",
       "      <td>140.0</td>\n",
       "      <td>140.0</td>\n",
       "      <td>3.0</td>\n",
       "      <td>15</td>\n",
       "      <td>38</td>\n",
       "      <td>1</td>\n",
       "      <td>1</td>\n",
       "    </tr>\n",
       "    <tr>\n",
       "      <th>3</th>\n",
       "      <td>320</td>\n",
       "      <td>517</td>\n",
       "      <td>1</td>\n",
       "      <td>640</td>\n",
       "      <td>646</td>\n",
       "      <td>1</td>\n",
       "      <td>320</td>\n",
       "      <td>320</td>\n",
       "      <td>1</td>\n",
       "      <td>280.0</td>\n",
       "      <td>282.799988</td>\n",
       "      <td>4.5</td>\n",
       "      <td>140.0</td>\n",
       "      <td>140.0</td>\n",
       "      <td>3.0</td>\n",
       "      <td>15</td>\n",
       "      <td>33</td>\n",
       "      <td>1</td>\n",
       "      <td>1</td>\n",
       "    </tr>\n",
       "    <tr>\n",
       "      <th>4</th>\n",
       "      <td>320</td>\n",
       "      <td>387</td>\n",
       "      <td>1</td>\n",
       "      <td>640</td>\n",
       "      <td>484</td>\n",
       "      <td>1</td>\n",
       "      <td>320</td>\n",
       "      <td>320</td>\n",
       "      <td>1</td>\n",
       "      <td>280.0</td>\n",
       "      <td>211.679993</td>\n",
       "      <td>4.5</td>\n",
       "      <td>140.0</td>\n",
       "      <td>140.0</td>\n",
       "      <td>3.0</td>\n",
       "      <td>15</td>\n",
       "      <td>40</td>\n",
       "      <td>1</td>\n",
       "      <td>1</td>\n",
       "    </tr>\n",
       "    <tr>\n",
       "      <th>5</th>\n",
       "      <td>320</td>\n",
       "      <td>387</td>\n",
       "      <td>1</td>\n",
       "      <td>640</td>\n",
       "      <td>484</td>\n",
       "      <td>1</td>\n",
       "      <td>320</td>\n",
       "      <td>320</td>\n",
       "      <td>1</td>\n",
       "      <td>280.0</td>\n",
       "      <td>211.679993</td>\n",
       "      <td>4.5</td>\n",
       "      <td>140.0</td>\n",
       "      <td>140.0</td>\n",
       "      <td>3.0</td>\n",
       "      <td>15</td>\n",
       "      <td>38</td>\n",
       "      <td>1</td>\n",
       "      <td>1</td>\n",
       "    </tr>\n",
       "    <tr>\n",
       "      <th>6</th>\n",
       "      <td>320</td>\n",
       "      <td>387</td>\n",
       "      <td>1</td>\n",
       "      <td>640</td>\n",
       "      <td>484</td>\n",
       "      <td>1</td>\n",
       "      <td>320</td>\n",
       "      <td>320</td>\n",
       "      <td>1</td>\n",
       "      <td>280.0</td>\n",
       "      <td>211.679993</td>\n",
       "      <td>4.5</td>\n",
       "      <td>140.0</td>\n",
       "      <td>140.0</td>\n",
       "      <td>3.0</td>\n",
       "      <td>15</td>\n",
       "      <td>38</td>\n",
       "      <td>1</td>\n",
       "      <td>1</td>\n",
       "    </tr>\n",
       "    <tr>\n",
       "      <th>7</th>\n",
       "      <td>320</td>\n",
       "      <td>387</td>\n",
       "      <td>1</td>\n",
       "      <td>640</td>\n",
       "      <td>484</td>\n",
       "      <td>1</td>\n",
       "      <td>320</td>\n",
       "      <td>320</td>\n",
       "      <td>1</td>\n",
       "      <td>280.0</td>\n",
       "      <td>211.679993</td>\n",
       "      <td>4.5</td>\n",
       "      <td>140.0</td>\n",
       "      <td>140.0</td>\n",
       "      <td>3.0</td>\n",
       "      <td>15</td>\n",
       "      <td>36</td>\n",
       "      <td>1</td>\n",
       "      <td>1</td>\n",
       "    </tr>\n",
       "    <tr>\n",
       "      <th>8</th>\n",
       "      <td>384</td>\n",
       "      <td>616</td>\n",
       "      <td>1</td>\n",
       "      <td>768</td>\n",
       "      <td>770</td>\n",
       "      <td>1</td>\n",
       "      <td>384</td>\n",
       "      <td>384</td>\n",
       "      <td>1</td>\n",
       "      <td>280.0</td>\n",
       "      <td>280.700012</td>\n",
       "      <td>4.5</td>\n",
       "      <td>140.0</td>\n",
       "      <td>140.0</td>\n",
       "      <td>3.0</td>\n",
       "      <td>15</td>\n",
       "      <td>34</td>\n",
       "      <td>1</td>\n",
       "      <td>1</td>\n",
       "    </tr>\n",
       "    <tr>\n",
       "      <th>9</th>\n",
       "      <td>320</td>\n",
       "      <td>387</td>\n",
       "      <td>1</td>\n",
       "      <td>640</td>\n",
       "      <td>484</td>\n",
       "      <td>1</td>\n",
       "      <td>320</td>\n",
       "      <td>320</td>\n",
       "      <td>1</td>\n",
       "      <td>280.0</td>\n",
       "      <td>211.679993</td>\n",
       "      <td>4.5</td>\n",
       "      <td>140.0</td>\n",
       "      <td>140.0</td>\n",
       "      <td>3.0</td>\n",
       "      <td>15</td>\n",
       "      <td>39</td>\n",
       "      <td>1</td>\n",
       "      <td>1</td>\n",
       "    </tr>\n",
       "    <tr>\n",
       "      <th>10</th>\n",
       "      <td>384</td>\n",
       "      <td>616</td>\n",
       "      <td>1</td>\n",
       "      <td>768</td>\n",
       "      <td>770</td>\n",
       "      <td>1</td>\n",
       "      <td>384</td>\n",
       "      <td>384</td>\n",
       "      <td>1</td>\n",
       "      <td>280.0</td>\n",
       "      <td>280.700012</td>\n",
       "      <td>4.5</td>\n",
       "      <td>140.0</td>\n",
       "      <td>140.0</td>\n",
       "      <td>3.0</td>\n",
       "      <td>15</td>\n",
       "      <td>31</td>\n",
       "      <td>1</td>\n",
       "      <td>1</td>\n",
       "    </tr>\n",
       "    <tr>\n",
       "      <th>11</th>\n",
       "      <td>320</td>\n",
       "      <td>517</td>\n",
       "      <td>1</td>\n",
       "      <td>640</td>\n",
       "      <td>646</td>\n",
       "      <td>1</td>\n",
       "      <td>320</td>\n",
       "      <td>320</td>\n",
       "      <td>1</td>\n",
       "      <td>280.0</td>\n",
       "      <td>282.799988</td>\n",
       "      <td>4.5</td>\n",
       "      <td>140.0</td>\n",
       "      <td>140.0</td>\n",
       "      <td>3.0</td>\n",
       "      <td>15</td>\n",
       "      <td>35</td>\n",
       "      <td>1</td>\n",
       "      <td>1</td>\n",
       "    </tr>\n",
       "    <tr>\n",
       "      <th>12</th>\n",
       "      <td>320</td>\n",
       "      <td>387</td>\n",
       "      <td>1</td>\n",
       "      <td>640</td>\n",
       "      <td>484</td>\n",
       "      <td>1</td>\n",
       "      <td>320</td>\n",
       "      <td>320</td>\n",
       "      <td>1</td>\n",
       "      <td>280.0</td>\n",
       "      <td>211.679993</td>\n",
       "      <td>4.5</td>\n",
       "      <td>140.0</td>\n",
       "      <td>140.0</td>\n",
       "      <td>3.0</td>\n",
       "      <td>15</td>\n",
       "      <td>41</td>\n",
       "      <td>1</td>\n",
       "      <td>1</td>\n",
       "    </tr>\n",
       "    <tr>\n",
       "      <th>13</th>\n",
       "      <td>384</td>\n",
       "      <td>616</td>\n",
       "      <td>1</td>\n",
       "      <td>768</td>\n",
       "      <td>770</td>\n",
       "      <td>1</td>\n",
       "      <td>384</td>\n",
       "      <td>384</td>\n",
       "      <td>1</td>\n",
       "      <td>280.0</td>\n",
       "      <td>280.700012</td>\n",
       "      <td>4.5</td>\n",
       "      <td>140.0</td>\n",
       "      <td>140.0</td>\n",
       "      <td>3.0</td>\n",
       "      <td>15</td>\n",
       "      <td>32</td>\n",
       "      <td>1</td>\n",
       "      <td>1</td>\n",
       "    </tr>\n",
       "    <tr>\n",
       "      <th>14</th>\n",
       "      <td>320</td>\n",
       "      <td>387</td>\n",
       "      <td>1</td>\n",
       "      <td>640</td>\n",
       "      <td>484</td>\n",
       "      <td>1</td>\n",
       "      <td>320</td>\n",
       "      <td>320</td>\n",
       "      <td>1</td>\n",
       "      <td>280.0</td>\n",
       "      <td>211.679993</td>\n",
       "      <td>4.5</td>\n",
       "      <td>140.0</td>\n",
       "      <td>140.0</td>\n",
       "      <td>3.0</td>\n",
       "      <td>15</td>\n",
       "      <td>38</td>\n",
       "      <td>1</td>\n",
       "      <td>1</td>\n",
       "    </tr>\n",
       "    <tr>\n",
       "      <th>15</th>\n",
       "      <td>320</td>\n",
       "      <td>517</td>\n",
       "      <td>1</td>\n",
       "      <td>640</td>\n",
       "      <td>646</td>\n",
       "      <td>1</td>\n",
       "      <td>320</td>\n",
       "      <td>320</td>\n",
       "      <td>1</td>\n",
       "      <td>280.0</td>\n",
       "      <td>282.799988</td>\n",
       "      <td>4.5</td>\n",
       "      <td>140.0</td>\n",
       "      <td>140.0</td>\n",
       "      <td>3.0</td>\n",
       "      <td>15</td>\n",
       "      <td>34</td>\n",
       "      <td>1</td>\n",
       "      <td>1</td>\n",
       "    </tr>\n",
       "    <tr>\n",
       "      <th>16</th>\n",
       "      <td>320</td>\n",
       "      <td>387</td>\n",
       "      <td>1</td>\n",
       "      <td>640</td>\n",
       "      <td>484</td>\n",
       "      <td>1</td>\n",
       "      <td>320</td>\n",
       "      <td>320</td>\n",
       "      <td>1</td>\n",
       "      <td>280.0</td>\n",
       "      <td>211.679993</td>\n",
       "      <td>4.5</td>\n",
       "      <td>140.0</td>\n",
       "      <td>140.0</td>\n",
       "      <td>3.0</td>\n",
       "      <td>15</td>\n",
       "      <td>33</td>\n",
       "      <td>1</td>\n",
       "      <td>1</td>\n",
       "    </tr>\n",
       "    <tr>\n",
       "      <th>17</th>\n",
       "      <td>384</td>\n",
       "      <td>616</td>\n",
       "      <td>1</td>\n",
       "      <td>768</td>\n",
       "      <td>770</td>\n",
       "      <td>1</td>\n",
       "      <td>384</td>\n",
       "      <td>384</td>\n",
       "      <td>1</td>\n",
       "      <td>280.0</td>\n",
       "      <td>280.700012</td>\n",
       "      <td>4.5</td>\n",
       "      <td>140.0</td>\n",
       "      <td>140.0</td>\n",
       "      <td>3.0</td>\n",
       "      <td>15</td>\n",
       "      <td>32</td>\n",
       "      <td>1</td>\n",
       "      <td>1</td>\n",
       "    </tr>\n",
       "    <tr>\n",
       "      <th>18</th>\n",
       "      <td>320</td>\n",
       "      <td>387</td>\n",
       "      <td>1</td>\n",
       "      <td>640</td>\n",
       "      <td>484</td>\n",
       "      <td>1</td>\n",
       "      <td>320</td>\n",
       "      <td>320</td>\n",
       "      <td>1</td>\n",
       "      <td>280.0</td>\n",
       "      <td>211.679993</td>\n",
       "      <td>4.5</td>\n",
       "      <td>140.0</td>\n",
       "      <td>140.0</td>\n",
       "      <td>3.0</td>\n",
       "      <td>15</td>\n",
       "      <td>33</td>\n",
       "      <td>1</td>\n",
       "      <td>1</td>\n",
       "    </tr>\n",
       "    <tr>\n",
       "      <th>19</th>\n",
       "      <td>384</td>\n",
       "      <td>616</td>\n",
       "      <td>1</td>\n",
       "      <td>768</td>\n",
       "      <td>770</td>\n",
       "      <td>1</td>\n",
       "      <td>384</td>\n",
       "      <td>384</td>\n",
       "      <td>1</td>\n",
       "      <td>280.0</td>\n",
       "      <td>280.700012</td>\n",
       "      <td>4.5</td>\n",
       "      <td>140.0</td>\n",
       "      <td>140.0</td>\n",
       "      <td>3.0</td>\n",
       "      <td>15</td>\n",
       "      <td>33</td>\n",
       "      <td>1</td>\n",
       "      <td>1</td>\n",
       "    </tr>\n",
       "    <tr>\n",
       "      <th>20</th>\n",
       "      <td>384</td>\n",
       "      <td>616</td>\n",
       "      <td>1</td>\n",
       "      <td>768</td>\n",
       "      <td>770</td>\n",
       "      <td>1</td>\n",
       "      <td>384</td>\n",
       "      <td>384</td>\n",
       "      <td>1</td>\n",
       "      <td>280.0</td>\n",
       "      <td>280.700012</td>\n",
       "      <td>4.5</td>\n",
       "      <td>140.0</td>\n",
       "      <td>140.0</td>\n",
       "      <td>3.0</td>\n",
       "      <td>15</td>\n",
       "      <td>31</td>\n",
       "      <td>1</td>\n",
       "      <td>1</td>\n",
       "    </tr>\n",
       "    <tr>\n",
       "      <th>21</th>\n",
       "      <td>384</td>\n",
       "      <td>616</td>\n",
       "      <td>1</td>\n",
       "      <td>768</td>\n",
       "      <td>770</td>\n",
       "      <td>1</td>\n",
       "      <td>384</td>\n",
       "      <td>384</td>\n",
       "      <td>1</td>\n",
       "      <td>280.0</td>\n",
       "      <td>280.700012</td>\n",
       "      <td>4.5</td>\n",
       "      <td>140.0</td>\n",
       "      <td>140.0</td>\n",
       "      <td>3.0</td>\n",
       "      <td>15</td>\n",
       "      <td>33</td>\n",
       "      <td>1</td>\n",
       "      <td>1</td>\n",
       "    </tr>\n",
       "    <tr>\n",
       "      <th>22</th>\n",
       "      <td>320</td>\n",
       "      <td>387</td>\n",
       "      <td>1</td>\n",
       "      <td>640</td>\n",
       "      <td>484</td>\n",
       "      <td>1</td>\n",
       "      <td>320</td>\n",
       "      <td>320</td>\n",
       "      <td>1</td>\n",
       "      <td>280.0</td>\n",
       "      <td>211.679993</td>\n",
       "      <td>4.5</td>\n",
       "      <td>140.0</td>\n",
       "      <td>140.0</td>\n",
       "      <td>3.0</td>\n",
       "      <td>15</td>\n",
       "      <td>35</td>\n",
       "      <td>1</td>\n",
       "      <td>1</td>\n",
       "    </tr>\n",
       "    <tr>\n",
       "      <th>23</th>\n",
       "      <td>320</td>\n",
       "      <td>517</td>\n",
       "      <td>1</td>\n",
       "      <td>640</td>\n",
       "      <td>646</td>\n",
       "      <td>1</td>\n",
       "      <td>320</td>\n",
       "      <td>320</td>\n",
       "      <td>1</td>\n",
       "      <td>280.0</td>\n",
       "      <td>282.799988</td>\n",
       "      <td>4.5</td>\n",
       "      <td>140.0</td>\n",
       "      <td>140.0</td>\n",
       "      <td>3.0</td>\n",
       "      <td>15</td>\n",
       "      <td>31</td>\n",
       "      <td>1</td>\n",
       "      <td>1</td>\n",
       "    </tr>\n",
       "    <tr>\n",
       "      <th>24</th>\n",
       "      <td>320</td>\n",
       "      <td>387</td>\n",
       "      <td>1</td>\n",
       "      <td>640</td>\n",
       "      <td>484</td>\n",
       "      <td>1</td>\n",
       "      <td>320</td>\n",
       "      <td>320</td>\n",
       "      <td>1</td>\n",
       "      <td>280.0</td>\n",
       "      <td>211.679993</td>\n",
       "      <td>4.5</td>\n",
       "      <td>140.0</td>\n",
       "      <td>140.0</td>\n",
       "      <td>3.0</td>\n",
       "      <td>15</td>\n",
       "      <td>34</td>\n",
       "      <td>1</td>\n",
       "      <td>1</td>\n",
       "    </tr>\n",
       "    <tr>\n",
       "      <th>25</th>\n",
       "      <td>320</td>\n",
       "      <td>517</td>\n",
       "      <td>1</td>\n",
       "      <td>640</td>\n",
       "      <td>646</td>\n",
       "      <td>1</td>\n",
       "      <td>320</td>\n",
       "      <td>320</td>\n",
       "      <td>1</td>\n",
       "      <td>280.0</td>\n",
       "      <td>282.799988</td>\n",
       "      <td>4.5</td>\n",
       "      <td>140.0</td>\n",
       "      <td>140.0</td>\n",
       "      <td>3.0</td>\n",
       "      <td>15</td>\n",
       "      <td>40</td>\n",
       "      <td>1</td>\n",
       "      <td>1</td>\n",
       "    </tr>\n",
       "    <tr>\n",
       "      <th>26</th>\n",
       "      <td>320</td>\n",
       "      <td>387</td>\n",
       "      <td>1</td>\n",
       "      <td>640</td>\n",
       "      <td>484</td>\n",
       "      <td>1</td>\n",
       "      <td>320</td>\n",
       "      <td>320</td>\n",
       "      <td>1</td>\n",
       "      <td>280.0</td>\n",
       "      <td>211.679993</td>\n",
       "      <td>4.5</td>\n",
       "      <td>140.0</td>\n",
       "      <td>140.0</td>\n",
       "      <td>3.0</td>\n",
       "      <td>15</td>\n",
       "      <td>38</td>\n",
       "      <td>1</td>\n",
       "      <td>1</td>\n",
       "    </tr>\n",
       "    <tr>\n",
       "      <th>27</th>\n",
       "      <td>384</td>\n",
       "      <td>616</td>\n",
       "      <td>1</td>\n",
       "      <td>768</td>\n",
       "      <td>770</td>\n",
       "      <td>1</td>\n",
       "      <td>384</td>\n",
       "      <td>384</td>\n",
       "      <td>1</td>\n",
       "      <td>280.0</td>\n",
       "      <td>280.700012</td>\n",
       "      <td>4.5</td>\n",
       "      <td>140.0</td>\n",
       "      <td>140.0</td>\n",
       "      <td>3.0</td>\n",
       "      <td>15</td>\n",
       "      <td>38</td>\n",
       "      <td>1</td>\n",
       "      <td>1</td>\n",
       "    </tr>\n",
       "    <tr>\n",
       "      <th>28</th>\n",
       "      <td>384</td>\n",
       "      <td>616</td>\n",
       "      <td>1</td>\n",
       "      <td>768</td>\n",
       "      <td>770</td>\n",
       "      <td>1</td>\n",
       "      <td>384</td>\n",
       "      <td>384</td>\n",
       "      <td>1</td>\n",
       "      <td>280.0</td>\n",
       "      <td>280.700012</td>\n",
       "      <td>4.5</td>\n",
       "      <td>140.0</td>\n",
       "      <td>140.0</td>\n",
       "      <td>3.0</td>\n",
       "      <td>15</td>\n",
       "      <td>35</td>\n",
       "      <td>1</td>\n",
       "      <td>1</td>\n",
       "    </tr>\n",
       "    <tr>\n",
       "      <th>29</th>\n",
       "      <td>384</td>\n",
       "      <td>616</td>\n",
       "      <td>1</td>\n",
       "      <td>768</td>\n",
       "      <td>770</td>\n",
       "      <td>1</td>\n",
       "      <td>384</td>\n",
       "      <td>384</td>\n",
       "      <td>1</td>\n",
       "      <td>280.0</td>\n",
       "      <td>280.700012</td>\n",
       "      <td>4.5</td>\n",
       "      <td>140.0</td>\n",
       "      <td>140.0</td>\n",
       "      <td>3.0</td>\n",
       "      <td>15</td>\n",
       "      <td>33</td>\n",
       "      <td>1</td>\n",
       "      <td>1</td>\n",
       "    </tr>\n",
       "    <tr>\n",
       "      <th>30</th>\n",
       "      <td>320</td>\n",
       "      <td>517</td>\n",
       "      <td>1</td>\n",
       "      <td>640</td>\n",
       "      <td>646</td>\n",
       "      <td>1</td>\n",
       "      <td>320</td>\n",
       "      <td>320</td>\n",
       "      <td>1</td>\n",
       "      <td>280.0</td>\n",
       "      <td>282.799988</td>\n",
       "      <td>4.5</td>\n",
       "      <td>140.0</td>\n",
       "      <td>140.0</td>\n",
       "      <td>3.0</td>\n",
       "      <td>15</td>\n",
       "      <td>31</td>\n",
       "      <td>1</td>\n",
       "      <td>1</td>\n",
       "    </tr>\n",
       "    <tr>\n",
       "      <th>31</th>\n",
       "      <td>320</td>\n",
       "      <td>387</td>\n",
       "      <td>1</td>\n",
       "      <td>640</td>\n",
       "      <td>484</td>\n",
       "      <td>1</td>\n",
       "      <td>320</td>\n",
       "      <td>320</td>\n",
       "      <td>1</td>\n",
       "      <td>280.0</td>\n",
       "      <td>211.679993</td>\n",
       "      <td>4.5</td>\n",
       "      <td>140.0</td>\n",
       "      <td>140.0</td>\n",
       "      <td>3.0</td>\n",
       "      <td>15</td>\n",
       "      <td>36</td>\n",
       "      <td>1</td>\n",
       "      <td>1</td>\n",
       "    </tr>\n",
       "    <tr>\n",
       "      <th>32</th>\n",
       "      <td>320</td>\n",
       "      <td>517</td>\n",
       "      <td>1</td>\n",
       "      <td>640</td>\n",
       "      <td>646</td>\n",
       "      <td>1</td>\n",
       "      <td>320</td>\n",
       "      <td>320</td>\n",
       "      <td>1</td>\n",
       "      <td>280.0</td>\n",
       "      <td>282.799988</td>\n",
       "      <td>4.5</td>\n",
       "      <td>140.0</td>\n",
       "      <td>140.0</td>\n",
       "      <td>3.0</td>\n",
       "      <td>15</td>\n",
       "      <td>36</td>\n",
       "      <td>1</td>\n",
       "      <td>1</td>\n",
       "    </tr>\n",
       "    <tr>\n",
       "      <th>33</th>\n",
       "      <td>384</td>\n",
       "      <td>614</td>\n",
       "      <td>1</td>\n",
       "      <td>768</td>\n",
       "      <td>768</td>\n",
       "      <td>1</td>\n",
       "      <td>384</td>\n",
       "      <td>384</td>\n",
       "      <td>1</td>\n",
       "      <td>280.0</td>\n",
       "      <td>280.279999</td>\n",
       "      <td>4.5</td>\n",
       "      <td>140.0</td>\n",
       "      <td>140.0</td>\n",
       "      <td>3.0</td>\n",
       "      <td>15</td>\n",
       "      <td>31</td>\n",
       "      <td>1</td>\n",
       "      <td>1</td>\n",
       "    </tr>\n",
       "    <tr>\n",
       "      <th>34</th>\n",
       "      <td>320</td>\n",
       "      <td>387</td>\n",
       "      <td>1</td>\n",
       "      <td>640</td>\n",
       "      <td>484</td>\n",
       "      <td>1</td>\n",
       "      <td>320</td>\n",
       "      <td>320</td>\n",
       "      <td>1</td>\n",
       "      <td>280.0</td>\n",
       "      <td>211.679993</td>\n",
       "      <td>4.5</td>\n",
       "      <td>140.0</td>\n",
       "      <td>140.0</td>\n",
       "      <td>3.0</td>\n",
       "      <td>15</td>\n",
       "      <td>33</td>\n",
       "      <td>1</td>\n",
       "      <td>1</td>\n",
       "    </tr>\n",
       "    <tr>\n",
       "      <th>35</th>\n",
       "      <td>384</td>\n",
       "      <td>616</td>\n",
       "      <td>1</td>\n",
       "      <td>768</td>\n",
       "      <td>770</td>\n",
       "      <td>1</td>\n",
       "      <td>384</td>\n",
       "      <td>384</td>\n",
       "      <td>1</td>\n",
       "      <td>280.0</td>\n",
       "      <td>280.700012</td>\n",
       "      <td>4.5</td>\n",
       "      <td>140.0</td>\n",
       "      <td>140.0</td>\n",
       "      <td>3.0</td>\n",
       "      <td>15</td>\n",
       "      <td>35</td>\n",
       "      <td>1</td>\n",
       "      <td>1</td>\n",
       "    </tr>\n",
       "    <tr>\n",
       "      <th>36</th>\n",
       "      <td>320</td>\n",
       "      <td>387</td>\n",
       "      <td>1</td>\n",
       "      <td>640</td>\n",
       "      <td>484</td>\n",
       "      <td>1</td>\n",
       "      <td>320</td>\n",
       "      <td>320</td>\n",
       "      <td>1</td>\n",
       "      <td>280.0</td>\n",
       "      <td>211.679993</td>\n",
       "      <td>4.5</td>\n",
       "      <td>140.0</td>\n",
       "      <td>140.0</td>\n",
       "      <td>3.0</td>\n",
       "      <td>15</td>\n",
       "      <td>35</td>\n",
       "      <td>1</td>\n",
       "      <td>1</td>\n",
       "    </tr>\n",
       "    <tr>\n",
       "      <th>37</th>\n",
       "      <td>384</td>\n",
       "      <td>616</td>\n",
       "      <td>1</td>\n",
       "      <td>768</td>\n",
       "      <td>770</td>\n",
       "      <td>1</td>\n",
       "      <td>384</td>\n",
       "      <td>384</td>\n",
       "      <td>1</td>\n",
       "      <td>280.0</td>\n",
       "      <td>280.700012</td>\n",
       "      <td>4.5</td>\n",
       "      <td>140.0</td>\n",
       "      <td>140.0</td>\n",
       "      <td>3.0</td>\n",
       "      <td>15</td>\n",
       "      <td>33</td>\n",
       "      <td>1</td>\n",
       "      <td>1</td>\n",
       "    </tr>\n",
       "    <tr>\n",
       "      <th>38</th>\n",
       "      <td>320</td>\n",
       "      <td>517</td>\n",
       "      <td>1</td>\n",
       "      <td>640</td>\n",
       "      <td>646</td>\n",
       "      <td>1</td>\n",
       "      <td>320</td>\n",
       "      <td>320</td>\n",
       "      <td>1</td>\n",
       "      <td>280.0</td>\n",
       "      <td>282.799988</td>\n",
       "      <td>4.5</td>\n",
       "      <td>140.0</td>\n",
       "      <td>140.0</td>\n",
       "      <td>3.0</td>\n",
       "      <td>15</td>\n",
       "      <td>35</td>\n",
       "      <td>1</td>\n",
       "      <td>1</td>\n",
       "    </tr>\n",
       "    <tr>\n",
       "      <th>39</th>\n",
       "      <td>320</td>\n",
       "      <td>387</td>\n",
       "      <td>1</td>\n",
       "      <td>640</td>\n",
       "      <td>484</td>\n",
       "      <td>1</td>\n",
       "      <td>320</td>\n",
       "      <td>320</td>\n",
       "      <td>1</td>\n",
       "      <td>280.0</td>\n",
       "      <td>211.679993</td>\n",
       "      <td>4.5</td>\n",
       "      <td>140.0</td>\n",
       "      <td>140.0</td>\n",
       "      <td>3.0</td>\n",
       "      <td>15</td>\n",
       "      <td>38</td>\n",
       "      <td>1</td>\n",
       "      <td>1</td>\n",
       "    </tr>\n",
       "    <tr>\n",
       "      <th>40</th>\n",
       "      <td>384</td>\n",
       "      <td>616</td>\n",
       "      <td>1</td>\n",
       "      <td>768</td>\n",
       "      <td>770</td>\n",
       "      <td>1</td>\n",
       "      <td>384</td>\n",
       "      <td>384</td>\n",
       "      <td>1</td>\n",
       "      <td>280.0</td>\n",
       "      <td>280.700012</td>\n",
       "      <td>4.5</td>\n",
       "      <td>140.0</td>\n",
       "      <td>140.0</td>\n",
       "      <td>3.0</td>\n",
       "      <td>15</td>\n",
       "      <td>31</td>\n",
       "      <td>1</td>\n",
       "      <td>1</td>\n",
       "    </tr>\n",
       "    <tr>\n",
       "      <th>41</th>\n",
       "      <td>384</td>\n",
       "      <td>540</td>\n",
       "      <td>1</td>\n",
       "      <td>768</td>\n",
       "      <td>676</td>\n",
       "      <td>1</td>\n",
       "      <td>384</td>\n",
       "      <td>384</td>\n",
       "      <td>1</td>\n",
       "      <td>280.0</td>\n",
       "      <td>246.119995</td>\n",
       "      <td>4.5</td>\n",
       "      <td>140.0</td>\n",
       "      <td>140.0</td>\n",
       "      <td>3.0</td>\n",
       "      <td>15</td>\n",
       "      <td>38</td>\n",
       "      <td>1</td>\n",
       "      <td>1</td>\n",
       "    </tr>\n",
       "    <tr>\n",
       "      <th>42</th>\n",
       "      <td>384</td>\n",
       "      <td>616</td>\n",
       "      <td>1</td>\n",
       "      <td>768</td>\n",
       "      <td>770</td>\n",
       "      <td>1</td>\n",
       "      <td>384</td>\n",
       "      <td>384</td>\n",
       "      <td>1</td>\n",
       "      <td>280.0</td>\n",
       "      <td>280.700012</td>\n",
       "      <td>4.5</td>\n",
       "      <td>140.0</td>\n",
       "      <td>140.0</td>\n",
       "      <td>3.0</td>\n",
       "      <td>15</td>\n",
       "      <td>36</td>\n",
       "      <td>1</td>\n",
       "      <td>1</td>\n",
       "    </tr>\n",
       "    <tr>\n",
       "      <th>43</th>\n",
       "      <td>320</td>\n",
       "      <td>387</td>\n",
       "      <td>1</td>\n",
       "      <td>640</td>\n",
       "      <td>484</td>\n",
       "      <td>1</td>\n",
       "      <td>320</td>\n",
       "      <td>320</td>\n",
       "      <td>1</td>\n",
       "      <td>280.0</td>\n",
       "      <td>211.679993</td>\n",
       "      <td>4.5</td>\n",
       "      <td>140.0</td>\n",
       "      <td>140.0</td>\n",
       "      <td>3.0</td>\n",
       "      <td>15</td>\n",
       "      <td>35</td>\n",
       "      <td>1</td>\n",
       "      <td>1</td>\n",
       "    </tr>\n",
       "    <tr>\n",
       "      <th>44</th>\n",
       "      <td>384</td>\n",
       "      <td>616</td>\n",
       "      <td>1</td>\n",
       "      <td>768</td>\n",
       "      <td>770</td>\n",
       "      <td>1</td>\n",
       "      <td>384</td>\n",
       "      <td>384</td>\n",
       "      <td>1</td>\n",
       "      <td>280.0</td>\n",
       "      <td>280.700012</td>\n",
       "      <td>4.5</td>\n",
       "      <td>140.0</td>\n",
       "      <td>140.0</td>\n",
       "      <td>3.0</td>\n",
       "      <td>15</td>\n",
       "      <td>33</td>\n",
       "      <td>1</td>\n",
       "      <td>1</td>\n",
       "    </tr>\n",
       "    <tr>\n",
       "      <th>45</th>\n",
       "      <td>384</td>\n",
       "      <td>538</td>\n",
       "      <td>1</td>\n",
       "      <td>768</td>\n",
       "      <td>672</td>\n",
       "      <td>1</td>\n",
       "      <td>384</td>\n",
       "      <td>384</td>\n",
       "      <td>1</td>\n",
       "      <td>280.0</td>\n",
       "      <td>245.139999</td>\n",
       "      <td>4.5</td>\n",
       "      <td>140.0</td>\n",
       "      <td>140.0</td>\n",
       "      <td>3.0</td>\n",
       "      <td>15</td>\n",
       "      <td>31</td>\n",
       "      <td>1</td>\n",
       "      <td>1</td>\n",
       "    </tr>\n",
       "    <tr>\n",
       "      <th>46</th>\n",
       "      <td>384</td>\n",
       "      <td>616</td>\n",
       "      <td>1</td>\n",
       "      <td>768</td>\n",
       "      <td>770</td>\n",
       "      <td>1</td>\n",
       "      <td>384</td>\n",
       "      <td>384</td>\n",
       "      <td>1</td>\n",
       "      <td>280.0</td>\n",
       "      <td>280.700012</td>\n",
       "      <td>4.5</td>\n",
       "      <td>140.0</td>\n",
       "      <td>140.0</td>\n",
       "      <td>3.0</td>\n",
       "      <td>15</td>\n",
       "      <td>35</td>\n",
       "      <td>1</td>\n",
       "      <td>1</td>\n",
       "    </tr>\n",
       "    <tr>\n",
       "      <th>47</th>\n",
       "      <td>320</td>\n",
       "      <td>517</td>\n",
       "      <td>1</td>\n",
       "      <td>640</td>\n",
       "      <td>646</td>\n",
       "      <td>1</td>\n",
       "      <td>320</td>\n",
       "      <td>320</td>\n",
       "      <td>1</td>\n",
       "      <td>280.0</td>\n",
       "      <td>282.799988</td>\n",
       "      <td>4.5</td>\n",
       "      <td>140.0</td>\n",
       "      <td>140.0</td>\n",
       "      <td>3.0</td>\n",
       "      <td>15</td>\n",
       "      <td>36</td>\n",
       "      <td>1</td>\n",
       "      <td>1</td>\n",
       "    </tr>\n",
       "    <tr>\n",
       "      <th>48</th>\n",
       "      <td>320</td>\n",
       "      <td>517</td>\n",
       "      <td>1</td>\n",
       "      <td>640</td>\n",
       "      <td>646</td>\n",
       "      <td>1</td>\n",
       "      <td>320</td>\n",
       "      <td>320</td>\n",
       "      <td>1</td>\n",
       "      <td>280.0</td>\n",
       "      <td>282.799988</td>\n",
       "      <td>4.5</td>\n",
       "      <td>140.0</td>\n",
       "      <td>140.0</td>\n",
       "      <td>3.0</td>\n",
       "      <td>15</td>\n",
       "      <td>35</td>\n",
       "      <td>1</td>\n",
       "      <td>1</td>\n",
       "    </tr>\n",
       "    <tr>\n",
       "      <th>49</th>\n",
       "      <td>320</td>\n",
       "      <td>387</td>\n",
       "      <td>1</td>\n",
       "      <td>640</td>\n",
       "      <td>484</td>\n",
       "      <td>1</td>\n",
       "      <td>320</td>\n",
       "      <td>320</td>\n",
       "      <td>1</td>\n",
       "      <td>280.0</td>\n",
       "      <td>211.679993</td>\n",
       "      <td>4.5</td>\n",
       "      <td>140.0</td>\n",
       "      <td>140.0</td>\n",
       "      <td>3.0</td>\n",
       "      <td>15</td>\n",
       "      <td>33</td>\n",
       "      <td>1</td>\n",
       "      <td>1</td>\n",
       "    </tr>\n",
       "  </tbody>\n",
       "</table>\n",
       "</div>"
      ],
      "text/plain": [
       "    lNx  lNy  lNz  eNx  eNy  eNz  rNx  rNy  rNz  eFOVx       eFOVy  eFOVz  \\\n",
       "0   320  387    1  640  484    1  320  320    1  280.0  211.679993    4.5   \n",
       "1   384  616    1  768  770    1  384  384    1  280.0  280.700012    4.5   \n",
       "2   320  387    1  640  484    1  320  320    1  280.0  211.679993    4.5   \n",
       "3   320  517    1  640  646    1  320  320    1  280.0  282.799988    4.5   \n",
       "4   320  387    1  640  484    1  320  320    1  280.0  211.679993    4.5   \n",
       "5   320  387    1  640  484    1  320  320    1  280.0  211.679993    4.5   \n",
       "6   320  387    1  640  484    1  320  320    1  280.0  211.679993    4.5   \n",
       "7   320  387    1  640  484    1  320  320    1  280.0  211.679993    4.5   \n",
       "8   384  616    1  768  770    1  384  384    1  280.0  280.700012    4.5   \n",
       "9   320  387    1  640  484    1  320  320    1  280.0  211.679993    4.5   \n",
       "10  384  616    1  768  770    1  384  384    1  280.0  280.700012    4.5   \n",
       "11  320  517    1  640  646    1  320  320    1  280.0  282.799988    4.5   \n",
       "12  320  387    1  640  484    1  320  320    1  280.0  211.679993    4.5   \n",
       "13  384  616    1  768  770    1  384  384    1  280.0  280.700012    4.5   \n",
       "14  320  387    1  640  484    1  320  320    1  280.0  211.679993    4.5   \n",
       "15  320  517    1  640  646    1  320  320    1  280.0  282.799988    4.5   \n",
       "16  320  387    1  640  484    1  320  320    1  280.0  211.679993    4.5   \n",
       "17  384  616    1  768  770    1  384  384    1  280.0  280.700012    4.5   \n",
       "18  320  387    1  640  484    1  320  320    1  280.0  211.679993    4.5   \n",
       "19  384  616    1  768  770    1  384  384    1  280.0  280.700012    4.5   \n",
       "20  384  616    1  768  770    1  384  384    1  280.0  280.700012    4.5   \n",
       "21  384  616    1  768  770    1  384  384    1  280.0  280.700012    4.5   \n",
       "22  320  387    1  640  484    1  320  320    1  280.0  211.679993    4.5   \n",
       "23  320  517    1  640  646    1  320  320    1  280.0  282.799988    4.5   \n",
       "24  320  387    1  640  484    1  320  320    1  280.0  211.679993    4.5   \n",
       "25  320  517    1  640  646    1  320  320    1  280.0  282.799988    4.5   \n",
       "26  320  387    1  640  484    1  320  320    1  280.0  211.679993    4.5   \n",
       "27  384  616    1  768  770    1  384  384    1  280.0  280.700012    4.5   \n",
       "28  384  616    1  768  770    1  384  384    1  280.0  280.700012    4.5   \n",
       "29  384  616    1  768  770    1  384  384    1  280.0  280.700012    4.5   \n",
       "30  320  517    1  640  646    1  320  320    1  280.0  282.799988    4.5   \n",
       "31  320  387    1  640  484    1  320  320    1  280.0  211.679993    4.5   \n",
       "32  320  517    1  640  646    1  320  320    1  280.0  282.799988    4.5   \n",
       "33  384  614    1  768  768    1  384  384    1  280.0  280.279999    4.5   \n",
       "34  320  387    1  640  484    1  320  320    1  280.0  211.679993    4.5   \n",
       "35  384  616    1  768  770    1  384  384    1  280.0  280.700012    4.5   \n",
       "36  320  387    1  640  484    1  320  320    1  280.0  211.679993    4.5   \n",
       "37  384  616    1  768  770    1  384  384    1  280.0  280.700012    4.5   \n",
       "38  320  517    1  640  646    1  320  320    1  280.0  282.799988    4.5   \n",
       "39  320  387    1  640  484    1  320  320    1  280.0  211.679993    4.5   \n",
       "40  384  616    1  768  770    1  384  384    1  280.0  280.700012    4.5   \n",
       "41  384  540    1  768  676    1  384  384    1  280.0  246.119995    4.5   \n",
       "42  384  616    1  768  770    1  384  384    1  280.0  280.700012    4.5   \n",
       "43  320  387    1  640  484    1  320  320    1  280.0  211.679993    4.5   \n",
       "44  384  616    1  768  770    1  384  384    1  280.0  280.700012    4.5   \n",
       "45  384  538    1  768  672    1  384  384    1  280.0  245.139999    4.5   \n",
       "46  384  616    1  768  770    1  384  384    1  280.0  280.700012    4.5   \n",
       "47  320  517    1  640  646    1  320  320    1  280.0  282.799988    4.5   \n",
       "48  320  517    1  640  646    1  320  320    1  280.0  282.799988    4.5   \n",
       "49  320  387    1  640  484    1  320  320    1  280.0  211.679993    4.5   \n",
       "\n",
       "    rFOVx  rFOVy  rFOVz  ncoils  nslices  nreps  ncontrasts  \n",
       "0   140.0  140.0    3.0      15       37      1           1  \n",
       "1   140.0  140.0    3.0      15       31      1           1  \n",
       "2   140.0  140.0    3.0      15       38      1           1  \n",
       "3   140.0  140.0    3.0      15       33      1           1  \n",
       "4   140.0  140.0    3.0      15       40      1           1  \n",
       "5   140.0  140.0    3.0      15       38      1           1  \n",
       "6   140.0  140.0    3.0      15       38      1           1  \n",
       "7   140.0  140.0    3.0      15       36      1           1  \n",
       "8   140.0  140.0    3.0      15       34      1           1  \n",
       "9   140.0  140.0    3.0      15       39      1           1  \n",
       "10  140.0  140.0    3.0      15       31      1           1  \n",
       "11  140.0  140.0    3.0      15       35      1           1  \n",
       "12  140.0  140.0    3.0      15       41      1           1  \n",
       "13  140.0  140.0    3.0      15       32      1           1  \n",
       "14  140.0  140.0    3.0      15       38      1           1  \n",
       "15  140.0  140.0    3.0      15       34      1           1  \n",
       "16  140.0  140.0    3.0      15       33      1           1  \n",
       "17  140.0  140.0    3.0      15       32      1           1  \n",
       "18  140.0  140.0    3.0      15       33      1           1  \n",
       "19  140.0  140.0    3.0      15       33      1           1  \n",
       "20  140.0  140.0    3.0      15       31      1           1  \n",
       "21  140.0  140.0    3.0      15       33      1           1  \n",
       "22  140.0  140.0    3.0      15       35      1           1  \n",
       "23  140.0  140.0    3.0      15       31      1           1  \n",
       "24  140.0  140.0    3.0      15       34      1           1  \n",
       "25  140.0  140.0    3.0      15       40      1           1  \n",
       "26  140.0  140.0    3.0      15       38      1           1  \n",
       "27  140.0  140.0    3.0      15       38      1           1  \n",
       "28  140.0  140.0    3.0      15       35      1           1  \n",
       "29  140.0  140.0    3.0      15       33      1           1  \n",
       "30  140.0  140.0    3.0      15       31      1           1  \n",
       "31  140.0  140.0    3.0      15       36      1           1  \n",
       "32  140.0  140.0    3.0      15       36      1           1  \n",
       "33  140.0  140.0    3.0      15       31      1           1  \n",
       "34  140.0  140.0    3.0      15       33      1           1  \n",
       "35  140.0  140.0    3.0      15       35      1           1  \n",
       "36  140.0  140.0    3.0      15       35      1           1  \n",
       "37  140.0  140.0    3.0      15       33      1           1  \n",
       "38  140.0  140.0    3.0      15       35      1           1  \n",
       "39  140.0  140.0    3.0      15       38      1           1  \n",
       "40  140.0  140.0    3.0      15       31      1           1  \n",
       "41  140.0  140.0    3.0      15       38      1           1  \n",
       "42  140.0  140.0    3.0      15       36      1           1  \n",
       "43  140.0  140.0    3.0      15       35      1           1  \n",
       "44  140.0  140.0    3.0      15       33      1           1  \n",
       "45  140.0  140.0    3.0      15       31      1           1  \n",
       "46  140.0  140.0    3.0      15       35      1           1  \n",
       "47  140.0  140.0    3.0      15       36      1           1  \n",
       "48  140.0  140.0    3.0      15       35      1           1  \n",
       "49  140.0  140.0    3.0      15       33      1           1  "
      ]
     },
     "execution_count": 5,
     "metadata": {},
     "output_type": "execute_result"
    }
   ],
   "source": [
    "all_info = [np.load(fname, allow_pickle=True)['info'].item() for fname in filenames]\n",
    "pd_info = pd.DataFrame(all_info)\n",
    "pd_info"
   ]
  },
  {
   "cell_type": "code",
   "execution_count": 6,
   "metadata": {},
   "outputs": [
    {
     "data": {
      "text/plain": [
       "(384, 616)"
      ]
     },
     "execution_count": 6,
     "metadata": {},
     "output_type": "execute_result"
    }
   ],
   "source": [
    "mNx, mNy = pd_info['lNx'].max(), pd_info['lNy'].max()\n",
    "mNx, mNy"
   ]
  },
  {
   "cell_type": "code",
   "execution_count": 7,
   "metadata": {},
   "outputs": [
    {
     "data": {
      "text/plain": [
       "1740"
      ]
     },
     "execution_count": 7,
     "metadata": {},
     "output_type": "execute_result"
    }
   ],
   "source": [
    "pd_info['nslices'].sum()"
   ]
  },
  {
   "cell_type": "code",
   "execution_count": 8,
   "metadata": {},
   "outputs": [
    {
     "data": {
      "text/plain": [
       "(40, 15, 517, 320)"
      ]
     },
     "execution_count": 8,
     "metadata": {},
     "output_type": "execute_result"
    }
   ],
   "source": [
    "data_orig = np.squeeze(kspace)\n",
    "data_orig.shape"
   ]
  },
  {
   "cell_type": "code",
   "execution_count": 9,
   "metadata": {},
   "outputs": [
    {
     "data": {
      "image/png": "[encoded data removed]",
      "text/plain": [
       "<Figure size 432x288 with 1 Axes>"
      ]
     },
     "metadata": {
      "needs_background": "light"
     },
     "output_type": "display_data"
    }
   ],
   "source": [
    "mask_k = np.zeros((mNy, mNx))\n",
    "mask_k[::4,:] = 1\n",
    "\n",
    "w = 10;\n",
    "mask_w = np.zeros((mNy, mNx))\n",
    "mask_w[mNy//2-w:mNy//2+w,:] = 1\n",
    "\n",
    "mask_t = np.logical_or(mask_k, mask_w)\n",
    "\n",
    "plt.imshow(mask_t, cmap='gray')#,interpolation='none')\n",
    "plt.show()"
   ]
  },
  {
   "cell_type": "code",
   "execution_count": 9,
   "metadata": {},
   "outputs": [
    {
     "data": {
      "text/plain": [
       "(40, 15, 616, 384)"
      ]
     },
     "execution_count": 9,
     "metadata": {},
     "output_type": "execute_result"
    }
   ],
   "source": [
    "s = data_orig.shape\n",
    "padding = [mNy-s[-2], mNx-s[-1]]\n",
    "# data = tf.pad(data_orig, [[0,0], [0,0], [1, 1], [2, 2]], \"CONSTANT\")  \n",
    "data = np.pad(data_orig, [[0,0], [0,0], [int(np.floor(padding[0]/2)), int(np.ceil(padding[0]/2))], \n",
    "                          [int(np.floor(padding[1]/2)), int(np.ceil(padding[1]/2))]],  \"constant\")\n",
    "data.shape"
   ]
  },
  {
   "cell_type": "code",
   "execution_count": 11,
   "metadata": {},
   "outputs": [
    {
     "data": {
      "image/png": "[encoded data removed]",
      "text/plain": [
       "<Figure size 432x288 with 1 Axes>"
      ]
     },
     "metadata": {
      "needs_background": "light"
     },
     "output_type": "display_data"
    },
    {
     "name": "stdout",
     "output_type": "stream",
     "text": [
      "Wall time: 3.01 s\n"
     ]
    }
   ],
   "source": [
    "%%time\n",
    "im = np.fft.fftshift(scipy.fft.fft2(data, workers=os.cpu_count()))\n",
    "im = np.sqrt(np.sum(im**2,1))\n",
    "plt.imshow(np.abs(im[5]), cmap='gray')\n",
    "plt.show()"
   ]
  },
  {
   "cell_type": "code",
   "execution_count": 12,
   "metadata": {
    "scrolled": false
   },
   "outputs": [
    {
     "name": "stdout",
     "output_type": "stream",
     "text": [
      "1.18 s ± 37.2 ms per loop (mean ± std. dev. of 7 runs, 1 loop each)\n"
     ]
    }
   ],
   "source": [
    "%timeit scipy.fft.fft2(data, workers=os.cpu_count())"
   ]
  },
  {
   "cell_type": "code",
   "execution_count": 13,
   "metadata": {},
   "outputs": [],
   "source": [
    "# import cupy as cp\n",
    "# import cupyx.scipy.fft as cufft\n",
    "# import scipy.fft\n",
    "# # scipy.fft.set_global_backend(cufft)\n",
    "# import cupyx.scipy.fft\n"
   ]
  },
  {
   "cell_type": "code",
   "execution_count": 13,
   "metadata": {},
   "outputs": [],
   "source": [
    "class MultiSliceKSpaceGenerator(tf.keras.utils.Sequence):\n",
    "    def __init__(self,npz_dir, maxSize):\n",
    "        self.filenames = glob.glob(npz_dir+\"/*.npz\")\n",
    "        self.maxSize = maxSize\n",
    "        \n",
    "    def __len__(self):\n",
    "        return len(self.filenames)\n",
    "    \n",
    "    def __getitem__(self, index):\n",
    "        return self.getitem(index)\n",
    "    def getitem(self, index):\n",
    "        return self.get_padded_kspace(index)\n",
    "    \n",
    "    def get_padded_kspace(self, index):\n",
    "        source = np.load(filenames[index], allow_pickle=True)\n",
    "        kspace = source['kspace']\n",
    "        data_orig = np.squeeze(kspace)\n",
    "        s = data_orig.shape\n",
    "        info = source['info'].item()\n",
    "        lNx,lNy = info['lNx'],info['lNy']\n",
    "        padding = [self.maxSize[1]-lNy, self.maxSize[0]-lNx]\n",
    "        data = np.pad(data_orig, [[0,0], [0,0], [int(np.floor(padding[0]/2)), int(np.ceil(padding[0]/2))], \n",
    "                          [int(np.floor(padding[1]/2)), int(np.ceil(padding[1]/2))]],  \"constant\")\n",
    "        return data\n",
    "    \n",
    "    def get_uuid(self, index):\n",
    "        return pathlib.Path(self.filenames[index]).stem\n",
    "    \n",
    "    @staticmethod\n",
    "    def transform_to_images_coils(data):\n",
    "        return np.fft.fftshift(scipy.fft.fft2(data, workers=os.cpu_count()))\n",
    "    @staticmethod\n",
    "    def combine_coil_images(im):\n",
    "        return np.sqrt(np.sum(im**2,1))\n",
    "    @staticmethod\n",
    "    def transform_to_images(data):\n",
    "        return MultiSliceKSpaceGenerator.combine_coil_images(\n",
    "            MultiSliceKSpaceGenerator.transform_to_images_coils(data))\n",
    "\n",
    "\n"
   ]
  },
  {
   "cell_type": "code",
   "execution_count": 14,
   "metadata": {},
   "outputs": [
    {
     "name": "stdout",
     "output_type": "stream",
     "text": [
      "Wall time: 6.19 s\n",
      "Wall time: 2.13 s\n"
     ]
    },
    {
     "data": {
      "image/png": "[encoded data removed]",
      "text/plain": [
       "<Figure size 432x288 with 1 Axes>"
      ]
     },
     "metadata": {
      "needs_background": "light"
     },
     "output_type": "display_data"
    }
   ],
   "source": [
    "kspacegen = MultiSliceKSpaceGenerator(out_dir, [mNx, mNy])\n",
    "%time X = kspacegen[10]\n",
    "%time images = kspacegen.transform_to_images(X)\n",
    "plt.imshow(np.abs(images[5]), cmap='gray');plt.show()"
   ]
  },
  {
   "cell_type": "code",
   "execution_count": 16,
   "metadata": {},
   "outputs": [
    {
     "data": {
      "application/vnd.jupyter.widget-view+json": {
       "model_id": "6fe8a00f5ca348c69cf5e2a5504ba960",
       "version_major": 2,
       "version_minor": 0
      },
      "text/plain": [
       "HBox(children=(FloatProgress(value=0.0, max=50.0), HTML(value='')))"
      ]
     },
     "metadata": {},
     "output_type": "display_data"
    },
    {
     "data": {
      "application/vnd.jupyter.widget-view+json": {
       "model_id": "",
       "version_major": 2,
       "version_minor": 0
      },
      "text/plain": [
       "HBox(children=(FloatProgress(value=0.0, max=37.0), HTML(value='')))"
      ]
     },
     "metadata": {},
     "output_type": "display_data"
    },
    {
     "data": {
      "application/vnd.jupyter.widget-view+json": {
       "model_id": "",
       "version_major": 2,
       "version_minor": 0
      },
      "text/plain": [
       "HBox(children=(FloatProgress(value=0.0, max=31.0), HTML(value='')))"
      ]
     },
     "metadata": {},
     "output_type": "display_data"
    },
    {
     "data": {
      "application/vnd.jupyter.widget-view+json": {
       "model_id": "",
       "version_major": 2,
       "version_minor": 0
      },
      "text/plain": [
       "HBox(children=(FloatProgress(value=0.0, max=38.0), HTML(value='')))"
      ]
     },
     "metadata": {},
     "output_type": "display_data"
    },
    {
     "data": {
      "application/vnd.jupyter.widget-view+json": {
       "model_id": "",
       "version_major": 2,
       "version_minor": 0
      },
      "text/plain": [
       "HBox(children=(FloatProgress(value=0.0, max=33.0), HTML(value='')))"
      ]
     },
     "metadata": {},
     "output_type": "display_data"
    },
    {
     "data": {
      "application/vnd.jupyter.widget-view+json": {
       "model_id": "",
       "version_major": 2,
       "version_minor": 0
      },
      "text/plain": [
       "HBox(children=(FloatProgress(value=0.0, max=40.0), HTML(value='')))"
      ]
     },
     "metadata": {},
     "output_type": "display_data"
    },
    {
     "data": {
      "application/vnd.jupyter.widget-view+json": {
       "model_id": "",
       "version_major": 2,
       "version_minor": 0
      },
      "text/plain": [
       "HBox(children=(FloatProgress(value=0.0, max=38.0), HTML(value='')))"
      ]
     },
     "metadata": {},
     "output_type": "display_data"
    },
    {
     "data": {
      "application/vnd.jupyter.widget-view+json": {
       "model_id": "",
       "version_major": 2,
       "version_minor": 0
      },
      "text/plain": [
       "HBox(children=(FloatProgress(value=0.0, max=38.0), HTML(value='')))"
      ]
     },
     "metadata": {},
     "output_type": "display_data"
    },
    {
     "data": {
      "application/vnd.jupyter.widget-view+json": {
       "model_id": "",
       "version_major": 2,
       "version_minor": 0
      },
      "text/plain": [
       "HBox(children=(FloatProgress(value=0.0, max=36.0), HTML(value='')))"
      ]
     },
     "metadata": {},
     "output_type": "display_data"
    },
    {
     "data": {
      "application/vnd.jupyter.widget-view+json": {
       "model_id": "",
       "version_major": 2,
       "version_minor": 0
      },
      "text/plain": [
       "HBox(children=(FloatProgress(value=0.0, max=34.0), HTML(value='')))"
      ]
     },
     "metadata": {},
     "output_type": "display_data"
    },
    {
     "data": {
      "application/vnd.jupyter.widget-view+json": {
       "model_id": "",
       "version_major": 2,
       "version_minor": 0
      },
      "text/plain": [
       "HBox(children=(FloatProgress(value=0.0, max=39.0), HTML(value='')))"
      ]
     },
     "metadata": {},
     "output_type": "display_data"
    },
    {
     "data": {
      "application/vnd.jupyter.widget-view+json": {
       "model_id": "",
       "version_major": 2,
       "version_minor": 0
      },
      "text/plain": [
       "HBox(children=(FloatProgress(value=0.0, max=31.0), HTML(value='')))"
      ]
     },
     "metadata": {},
     "output_type": "display_data"
    },
    {
     "data": {
      "application/vnd.jupyter.widget-view+json": {
       "model_id": "",
       "version_major": 2,
       "version_minor": 0
      },
      "text/plain": [
       "HBox(children=(FloatProgress(value=0.0, max=35.0), HTML(value='')))"
      ]
     },
     "metadata": {},
     "output_type": "display_data"
    },
    {
     "data": {
      "application/vnd.jupyter.widget-view+json": {
       "model_id": "",
       "version_major": 2,
       "version_minor": 0
      },
      "text/plain": [
       "HBox(children=(FloatProgress(value=0.0, max=41.0), HTML(value='')))"
      ]
     },
     "metadata": {},
     "output_type": "display_data"
    },
    {
     "data": {
      "application/vnd.jupyter.widget-view+json": {
       "model_id": "",
       "version_major": 2,
       "version_minor": 0
      },
      "text/plain": [
       "HBox(children=(FloatProgress(value=0.0, max=32.0), HTML(value='')))"
      ]
     },
     "metadata": {},
     "output_type": "display_data"
    },
    {
     "data": {
      "application/vnd.jupyter.widget-view+json": {
       "model_id": "",
       "version_major": 2,
       "version_minor": 0
      },
      "text/plain": [
       "HBox(children=(FloatProgress(value=0.0, max=38.0), HTML(value='')))"
      ]
     },
     "metadata": {},
     "output_type": "display_data"
    },
    {
     "data": {
      "application/vnd.jupyter.widget-view+json": {
       "model_id": "",
       "version_major": 2,
       "version_minor": 0
      },
      "text/plain": [
       "HBox(children=(FloatProgress(value=0.0, max=34.0), HTML(value='')))"
      ]
     },
     "metadata": {},
     "output_type": "display_data"
    },
    {
     "data": {
      "application/vnd.jupyter.widget-view+json": {
       "model_id": "",
       "version_major": 2,
       "version_minor": 0
      },
      "text/plain": [
       "HBox(children=(FloatProgress(value=0.0, max=33.0), HTML(value='')))"
      ]
     },
     "metadata": {},
     "output_type": "display_data"
    },
    {
     "data": {
      "application/vnd.jupyter.widget-view+json": {
       "model_id": "",
       "version_major": 2,
       "version_minor": 0
      },
      "text/plain": [
       "HBox(children=(FloatProgress(value=0.0, max=32.0), HTML(value='')))"
      ]
     },
     "metadata": {},
     "output_type": "display_data"
    },
    {
     "data": {
      "application/vnd.jupyter.widget-view+json": {
       "model_id": "",
       "version_major": 2,
       "version_minor": 0
      },
      "text/plain": [
       "HBox(children=(FloatProgress(value=0.0, max=33.0), HTML(value='')))"
      ]
     },
     "metadata": {},
     "output_type": "display_data"
    },
    {
     "data": {
      "application/vnd.jupyter.widget-view+json": {
       "model_id": "",
       "version_major": 2,
       "version_minor": 0
      },
      "text/plain": [
       "HBox(children=(FloatProgress(value=0.0, max=33.0), HTML(value='')))"
      ]
     },
     "metadata": {},
     "output_type": "display_data"
    },
    {
     "data": {
      "application/vnd.jupyter.widget-view+json": {
       "model_id": "",
       "version_major": 2,
       "version_minor": 0
      },
      "text/plain": [
       "HBox(children=(FloatProgress(value=0.0, max=31.0), HTML(value='')))"
      ]
     },
     "metadata": {},
     "output_type": "display_data"
    },
    {
     "data": {
      "application/vnd.jupyter.widget-view+json": {
       "model_id": "",
       "version_major": 2,
       "version_minor": 0
      },
      "text/plain": [
       "HBox(children=(FloatProgress(value=0.0, max=33.0), HTML(value='')))"
      ]
     },
     "metadata": {},
     "output_type": "display_data"
    },
    {
     "data": {
      "application/vnd.jupyter.widget-view+json": {
       "model_id": "",
       "version_major": 2,
       "version_minor": 0
      },
      "text/plain": [
       "HBox(children=(FloatProgress(value=0.0, max=35.0), HTML(value='')))"
      ]
     },
     "metadata": {},
     "output_type": "display_data"
    },
    {
     "data": {
      "application/vnd.jupyter.widget-view+json": {
       "model_id": "",
       "version_major": 2,
       "version_minor": 0
      },
      "text/plain": [
       "HBox(children=(FloatProgress(value=0.0, max=31.0), HTML(value='')))"
      ]
     },
     "metadata": {},
     "output_type": "display_data"
    },
    {
     "data": {
      "application/vnd.jupyter.widget-view+json": {
       "model_id": "",
       "version_major": 2,
       "version_minor": 0
      },
      "text/plain": [
       "HBox(children=(FloatProgress(value=0.0, max=34.0), HTML(value='')))"
      ]
     },
     "metadata": {},
     "output_type": "display_data"
    },
    {
     "data": {
      "application/vnd.jupyter.widget-view+json": {
       "model_id": "",
       "version_major": 2,
       "version_minor": 0
      },
      "text/plain": [
       "HBox(children=(FloatProgress(value=0.0, max=40.0), HTML(value='')))"
      ]
     },
     "metadata": {},
     "output_type": "display_data"
    },
    {
     "data": {
      "application/vnd.jupyter.widget-view+json": {
       "model_id": "",
       "version_major": 2,
       "version_minor": 0
      },
      "text/plain": [
       "HBox(children=(FloatProgress(value=0.0, max=38.0), HTML(value='')))"
      ]
     },
     "metadata": {},
     "output_type": "display_data"
    },
    {
     "data": {
      "application/vnd.jupyter.widget-view+json": {
       "model_id": "",
       "version_major": 2,
       "version_minor": 0
      },
      "text/plain": [
       "HBox(children=(FloatProgress(value=0.0, max=38.0), HTML(value='')))"
      ]
     },
     "metadata": {},
     "output_type": "display_data"
    },
    {
     "data": {
      "application/vnd.jupyter.widget-view+json": {
       "model_id": "",
       "version_major": 2,
       "version_minor": 0
      },
      "text/plain": [
       "HBox(children=(FloatProgress(value=0.0, max=35.0), HTML(value='')))"
      ]
     },
     "metadata": {},
     "output_type": "display_data"
    },
    {
     "data": {
      "application/vnd.jupyter.widget-view+json": {
       "model_id": "",
       "version_major": 2,
       "version_minor": 0
      },
      "text/plain": [
       "HBox(children=(FloatProgress(value=0.0, max=33.0), HTML(value='')))"
      ]
     },
     "metadata": {},
     "output_type": "display_data"
    },
    {
     "data": {
      "application/vnd.jupyter.widget-view+json": {
       "model_id": "",
       "version_major": 2,
       "version_minor": 0
      },
      "text/plain": [
       "HBox(children=(FloatProgress(value=0.0, max=31.0), HTML(value='')))"
      ]
     },
     "metadata": {},
     "output_type": "display_data"
    },
    {
     "data": {
      "application/vnd.jupyter.widget-view+json": {
       "model_id": "",
       "version_major": 2,
       "version_minor": 0
      },
      "text/plain": [
       "HBox(children=(FloatProgress(value=0.0, max=36.0), HTML(value='')))"
      ]
     },
     "metadata": {},
     "output_type": "display_data"
    },
    {
     "data": {
      "application/vnd.jupyter.widget-view+json": {
       "model_id": "",
       "version_major": 2,
       "version_minor": 0
      },
      "text/plain": [
       "HBox(children=(FloatProgress(value=0.0, max=36.0), HTML(value='')))"
      ]
     },
     "metadata": {},
     "output_type": "display_data"
    },
    {
     "data": {
      "application/vnd.jupyter.widget-view+json": {
       "model_id": "",
       "version_major": 2,
       "version_minor": 0
      },
      "text/plain": [
       "HBox(children=(FloatProgress(value=0.0, max=31.0), HTML(value='')))"
      ]
     },
     "metadata": {},
     "output_type": "display_data"
    },
    {
     "data": {
      "application/vnd.jupyter.widget-view+json": {
       "model_id": "",
       "version_major": 2,
       "version_minor": 0
      },
      "text/plain": [
       "HBox(children=(FloatProgress(value=0.0, max=33.0), HTML(value='')))"
      ]
     },
     "metadata": {},
     "output_type": "display_data"
    },
    {
     "data": {
      "application/vnd.jupyter.widget-view+json": {
       "model_id": "",
       "version_major": 2,
       "version_minor": 0
      },
      "text/plain": [
       "HBox(children=(FloatProgress(value=0.0, max=35.0), HTML(value='')))"
      ]
     },
     "metadata": {},
     "output_type": "display_data"
    },
    {
     "data": {
      "application/vnd.jupyter.widget-view+json": {
       "model_id": "",
       "version_major": 2,
       "version_minor": 0
      },
      "text/plain": [
       "HBox(children=(FloatProgress(value=0.0, max=35.0), HTML(value='')))"
      ]
     },
     "metadata": {},
     "output_type": "display_data"
    },
    {
     "data": {
      "application/vnd.jupyter.widget-view+json": {
       "model_id": "",
       "version_major": 2,
       "version_minor": 0
      },
      "text/plain": [
       "HBox(children=(FloatProgress(value=0.0, max=33.0), HTML(value='')))"
      ]
     },
     "metadata": {},
     "output_type": "display_data"
    },
    {
     "data": {
      "application/vnd.jupyter.widget-view+json": {
       "model_id": "",
       "version_major": 2,
       "version_minor": 0
      },
      "text/plain": [
       "HBox(children=(FloatProgress(value=0.0, max=35.0), HTML(value='')))"
      ]
     },
     "metadata": {},
     "output_type": "display_data"
    },
    {
     "data": {
      "application/vnd.jupyter.widget-view+json": {
       "model_id": "",
       "version_major": 2,
       "version_minor": 0
      },
      "text/plain": [
       "HBox(children=(FloatProgress(value=0.0, max=38.0), HTML(value='')))"
      ]
     },
     "metadata": {},
     "output_type": "display_data"
    },
    {
     "data": {
      "application/vnd.jupyter.widget-view+json": {
       "model_id": "",
       "version_major": 2,
       "version_minor": 0
      },
      "text/plain": [
       "HBox(children=(FloatProgress(value=0.0, max=31.0), HTML(value='')))"
      ]
     },
     "metadata": {},
     "output_type": "display_data"
    },
    {
     "data": {
      "application/vnd.jupyter.widget-view+json": {
       "model_id": "",
       "version_major": 2,
       "version_minor": 0
      },
      "text/plain": [
       "HBox(children=(FloatProgress(value=0.0, max=38.0), HTML(value='')))"
      ]
     },
     "metadata": {},
     "output_type": "display_data"
    },
    {
     "data": {
      "application/vnd.jupyter.widget-view+json": {
       "model_id": "",
       "version_major": 2,
       "version_minor": 0
      },
      "text/plain": [
       "HBox(children=(FloatProgress(value=0.0, max=36.0), HTML(value='')))"
      ]
     },
     "metadata": {},
     "output_type": "display_data"
    },
    {
     "data": {
      "application/vnd.jupyter.widget-view+json": {
       "model_id": "",
       "version_major": 2,
       "version_minor": 0
      },
      "text/plain": [
       "HBox(children=(FloatProgress(value=0.0, max=35.0), HTML(value='')))"
      ]
     },
     "metadata": {},
     "output_type": "display_data"
    },
    {
     "data": {
      "application/vnd.jupyter.widget-view+json": {
       "model_id": "",
       "version_major": 2,
       "version_minor": 0
      },
      "text/plain": [
       "HBox(children=(FloatProgress(value=0.0, max=33.0), HTML(value='')))"
      ]
     },
     "metadata": {},
     "output_type": "display_data"
    },
    {
     "data": {
      "application/vnd.jupyter.widget-view+json": {
       "model_id": "",
       "version_major": 2,
       "version_minor": 0
      },
      "text/plain": [
       "HBox(children=(FloatProgress(value=0.0, max=31.0), HTML(value='')))"
      ]
     },
     "metadata": {},
     "output_type": "display_data"
    },
    {
     "data": {
      "application/vnd.jupyter.widget-view+json": {
       "model_id": "",
       "version_major": 2,
       "version_minor": 0
      },
      "text/plain": [
       "HBox(children=(FloatProgress(value=0.0, max=35.0), HTML(value='')))"
      ]
     },
     "metadata": {},
     "output_type": "display_data"
    },
    {
     "data": {
      "application/vnd.jupyter.widget-view+json": {
       "model_id": "",
       "version_major": 2,
       "version_minor": 0
      },
      "text/plain": [
       "HBox(children=(FloatProgress(value=0.0, max=36.0), HTML(value='')))"
      ]
     },
     "metadata": {},
     "output_type": "display_data"
    },
    {
     "data": {
      "application/vnd.jupyter.widget-view+json": {
       "model_id": "",
       "version_major": 2,
       "version_minor": 0
      },
      "text/plain": [
       "HBox(children=(FloatProgress(value=0.0, max=35.0), HTML(value='')))"
      ]
     },
     "metadata": {},
     "output_type": "display_data"
    },
    {
     "data": {
      "application/vnd.jupyter.widget-view+json": {
       "model_id": "",
       "version_major": 2,
       "version_minor": 0
      },
      "text/plain": [
       "HBox(children=(FloatProgress(value=0.0, max=33.0), HTML(value='')))"
      ]
     },
     "metadata": {},
     "output_type": "display_data"
    },
    {
     "name": "stdout",
     "output_type": "stream",
     "text": [
      "\n"
     ]
    }
   ],
   "source": [
    "pathlib.Path(pickle_dir).mkdir(parents=True, exist_ok=True)\n",
    "\n",
    "number_of_data = len(kspacegen)\n",
    "for i in trange(number_of_data):\n",
    "    uuid = kspacegen.get_uuid(i)\n",
    "    all_data = kspacegen[i]\n",
    "    for j in trange(all_data.shape[0], leave=False):\n",
    "        data = all_data[j]\n",
    "        with open(os.path.join(pickle_dir, \"%s--%02.0f.pickle\"%(uuid,j)), \"wb\") as f:\n",
    "                    pickle.dump(data, f)\n",
    "   "
   ]
  },
  {
   "cell_type": "code",
   "execution_count": 88,
   "metadata": {},
   "outputs": [],
   "source": [
    "class BatchKSpaceGenerator(tf.keras.utils.Sequence):\n",
    "    def __init__(self, pickle_dir, batchSize, shuffle=True):\n",
    "        self.filenames = glob.glob(pickle_dir+\"/*.pickle\")\n",
    "        self.batch_size = batchSize\n",
    "        self.length = int(np.ceil(len(self.filenames)/batchSize))\n",
    "        length = self.length * batchSize\n",
    "        \n",
    "        self.shuffle = shuffle\n",
    "        self.indices_ref = range(len(self.filenames))\n",
    "        self.indices_ref =np.concatenate([self.indices_ref, \n",
    "                                          random.sample(self.indices_ref, length-len(self.indices_ref))])\n",
    "\n",
    "        self.on_epoch_end()\n",
    "\n",
    "    def on_epoch_end(self):\n",
    "        self.indices = self.indices_ref.copy()\n",
    "        if self.shuffle:\n",
    "            np.random.shuffle(self.indices)\n",
    "\n",
    "        \n",
    "    def __len__(self):\n",
    "        return self.length\n",
    "    \n",
    "    def __getitem__(self, index):\n",
    "        return self.getitem(index)\n",
    "    def getitem(self, ind):\n",
    "        index = ind*self.batch_size;\n",
    "        indices = self.indices[index:index+self.batch_size]\n",
    "        data =[]\n",
    "        for idx in tqdm(indices, leave=False):\n",
    "            filename = self.filenames[idx]\n",
    "            with open(filename, 'rb') as f:\n",
    "                data.append(pickle.load(f))\n",
    "        return np.array(data)\n",
    "    \n",
    "#     def get_uuid(self, index):\n",
    "#         return pathlib.Path(self.filenames[index]).stem\n",
    "    \n",
    "    @staticmethod\n",
    "    def read_pickle(filename):\n",
    "        with open(filename, 'rb') as f:\n",
    "            X = pickle.load(f)\n",
    "        return X\n",
    "        \n",
    "    @staticmethod\n",
    "    def transform_to_images_coils(data):\n",
    "        return np.fft.fftshift(scipy.fft.fft2(data, workers=os.cpu_count()))\n",
    "    @staticmethod\n",
    "    def combine_coil_images(im):\n",
    "        return np.sqrt(np.sum(im**2,1))\n",
    "    @staticmethod\n",
    "    def transform_to_images(data):\n",
    "        return MultiSliceKSpaceGenerator.combine_coil_images(\n",
    "            MultiSliceKSpaceGenerator.transform_to_images_coils(data))\n",
    "\n",
    "\n"
   ]
  },
  {
   "cell_type": "code",
   "execution_count": 89,
   "metadata": {},
   "outputs": [],
   "source": [
    "batch_size = 64"
   ]
  },
  {
   "cell_type": "code",
   "execution_count": 90,
   "metadata": {},
   "outputs": [
    {
     "data": {
      "text/plain": [
       "28"
      ]
     },
     "execution_count": 90,
     "metadata": {},
     "output_type": "execute_result"
    }
   ],
   "source": [
    "kspacegen = BatchKSpaceGenerator(pickle_dir, batch_size, shuffle=True)\n",
    "len(kspacegen)"
   ]
  },
  {
   "cell_type": "code",
   "execution_count": 91,
   "metadata": {},
   "outputs": [
    {
     "data": {
      "application/vnd.jupyter.widget-view+json": {
       "model_id": "",
       "version_major": 2,
       "version_minor": 0
      },
      "text/plain": [
       "  0%|          | 0/64 [00:00<?, ?it/s]"
      ]
     },
     "metadata": {},
     "output_type": "display_data"
    },
    {
     "name": "stdout",
     "output_type": "stream",
     "text": [
      "Wall time: 18.2 s\n"
     ]
    },
    {
     "data": {
      "text/plain": [
       "(64, 15, 616, 384)"
      ]
     },
     "execution_count": 91,
     "metadata": {},
     "output_type": "execute_result"
    }
   ],
   "source": [
    "%%time\n",
    "kspacegen[1].shape"
   ]
  },
  {
   "cell_type": "code",
   "execution_count": 92,
   "metadata": {},
   "outputs": [],
   "source": [
    "data_root = os.path.join(pickle_batch_root, str(batch_size))\n",
    "pathlib.Path(data_root).mkdir(parents=True, exist_ok=True)\n"
   ]
  },
  {
   "cell_type": "code",
   "execution_count": 93,
   "metadata": {},
   "outputs": [
    {
     "data": {
      "application/vnd.jupyter.widget-view+json": {
       "model_id": "44524dd8c1674ea8895a7c0d311be030",
       "version_major": 2,
       "version_minor": 0
      },
      "text/plain": [
       "  0%|          | 0/28 [00:00<?, ?it/s]"
      ]
     },
     "metadata": {},
     "output_type": "display_data"
    },
    {
     "data": {
      "application/vnd.jupyter.widget-view+json": {
       "model_id": "",
       "version_major": 2,
       "version_minor": 0
      },
      "text/plain": [
       "  0%|          | 0/64 [00:00<?, ?it/s]"
      ]
     },
     "metadata": {},
     "output_type": "display_data"
    },
    {
     "data": {
      "application/vnd.jupyter.widget-view+json": {
       "model_id": "",
       "version_major": 2,
       "version_minor": 0
      },
      "text/plain": [
       "  0%|          | 0/64 [00:00<?, ?it/s]"
      ]
     },
     "metadata": {},
     "output_type": "display_data"
    },
    {
     "data": {
      "application/vnd.jupyter.widget-view+json": {
       "model_id": "",
       "version_major": 2,
       "version_minor": 0
      },
      "text/plain": [
       "  0%|          | 0/64 [00:00<?, ?it/s]"
      ]
     },
     "metadata": {},
     "output_type": "display_data"
    },
    {
     "data": {
      "application/vnd.jupyter.widget-view+json": {
       "model_id": "",
       "version_major": 2,
       "version_minor": 0
      },
      "text/plain": [
       "  0%|          | 0/64 [00:00<?, ?it/s]"
      ]
     },
     "metadata": {},
     "output_type": "display_data"
    },
    {
     "data": {
      "application/vnd.jupyter.widget-view+json": {
       "model_id": "",
       "version_major": 2,
       "version_minor": 0
      },
      "text/plain": [
       "  0%|          | 0/64 [00:00<?, ?it/s]"
      ]
     },
     "metadata": {},
     "output_type": "display_data"
    },
    {
     "data": {
      "application/vnd.jupyter.widget-view+json": {
       "model_id": "",
       "version_major": 2,
       "version_minor": 0
      },
      "text/plain": [
       "  0%|          | 0/64 [00:00<?, ?it/s]"
      ]
     },
     "metadata": {},
     "output_type": "display_data"
    },
    {
     "data": {
      "application/vnd.jupyter.widget-view+json": {
       "model_id": "",
       "version_major": 2,
       "version_minor": 0
      },
      "text/plain": [
       "  0%|          | 0/64 [00:00<?, ?it/s]"
      ]
     },
     "metadata": {},
     "output_type": "display_data"
    },
    {
     "data": {
      "application/vnd.jupyter.widget-view+json": {
       "model_id": "",
       "version_major": 2,
       "version_minor": 0
      },
      "text/plain": [
       "  0%|          | 0/64 [00:00<?, ?it/s]"
      ]
     },
     "metadata": {},
     "output_type": "display_data"
    },
    {
     "data": {
      "application/vnd.jupyter.widget-view+json": {
       "model_id": "",
       "version_major": 2,
       "version_minor": 0
      },
      "text/plain": [
       "  0%|          | 0/64 [00:00<?, ?it/s]"
      ]
     },
     "metadata": {},
     "output_type": "display_data"
    },
    {
     "data": {
      "application/vnd.jupyter.widget-view+json": {
       "model_id": "",
       "version_major": 2,
       "version_minor": 0
      },
      "text/plain": [
       "  0%|          | 0/64 [00:00<?, ?it/s]"
      ]
     },
     "metadata": {},
     "output_type": "display_data"
    },
    {
     "data": {
      "application/vnd.jupyter.widget-view+json": {
       "model_id": "",
       "version_major": 2,
       "version_minor": 0
      },
      "text/plain": [
       "  0%|          | 0/64 [00:00<?, ?it/s]"
      ]
     },
     "metadata": {},
     "output_type": "display_data"
    },
    {
     "data": {
      "application/vnd.jupyter.widget-view+json": {
       "model_id": "",
       "version_major": 2,
       "version_minor": 0
      },
      "text/plain": [
       "  0%|          | 0/64 [00:00<?, ?it/s]"
      ]
     },
     "metadata": {},
     "output_type": "display_data"
    },
    {
     "data": {
      "application/vnd.jupyter.widget-view+json": {
       "model_id": "",
       "version_major": 2,
       "version_minor": 0
      },
      "text/plain": [
       "  0%|          | 0/64 [00:00<?, ?it/s]"
      ]
     },
     "metadata": {},
     "output_type": "display_data"
    },
    {
     "data": {
      "application/vnd.jupyter.widget-view+json": {
       "model_id": "",
       "version_major": 2,
       "version_minor": 0
      },
      "text/plain": [
       "  0%|          | 0/64 [00:00<?, ?it/s]"
      ]
     },
     "metadata": {},
     "output_type": "display_data"
    },
    {
     "data": {
      "application/vnd.jupyter.widget-view+json": {
       "model_id": "",
       "version_major": 2,
       "version_minor": 0
      },
      "text/plain": [
       "  0%|          | 0/64 [00:00<?, ?it/s]"
      ]
     },
     "metadata": {},
     "output_type": "display_data"
    },
    {
     "data": {
      "application/vnd.jupyter.widget-view+json": {
       "model_id": "",
       "version_major": 2,
       "version_minor": 0
      },
      "text/plain": [
       "  0%|          | 0/64 [00:00<?, ?it/s]"
      ]
     },
     "metadata": {},
     "output_type": "display_data"
    },
    {
     "data": {
      "application/vnd.jupyter.widget-view+json": {
       "model_id": "",
       "version_major": 2,
       "version_minor": 0
      },
      "text/plain": [
       "  0%|          | 0/64 [00:00<?, ?it/s]"
      ]
     },
     "metadata": {},
     "output_type": "display_data"
    },
    {
     "data": {
      "application/vnd.jupyter.widget-view+json": {
       "model_id": "",
       "version_major": 2,
       "version_minor": 0
      },
      "text/plain": [
       "  0%|          | 0/64 [00:00<?, ?it/s]"
      ]
     },
     "metadata": {},
     "output_type": "display_data"
    },
    {
     "data": {
      "application/vnd.jupyter.widget-view+json": {
       "model_id": "",
       "version_major": 2,
       "version_minor": 0
      },
      "text/plain": [
       "  0%|          | 0/64 [00:00<?, ?it/s]"
      ]
     },
     "metadata": {},
     "output_type": "display_data"
    },
    {
     "data": {
      "application/vnd.jupyter.widget-view+json": {
       "model_id": "",
       "version_major": 2,
       "version_minor": 0
      },
      "text/plain": [
       "  0%|          | 0/64 [00:00<?, ?it/s]"
      ]
     },
     "metadata": {},
     "output_type": "display_data"
    },
    {
     "data": {
      "application/vnd.jupyter.widget-view+json": {
       "model_id": "",
       "version_major": 2,
       "version_minor": 0
      },
      "text/plain": [
       "  0%|          | 0/64 [00:00<?, ?it/s]"
      ]
     },
     "metadata": {},
     "output_type": "display_data"
    },
    {
     "data": {
      "application/vnd.jupyter.widget-view+json": {
       "model_id": "",
       "version_major": 2,
       "version_minor": 0
      },
      "text/plain": [
       "  0%|          | 0/64 [00:00<?, ?it/s]"
      ]
     },
     "metadata": {},
     "output_type": "display_data"
    },
    {
     "data": {
      "application/vnd.jupyter.widget-view+json": {
       "model_id": "",
       "version_major": 2,
       "version_minor": 0
      },
      "text/plain": [
       "  0%|          | 0/64 [00:00<?, ?it/s]"
      ]
     },
     "metadata": {},
     "output_type": "display_data"
    },
    {
     "data": {
      "application/vnd.jupyter.widget-view+json": {
       "model_id": "",
       "version_major": 2,
       "version_minor": 0
      },
      "text/plain": [
       "  0%|          | 0/64 [00:00<?, ?it/s]"
      ]
     },
     "metadata": {},
     "output_type": "display_data"
    },
    {
     "data": {
      "application/vnd.jupyter.widget-view+json": {
       "model_id": "",
       "version_major": 2,
       "version_minor": 0
      },
      "text/plain": [
       "  0%|          | 0/64 [00:00<?, ?it/s]"
      ]
     },
     "metadata": {},
     "output_type": "display_data"
    },
    {
     "data": {
      "application/vnd.jupyter.widget-view+json": {
       "model_id": "",
       "version_major": 2,
       "version_minor": 0
      },
      "text/plain": [
       "  0%|          | 0/64 [00:00<?, ?it/s]"
      ]
     },
     "metadata": {},
     "output_type": "display_data"
    },
    {
     "data": {
      "application/vnd.jupyter.widget-view+json": {
       "model_id": "",
       "version_major": 2,
       "version_minor": 0
      },
      "text/plain": [
       "  0%|          | 0/64 [00:00<?, ?it/s]"
      ]
     },
     "metadata": {},
     "output_type": "display_data"
    },
    {
     "data": {
      "application/vnd.jupyter.widget-view+json": {
       "model_id": "",
       "version_major": 2,
       "version_minor": 0
      },
      "text/plain": [
       "  0%|          | 0/64 [00:00<?, ?it/s]"
      ]
     },
     "metadata": {},
     "output_type": "display_data"
    }
   ],
   "source": [
    "number_batch = len(kspacegen)\n",
    "for i in trange(number_batch):\n",
    "    data = kspacegen[i]\n",
    "    with open(os.path.join(data_root, \"%04.0f.pickle\"%(i)), \"wb\") as f:\n",
    "        pickle.dump(data, f)"
   ]
  },
  {
   "cell_type": "code",
   "execution_count": 18,
   "metadata": {},
   "outputs": [],
   "source": [
    "class KSpaceGenerator(tf.keras.utils.Sequence):\n",
    "    def __init__(self, pickle_root_dir, mask):\n",
    "        self.filenames = glob.glob(pickle_root_dir+\"/*.pickle\")\n",
    "        self.mask = mask\n",
    "        self.data_root = pickle_root_dir\n",
    "        \n",
    "    def __len__(self):\n",
    "        return len(self.filenames)\n",
    "    \n",
    "    def __getitem__(self, index):\n",
    "        return self.getitem(index)\n",
    "        \n",
    "    def getitem(self, index):\n",
    "        with open(self.filenames[index], 'rb') as f:\n",
    "            padded = pickle.load(f)\n",
    "        inp = padded*self.mask\n",
    "        out1 = padded\n",
    "        return inp, out1\n",
    "    \n",
    "    def get_batch_size(self):\n",
    "        return int(pathlib.Path(self.data_root).stem)\n",
    "    \n",
    "    @staticmethod\n",
    "    def transform_to_image_coils(data):\n",
    "        return np.fft.fftshift(scipy.fft.fft2(data, workers=os.cpu_count()))\n",
    "    @staticmethod\n",
    "    def combine_coil_images(im):\n",
    "        return np.sqrt(np.sum(im**2,1))\n",
    "    @staticmethod\n",
    "    def transform_to_images(data):\n",
    "        return KSpaceGenerator.combine_coil_images(KSpaceGenerator.transform_to_image_coils(data))\n",
    "   \n"
   ]
  },
  {
   "cell_type": "code",
   "execution_count": 19,
   "metadata": {},
   "outputs": [
    {
     "name": "stdout",
     "output_type": "stream",
     "text": [
      "14\n",
      "128\n"
     ]
    }
   ],
   "source": [
    "kspacegen = KSpaceGenerator(data_root, mask_t)\n",
    "print(len(kspacegen))\n",
    "print(kspacegen.get_batch_size())"
   ]
  },
  {
   "cell_type": "code",
   "execution_count": 22,
   "metadata": {},
   "outputs": [
    {
     "name": "stdout",
     "output_type": "stream",
     "text": [
      "Wall time: 30.3 s\n"
     ]
    }
   ],
   "source": [
    "%time X,Y = kspacegen[1] "
   ]
  },
  {
   "cell_type": "code",
   "execution_count": 53,
   "metadata": {},
   "outputs": [
    {
     "name": "stdout",
     "output_type": "stream",
     "text": [
      "Wall time: 8.1 s\n"
     ]
    },
    {
     "data": {
      "image/png": "[encoded data removed]",
      "text/plain": [
       "<Figure size 432x288 with 1 Axes>"
      ]
     },
     "metadata": {
      "needs_background": "light"
     },
     "output_type": "display_data"
    },
    {
     "name": "stdout",
     "output_type": "stream",
     "text": [
      "Wall time: 8.35 s\n"
     ]
    },
    {
     "data": {
      "image/png": "[encoded data removed]",
      "text/plain": [
       "<Figure size 432x288 with 1 Axes>"
      ]
     },
     "metadata": {
      "needs_background": "light"
     },
     "output_type": "display_data"
    }
   ],
   "source": [
    "%time images = KSpaceGenerator.transform_to_images(Y)\n",
    "plt.imshow(np.abs(images[5]), cmap='gray')\n",
    "plt.show()\n",
    "%time images_alias = KSpaceGenerator.transform_to_images(X)\n",
    "plt.imshow(np.abs(images_alias[5]), cmap='gray')\n",
    "plt.show()"
   ]
  },
  {
   "cell_type": "code",
   "execution_count": 57,
   "metadata": {},
   "outputs": [
    {
     "data": {
      "text/plain": [
       "128"
      ]
     },
     "execution_count": 57,
     "metadata": {},
     "output_type": "execute_result"
    }
   ],
   "source": [
    "int(pathlib.Path(data_root).stem)"
   ]
  },
  {
   "cell_type": "code",
   "execution_count": 83,
   "metadata": {},
   "outputs": [],
   "source": [
    "class KSpaceCatGenerator(tf.keras.utils.Sequence):\n",
    "    def __init__(self, pickle_root_dir, mask, axis):\n",
    "        self.filenames = glob.glob(pickle_root_dir+\"/*.pickle\")\n",
    "        self.mask = mask\n",
    "        self.data_root = pickle_root_dir\n",
    "        self.axis = axis\n",
    "        \n",
    "    def __len__(self):\n",
    "        return len(self.filenames)\n",
    "    \n",
    "    def __getitem__(self, index):\n",
    "        return self.getitem(index)\n",
    "        \n",
    "    def getitem(self, index):\n",
    "        with open(self.filenames[index], 'rb') as f:\n",
    "            padded = pickle.load(f)\n",
    "        inp = KSpaceCatGenerator.to_float(padded*self.mask, self.axis)\n",
    "        out1 = KSpaceCatGenerator.to_float(padded, self.axis)\n",
    "        return inp, out1\n",
    "    \n",
    "    \n",
    "    def get_batch_size(self):\n",
    "        return int(pathlib.Path(self.data_root).stem)\n",
    "    \n",
    "    @staticmethod\n",
    "    def to_float(X, axis):\n",
    "        return np.concatenate([X.real, X.imag], axis=axis)\n",
    "    @staticmethod\n",
    "    def to_complex(X, axis):\n",
    "        ax = np.mod(axis, 4)\n",
    "        n = X.shape[ax] // 2\n",
    "        if   ax == 0: a = X[:n,:,:,:] + 1j * X[n:,:,:,:]\n",
    "        elif ax == 1: a = X[:,:n,:,:] + 1j * X[:,n:,:,:]\n",
    "        elif ax == 2: a = X[:,:,:n,:] + 1j * X[:,:,n:,:]\n",
    "        elif ax == 3: a = X[:,:,:,:n] + 1j * X[:,:,:,n:]\n",
    "        else: raise Exception(\"not suported axis\")\n",
    "        return a\n",
    "        \n",
    "    @staticmethod\n",
    "    def transform_to_image_coils(data, axis):\n",
    "        return np.fft.fftshift(scipy.fft.fft2(KSpaceCatGenerator.to_complex(data, axis), workers=os.cpu_count()))\n",
    "    @staticmethod\n",
    "    def combine_coil_images(im):\n",
    "        return np.sqrt(np.sum(im**2,1))\n",
    "    @staticmethod\n",
    "    def transform_to_images(data, axis):\n",
    "        return KSpaceCatGenerator.combine_coil_images(KSpaceCatGenerator.transform_to_image_coils(data, axis))\n",
    "   \n"
   ]
  },
  {
   "cell_type": "code",
   "execution_count": 84,
   "metadata": {},
   "outputs": [
    {
     "name": "stdout",
     "output_type": "stream",
     "text": [
      "14\n",
      "128\n"
     ]
    }
   ],
   "source": [
    "cat_axis = -1;\n",
    "kspacegen = KSpaceCatGenerator(data_root, mask_t, cat_axis)\n",
    "print(len(kspacegen))\n",
    "print(kspacegen.get_batch_size())"
   ]
  },
  {
   "cell_type": "code",
   "execution_count": 85,
   "metadata": {},
   "outputs": [
    {
     "name": "stdout",
     "output_type": "stream",
     "text": [
      "Wall time: 5.33 s\n"
     ]
    }
   ],
   "source": [
    "%time X,Y = kspacegen[1] "
   ]
  },
  {
   "cell_type": "code",
   "execution_count": 86,
   "metadata": {},
   "outputs": [
    {
     "data": {
      "text/plain": [
       "(128, 15, 616, 768)"
      ]
     },
     "execution_count": 86,
     "metadata": {},
     "output_type": "execute_result"
    }
   ],
   "source": [
    "Y.shape"
   ]
  },
  {
   "cell_type": "code",
   "execution_count": 87,
   "metadata": {},
   "outputs": [
    {
     "name": "stdout",
     "output_type": "stream",
     "text": [
      "Wall time: 10.1 s\n"
     ]
    },
    {
     "data": {
      "image/png": "[encoded data removed]",
      "text/plain": [
       "<Figure size 432x288 with 1 Axes>"
      ]
     },
     "metadata": {
      "needs_background": "light"
     },
     "output_type": "display_data"
    },
    {
     "name": "stdout",
     "output_type": "stream",
     "text": [
      "Wall time: 10.2 s\n"
     ]
    },
    {
     "data": {
      "image/png": "[encoded data removed]",
      "text/plain": [
       "<Figure size 432x288 with 1 Axes>"
      ]
     },
     "metadata": {
      "needs_background": "light"
     },
     "output_type": "display_data"
    }
   ],
   "source": [
    "%time images = KSpaceCatGenerator.transform_to_images(Y, cat_axis)\n",
    "plt.imshow(np.abs(images[5]), cmap='gray')\n",
    "plt.show()\n",
    "%time images_alias = KSpaceCatGenerator.transform_to_images(X, cat_axis)\n",
    "plt.imshow(np.abs(images_alias[5]), cmap='gray')\n",
    "plt.show()"
   ]
  }
 ],
 "metadata": {
  "kernelspec": {
   "display_name": "Python 3 (ipykernel)",
   "language": "python",
   "name": "python3"
  },
  "language_info": {
   "codemirror_mode": {
    "name": "ipython",
    "version": 3
   },
   "file_extension": ".py",
   "mimetype": "text/x-python",
   "name": "python",
   "nbconvert_exporter": "python",
   "pygments_lexer": "ipython3",
   "version": "3.8.8"
  },
  "varInspector": {
   "cols": {
    "lenName": 16,
    "lenType": 16,
    "lenVar": 40
   },
   "kernels_config": {
    "python": {
     "delete_cmd_postfix": "",
     "delete_cmd_prefix": "del ",
     "library": "var_list.py",
     "varRefreshCmd": "print(var_dic_list())"
    },
    "r": {
     "delete_cmd_postfix": ") ",
     "delete_cmd_prefix": "rm(",
     "library": "var_list.r",
     "varRefreshCmd": "cat(var_dic_list()) "
    }
   },
   "types_to_exclude": [
    "module",
    "function",
    "builtin_function_or_method",
    "instance",
    "_Feature"
   ],
   "window_display": false
  }
 },
 "nbformat": 4,
 "nbformat_minor": 4
}
