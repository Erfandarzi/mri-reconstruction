{
 "cells": [
  {
   "cell_type": "code",
   "execution_count": 3,
   "metadata": {},
   "outputs": [],
   "source": [
    "import numpy as np\n",
    "import matplotlib.pyplot as plt\n",
    "import json\n",
    "import mridata\n",
    "import pandas as pd"
   ]
  },
  {
   "cell_type": "code",
   "execution_count": 4,
   "metadata": {},
   "outputs": [
    {
     "data": {
      "text/html": [
       "<div>\n",
       "<style scoped>\n",
       "    .dataframe tbody tr th:only-of-type {\n",
       "        vertical-align: middle;\n",
       "    }\n",
       "\n",
       "    .dataframe tbody tr th {\n",
       "        vertical-align: top;\n",
       "    }\n",
       "\n",
       "    .dataframe thead th {\n",
       "        text-align: right;\n",
       "    }\n",
       "</style>\n",
       "<table border=\"1\" class=\"dataframe\">\n",
       "  <thead>\n",
       "    <tr style=\"text-align: right;\">\n",
       "      <th></th>\n",
       "      <th>UUID</th>\n",
       "      <th>Downloads</th>\n",
       "      <th>References</th>\n",
       "      <th>Comments</th>\n",
       "      <th>Funding Support</th>\n",
       "      <th>Protocol Name</th>\n",
       "      <th>Series Description</th>\n",
       "      <th>System Vendor</th>\n",
       "      <th>System Model</th>\n",
       "      <th>System Field Strength</th>\n",
       "      <th>...</th>\n",
       "      <th>Number of Contrasts</th>\n",
       "      <th>Trajectory</th>\n",
       "      <th>Parallel Imaging Factor</th>\n",
       "      <th>Repetition Time</th>\n",
       "      <th>Echo Time</th>\n",
       "      <th>Inversion Time</th>\n",
       "      <th>Flip Angle</th>\n",
       "      <th>Sequence Type</th>\n",
       "      <th>Echo Spacing</th>\n",
       "      <th>Upload Date</th>\n",
       "    </tr>\n",
       "  </thead>\n",
       "  <tbody>\n",
       "    <tr>\n",
       "      <th>0</th>\n",
       "      <td>413469fd-9354-400c-88e3-b29e7c711a05</td>\n",
       "      <td>2153</td>\n",
       "      <td>Hammernik K, Klatzer T, Kobler E, Recht M, Sod...</td>\n",
       "      <td>This is part of the training and test data tha...</td>\n",
       "      <td>NIH P41 EB017183</td>\n",
       "      <td>SAG</td>\n",
       "      <td>SAG</td>\n",
       "      <td>SIEMENS</td>\n",
       "      <td>Skyra</td>\n",
       "      <td>2.89362 T</td>\n",
       "      <td>...</td>\n",
       "      <td>1</td>\n",
       "      <td>cartesian</td>\n",
       "      <td>1.0 x 1.0</td>\n",
       "      <td>2800 ms</td>\n",
       "      <td>22 ms</td>\n",
       "      <td>100 ms</td>\n",
       "      <td>150 °</td>\n",
       "      <td>TurboSpinEcho</td>\n",
       "      <td>11.12 ms</td>\n",
       "      <td>Aug. 8, 2018, 7:12 a.m.</td>\n",
       "    </tr>\n",
       "    <tr>\n",
       "      <th>1</th>\n",
       "      <td>6a8fff64-9bba-4ce7-aa58-d024214b4d7a</td>\n",
       "      <td>4757</td>\n",
       "      <td>Hammernik K, Klatzer T, Kobler E, Recht M, Sod...</td>\n",
       "      <td>This is part of the training and test data tha...</td>\n",
       "      <td>NIH P41 EB017183</td>\n",
       "      <td>SAG</td>\n",
       "      <td>SAG</td>\n",
       "      <td>SIEMENS</td>\n",
       "      <td>Skyra</td>\n",
       "      <td>2.89362 T</td>\n",
       "      <td>...</td>\n",
       "      <td>1</td>\n",
       "      <td>cartesian</td>\n",
       "      <td>1.0 x 1.0</td>\n",
       "      <td>2800 ms</td>\n",
       "      <td>22 ms</td>\n",
       "      <td>100 ms</td>\n",
       "      <td>150 °</td>\n",
       "      <td>TurboSpinEcho</td>\n",
       "      <td>11.12 ms</td>\n",
       "      <td>Aug. 8, 2018, 7:12 a.m.</td>\n",
       "    </tr>\n",
       "    <tr>\n",
       "      <th>2</th>\n",
       "      <td>bd01dd30-46e7-4415-bf04-ed4cc6ac2b64</td>\n",
       "      <td>1162</td>\n",
       "      <td>Hammernik K, Klatzer T, Kobler E, Recht M, Sod...</td>\n",
       "      <td>This is part of the training and test data tha...</td>\n",
       "      <td>NIH P41 EB017183</td>\n",
       "      <td>SAG</td>\n",
       "      <td>SAG</td>\n",
       "      <td>SIEMENS</td>\n",
       "      <td>Skyra</td>\n",
       "      <td>2.89362 T</td>\n",
       "      <td>...</td>\n",
       "      <td>1</td>\n",
       "      <td>cartesian</td>\n",
       "      <td>1.0 x 1.0</td>\n",
       "      <td>2800 ms</td>\n",
       "      <td>22 ms</td>\n",
       "      <td>100 ms</td>\n",
       "      <td>150 °</td>\n",
       "      <td>TurboSpinEcho</td>\n",
       "      <td>11.12 ms</td>\n",
       "      <td>Aug. 8, 2018, 7:11 a.m.</td>\n",
       "    </tr>\n",
       "    <tr>\n",
       "      <th>3</th>\n",
       "      <td>6493682f-c9d3-44a7-8c0f-7fdf8b165410</td>\n",
       "      <td>1090</td>\n",
       "      <td>Hammernik K, Klatzer T, Kobler E, Recht M, Sod...</td>\n",
       "      <td>This is part of the training and test data tha...</td>\n",
       "      <td>NIH P41 EB017183</td>\n",
       "      <td>SAG</td>\n",
       "      <td>SAG</td>\n",
       "      <td>SIEMENS</td>\n",
       "      <td>Skyra</td>\n",
       "      <td>2.89362 T</td>\n",
       "      <td>...</td>\n",
       "      <td>1</td>\n",
       "      <td>cartesian</td>\n",
       "      <td>1.0 x 1.0</td>\n",
       "      <td>2800 ms</td>\n",
       "      <td>22 ms</td>\n",
       "      <td>100 ms</td>\n",
       "      <td>150 °</td>\n",
       "      <td>TurboSpinEcho</td>\n",
       "      <td>11.12 ms</td>\n",
       "      <td>Aug. 8, 2018, 7:10 a.m.</td>\n",
       "    </tr>\n",
       "    <tr>\n",
       "      <th>4</th>\n",
       "      <td>48c95dcf-c074-499b-a63c-74f0bf7dff1f</td>\n",
       "      <td>1141</td>\n",
       "      <td>Hammernik K, Klatzer T, Kobler E, Recht M, Sod...</td>\n",
       "      <td>This is part of the training and test data tha...</td>\n",
       "      <td>NIH P41 EB017183</td>\n",
       "      <td>SAG</td>\n",
       "      <td>SAG</td>\n",
       "      <td>SIEMENS</td>\n",
       "      <td>Skyra</td>\n",
       "      <td>2.89362 T</td>\n",
       "      <td>...</td>\n",
       "      <td>1</td>\n",
       "      <td>cartesian</td>\n",
       "      <td>1.0 x 1.0</td>\n",
       "      <td>2800 ms</td>\n",
       "      <td>22 ms</td>\n",
       "      <td>100 ms</td>\n",
       "      <td>150 °</td>\n",
       "      <td>TurboSpinEcho</td>\n",
       "      <td>11.12 ms</td>\n",
       "      <td>Aug. 8, 2018, 7:09 a.m.</td>\n",
       "    </tr>\n",
       "    <tr>\n",
       "      <th>...</th>\n",
       "      <td>...</td>\n",
       "      <td>...</td>\n",
       "      <td>...</td>\n",
       "      <td>...</td>\n",
       "      <td>...</td>\n",
       "      <td>...</td>\n",
       "      <td>...</td>\n",
       "      <td>...</td>\n",
       "      <td>...</td>\n",
       "      <td>...</td>\n",
       "      <td>...</td>\n",
       "      <td>...</td>\n",
       "      <td>...</td>\n",
       "      <td>...</td>\n",
       "      <td>...</td>\n",
       "      <td>...</td>\n",
       "      <td>...</td>\n",
       "      <td>...</td>\n",
       "      <td>...</td>\n",
       "      <td>...</td>\n",
       "      <td>...</td>\n",
       "    </tr>\n",
       "    <tr>\n",
       "      <th>95</th>\n",
       "      <td>a5d10e70-627b-4a4c-943b-0639fd2cee8d</td>\n",
       "      <td>385</td>\n",
       "      <td>Hammernik K, Klatzer T, Kobler E, Recht M, Sod...</td>\n",
       "      <td>This is part of the training and test data tha...</td>\n",
       "      <td>NIH P41 EB017183</td>\n",
       "      <td>COR</td>\n",
       "      <td>COR</td>\n",
       "      <td>SIEMENS</td>\n",
       "      <td>Skyra</td>\n",
       "      <td>2.89362 T</td>\n",
       "      <td>...</td>\n",
       "      <td>1</td>\n",
       "      <td>cartesian</td>\n",
       "      <td>1.0 x 1.0</td>\n",
       "      <td>3170 ms</td>\n",
       "      <td>33 ms</td>\n",
       "      <td>100 ms</td>\n",
       "      <td>180 °</td>\n",
       "      <td>TurboSpinEcho</td>\n",
       "      <td>10.96 ms</td>\n",
       "      <td>Aug. 6, 2018, 12:16 p.m.</td>\n",
       "    </tr>\n",
       "    <tr>\n",
       "      <th>96</th>\n",
       "      <td>9616b2e4-81fc-4bd5-bee0-e3aac05cd0a5</td>\n",
       "      <td>383</td>\n",
       "      <td>Hammernik K, Klatzer T, Kobler E, Recht M, Sod...</td>\n",
       "      <td>This is part of the training and test data tha...</td>\n",
       "      <td>NIH P41 EB017183</td>\n",
       "      <td>COR</td>\n",
       "      <td>COR</td>\n",
       "      <td>SIEMENS</td>\n",
       "      <td>Skyra</td>\n",
       "      <td>2.89362 T</td>\n",
       "      <td>...</td>\n",
       "      <td>1</td>\n",
       "      <td>cartesian</td>\n",
       "      <td>1.0 x 1.0</td>\n",
       "      <td>2870 ms</td>\n",
       "      <td>33 ms</td>\n",
       "      <td>100 ms</td>\n",
       "      <td>180 °</td>\n",
       "      <td>TurboSpinEcho</td>\n",
       "      <td>10.96 ms</td>\n",
       "      <td>Aug. 6, 2018, 12:14 p.m.</td>\n",
       "    </tr>\n",
       "    <tr>\n",
       "      <th>97</th>\n",
       "      <td>4ed55066-656a-46aa-af95-81667b4f565b</td>\n",
       "      <td>381</td>\n",
       "      <td>Hammernik K, Klatzer T, Kobler E, Recht M, Sod...</td>\n",
       "      <td>This is part of the training and test data tha...</td>\n",
       "      <td>NIH P41 EB017183</td>\n",
       "      <td>COR</td>\n",
       "      <td>COR</td>\n",
       "      <td>SIEMENS</td>\n",
       "      <td>Skyra</td>\n",
       "      <td>2.89362 T</td>\n",
       "      <td>...</td>\n",
       "      <td>1</td>\n",
       "      <td>cartesian</td>\n",
       "      <td>1.0 x 1.0</td>\n",
       "      <td>2870 ms</td>\n",
       "      <td>33 ms</td>\n",
       "      <td>100 ms</td>\n",
       "      <td>180 °</td>\n",
       "      <td>TurboSpinEcho</td>\n",
       "      <td>10.96 ms</td>\n",
       "      <td>Aug. 6, 2018, 12:12 p.m.</td>\n",
       "    </tr>\n",
       "    <tr>\n",
       "      <th>98</th>\n",
       "      <td>be92c2de-4b73-4f07-a081-73973bf5d037</td>\n",
       "      <td>385</td>\n",
       "      <td>Hammernik K, Klatzer T, Kobler E, Recht M, Sod...</td>\n",
       "      <td>This is part of the training and test data tha...</td>\n",
       "      <td>NIH P41 EB017183</td>\n",
       "      <td>COR</td>\n",
       "      <td>COR</td>\n",
       "      <td>SIEMENS</td>\n",
       "      <td>Skyra</td>\n",
       "      <td>2.89362 T</td>\n",
       "      <td>...</td>\n",
       "      <td>1</td>\n",
       "      <td>cartesian</td>\n",
       "      <td>1.0 x 1.0</td>\n",
       "      <td>3010 ms</td>\n",
       "      <td>33 ms</td>\n",
       "      <td>100 ms</td>\n",
       "      <td>180 °</td>\n",
       "      <td>TurboSpinEcho</td>\n",
       "      <td>10.96 ms</td>\n",
       "      <td>Aug. 6, 2018, 12:10 p.m.</td>\n",
       "    </tr>\n",
       "    <tr>\n",
       "      <th>99</th>\n",
       "      <td>812594f8-1bbb-4855-8de8-9b24beb68dcc</td>\n",
       "      <td>427</td>\n",
       "      <td>Hammernik K, Klatzer T, Kobler E, Recht M, Sod...</td>\n",
       "      <td>This is part of the training and test data tha...</td>\n",
       "      <td>NIH P41 EB017183</td>\n",
       "      <td>COR</td>\n",
       "      <td>COR</td>\n",
       "      <td>SIEMENS</td>\n",
       "      <td>Skyra</td>\n",
       "      <td>2.89362 T</td>\n",
       "      <td>...</td>\n",
       "      <td>1</td>\n",
       "      <td>cartesian</td>\n",
       "      <td>1.0 x 1.0</td>\n",
       "      <td>3170 ms</td>\n",
       "      <td>33 ms</td>\n",
       "      <td>100 ms</td>\n",
       "      <td>180 °</td>\n",
       "      <td>TurboSpinEcho</td>\n",
       "      <td>10.96 ms</td>\n",
       "      <td>Aug. 6, 2018, 12:08 p.m.</td>\n",
       "    </tr>\n",
       "  </tbody>\n",
       "</table>\n",
       "<p>100 rows × 30 columns</p>\n",
       "</div>"
      ],
      "text/plain": [
       "                                    UUID  Downloads  \\\n",
       "0   413469fd-9354-400c-88e3-b29e7c711a05       2153   \n",
       "1   6a8fff64-9bba-4ce7-aa58-d024214b4d7a       4757   \n",
       "2   bd01dd30-46e7-4415-bf04-ed4cc6ac2b64       1162   \n",
       "3   6493682f-c9d3-44a7-8c0f-7fdf8b165410       1090   \n",
       "4   48c95dcf-c074-499b-a63c-74f0bf7dff1f       1141   \n",
       "..                                   ...        ...   \n",
       "95  a5d10e70-627b-4a4c-943b-0639fd2cee8d        385   \n",
       "96  9616b2e4-81fc-4bd5-bee0-e3aac05cd0a5        383   \n",
       "97  4ed55066-656a-46aa-af95-81667b4f565b        381   \n",
       "98  be92c2de-4b73-4f07-a081-73973bf5d037        385   \n",
       "99  812594f8-1bbb-4855-8de8-9b24beb68dcc        427   \n",
       "\n",
       "                                           References  \\\n",
       "0   Hammernik K, Klatzer T, Kobler E, Recht M, Sod...   \n",
       "1   Hammernik K, Klatzer T, Kobler E, Recht M, Sod...   \n",
       "2   Hammernik K, Klatzer T, Kobler E, Recht M, Sod...   \n",
       "3   Hammernik K, Klatzer T, Kobler E, Recht M, Sod...   \n",
       "4   Hammernik K, Klatzer T, Kobler E, Recht M, Sod...   \n",
       "..                                                ...   \n",
       "95  Hammernik K, Klatzer T, Kobler E, Recht M, Sod...   \n",
       "96  Hammernik K, Klatzer T, Kobler E, Recht M, Sod...   \n",
       "97  Hammernik K, Klatzer T, Kobler E, Recht M, Sod...   \n",
       "98  Hammernik K, Klatzer T, Kobler E, Recht M, Sod...   \n",
       "99  Hammernik K, Klatzer T, Kobler E, Recht M, Sod...   \n",
       "\n",
       "                                             Comments   Funding Support  \\\n",
       "0   This is part of the training and test data tha...  NIH P41 EB017183   \n",
       "1   This is part of the training and test data tha...  NIH P41 EB017183   \n",
       "2   This is part of the training and test data tha...  NIH P41 EB017183   \n",
       "3   This is part of the training and test data tha...  NIH P41 EB017183   \n",
       "4   This is part of the training and test data tha...  NIH P41 EB017183   \n",
       "..                                                ...               ...   \n",
       "95  This is part of the training and test data tha...  NIH P41 EB017183   \n",
       "96  This is part of the training and test data tha...  NIH P41 EB017183   \n",
       "97  This is part of the training and test data tha...  NIH P41 EB017183   \n",
       "98  This is part of the training and test data tha...  NIH P41 EB017183   \n",
       "99  This is part of the training and test data tha...  NIH P41 EB017183   \n",
       "\n",
       "   Protocol Name Series Description System Vendor System Model  \\\n",
       "0            SAG                SAG       SIEMENS        Skyra   \n",
       "1            SAG                SAG       SIEMENS        Skyra   \n",
       "2            SAG                SAG       SIEMENS        Skyra   \n",
       "3            SAG                SAG       SIEMENS        Skyra   \n",
       "4            SAG                SAG       SIEMENS        Skyra   \n",
       "..           ...                ...           ...          ...   \n",
       "95           COR                COR       SIEMENS        Skyra   \n",
       "96           COR                COR       SIEMENS        Skyra   \n",
       "97           COR                COR       SIEMENS        Skyra   \n",
       "98           COR                COR       SIEMENS        Skyra   \n",
       "99           COR                COR       SIEMENS        Skyra   \n",
       "\n",
       "   System Field Strength  ...  Number of Contrasts  Trajectory  \\\n",
       "0              2.89362 T  ...                    1   cartesian   \n",
       "1              2.89362 T  ...                    1   cartesian   \n",
       "2              2.89362 T  ...                    1   cartesian   \n",
       "3              2.89362 T  ...                    1   cartesian   \n",
       "4              2.89362 T  ...                    1   cartesian   \n",
       "..                   ...  ...                  ...         ...   \n",
       "95             2.89362 T  ...                    1   cartesian   \n",
       "96             2.89362 T  ...                    1   cartesian   \n",
       "97             2.89362 T  ...                    1   cartesian   \n",
       "98             2.89362 T  ...                    1   cartesian   \n",
       "99             2.89362 T  ...                    1   cartesian   \n",
       "\n",
       "   Parallel Imaging Factor Repetition Time Echo Time Inversion Time  \\\n",
       "0                1.0 x 1.0         2800 ms     22 ms         100 ms   \n",
       "1                1.0 x 1.0         2800 ms     22 ms         100 ms   \n",
       "2                1.0 x 1.0         2800 ms     22 ms         100 ms   \n",
       "3                1.0 x 1.0         2800 ms     22 ms         100 ms   \n",
       "4                1.0 x 1.0         2800 ms     22 ms         100 ms   \n",
       "..                     ...             ...       ...            ...   \n",
       "95               1.0 x 1.0         3170 ms     33 ms         100 ms   \n",
       "96               1.0 x 1.0         2870 ms     33 ms         100 ms   \n",
       "97               1.0 x 1.0         2870 ms     33 ms         100 ms   \n",
       "98               1.0 x 1.0         3010 ms     33 ms         100 ms   \n",
       "99               1.0 x 1.0         3170 ms     33 ms         100 ms   \n",
       "\n",
       "    Flip Angle  Sequence Type  Echo Spacing               Upload Date  \n",
       "0        150 °  TurboSpinEcho      11.12 ms   Aug. 8, 2018, 7:12 a.m.  \n",
       "1        150 °  TurboSpinEcho      11.12 ms   Aug. 8, 2018, 7:12 a.m.  \n",
       "2        150 °  TurboSpinEcho      11.12 ms   Aug. 8, 2018, 7:11 a.m.  \n",
       "3        150 °  TurboSpinEcho      11.12 ms   Aug. 8, 2018, 7:10 a.m.  \n",
       "4        150 °  TurboSpinEcho      11.12 ms   Aug. 8, 2018, 7:09 a.m.  \n",
       "..         ...            ...           ...                       ...  \n",
       "95       180 °  TurboSpinEcho      10.96 ms  Aug. 6, 2018, 12:16 p.m.  \n",
       "96       180 °  TurboSpinEcho      10.96 ms  Aug. 6, 2018, 12:14 p.m.  \n",
       "97       180 °  TurboSpinEcho      10.96 ms  Aug. 6, 2018, 12:12 p.m.  \n",
       "98       180 °  TurboSpinEcho      10.96 ms  Aug. 6, 2018, 12:10 p.m.  \n",
       "99       180 °  TurboSpinEcho      10.96 ms  Aug. 6, 2018, 12:08 p.m.  \n",
       "\n",
       "[100 rows x 30 columns]"
      ]
     },
     "execution_count": 4,
     "metadata": {},
     "output_type": "execute_result"
    }
   ],
   "source": [
    "tables = pd.read_csv('mridata.csv')\n",
    "tables"
   ]
  },
  {
   "cell_type": "code",
   "execution_count": 6,
   "metadata": {},
   "outputs": [],
   "source": [
    "import pathlib, wget, os\n",
    "out_dir = r'H:\\Dataset\\Bio\\MRI Reconstruction\\mridata'\n",
    "pathlib.Path(out_dir).mkdir(parents=True, exist_ok=True)\n",
    "# mridata.download(tables.iloc[0]['UUID'], folder='data/')"
   ]
  },
  {
   "cell_type": "code",
   "execution_count": 4,
   "metadata": {
    "scrolled": false
   },
   "outputs": [
    {
     "name": "stdout",
     "output_type": "stream",
     "text": [
      "\n",
      "=============\n",
      ">> download : 3 th\n"
     ]
    },
    {
     "name": "stderr",
     "output_type": "stream",
     "text": [
      "\r",
      "  0%|                                                                                      | 0/1850316 [00:00<?, ?KB/s]"
     ]
    },
    {
     "name": "stdout",
     "output_type": "stream",
     "text": [
      "Downloading 6493682f-c9d3-44a7-8c0f-7fdf8b165410...\n"
     ]
    },
    {
     "name": "stderr",
     "output_type": "stream",
     "text": [
      "100%|█████████████████████████████████████████████████████████████████████| 1850316/1850316 [1:51:02<00:00, 277.71KB/s]\n"
     ]
    },
    {
     "name": "stdout",
     "output_type": "stream",
     "text": [
      "\n",
      "=============\n",
      ">> download : 4 th\n"
     ]
    },
    {
     "name": "stderr",
     "output_type": "stream",
     "text": [
      "\r",
      "  0%|                                                                                      | 0/1794244 [00:00<?, ?KB/s]"
     ]
    },
    {
     "name": "stdout",
     "output_type": "stream",
     "text": [
      "Downloading 48c95dcf-c074-499b-a63c-74f0bf7dff1f...\n"
     ]
    },
    {
     "name": "stderr",
     "output_type": "stream",
     "text": [
      "100%|███████████████████████████████████████████████████████████████████████| 1794244/1794244 [57:20<00:00, 521.51KB/s]\n"
     ]
    },
    {
     "name": "stdout",
     "output_type": "stream",
     "text": [
      "\n",
      "=============\n",
      ">> download : 5 th\n"
     ]
    },
    {
     "name": "stderr",
     "output_type": "stream",
     "text": [
      "\r",
      "  0%|                                                                                      | 0/1850316 [00:00<?, ?KB/s]"
     ]
    },
    {
     "name": "stdout",
     "output_type": "stream",
     "text": [
      "Downloading de6d23d9-b1c4-46af-bc79-ce828f5cd63a...\n"
     ]
    },
    {
     "name": "stderr",
     "output_type": "stream",
     "text": [
      "100%|███████████████████████████████████████████████████████████████████████| 1850316/1850316 [36:24<00:00, 847.12KB/s]\n"
     ]
    },
    {
     "name": "stdout",
     "output_type": "stream",
     "text": [
      "\n",
      "=============\n",
      ">> download : 6 th\n"
     ]
    },
    {
     "name": "stderr",
     "output_type": "stream",
     "text": [
      "\r",
      "  0%|                                                                                       | 0/807510 [00:00<?, ?KB/s]"
     ]
    },
    {
     "name": "stdout",
     "output_type": "stream",
     "text": [
      "Downloading e3573a0f-34f7-4718-827a-027bf9dd4dea...\n"
     ]
    },
    {
     "name": "stderr",
     "output_type": "stream",
     "text": [
      "100%|█████████████████████████████████████████████████████████████████████████| 807510/807510 [17:51<00:00, 753.51KB/s]\n"
     ]
    },
    {
     "name": "stdout",
     "output_type": "stream",
     "text": [
      "\n",
      "=============\n",
      ">> download : 7 th\n"
     ]
    },
    {
     "name": "stderr",
     "output_type": "stream",
     "text": [
      "\r",
      "  0%|                                                                                       | 0/908435 [00:00<?, ?KB/s]"
     ]
    },
    {
     "name": "stdout",
     "output_type": "stream",
     "text": [
      "Downloading a496da39-848a-4fe8-8954-ff63df6785cb...\n"
     ]
    },
    {
     "name": "stderr",
     "output_type": "stream",
     "text": [
      "100%|█████████████████████████████████████████████████████████████████████████| 908435/908435 [19:32<00:00, 774.94KB/s]\n"
     ]
    },
    {
     "name": "stdout",
     "output_type": "stream",
     "text": [
      "\n",
      "=============\n",
      ">> download : 8 th\n"
     ]
    },
    {
     "name": "stderr",
     "output_type": "stream",
     "text": [
      "\r",
      "  0%|                                                                                      | 0/1794244 [00:00<?, ?KB/s]"
     ]
    },
    {
     "name": "stdout",
     "output_type": "stream",
     "text": [
      "Downloading 516288da-d22b-4e92-9282-96665134c84a...\n"
     ]
    },
    {
     "name": "stderr",
     "output_type": "stream",
     "text": [
      "100%|███████████████████████████████████████████████████████████████████████| 1794244/1794244 [37:56<00:00, 788.05KB/s]\n"
     ]
    },
    {
     "name": "stdout",
     "output_type": "stream",
     "text": [
      "\n",
      "=============\n",
      ">> download : 9 th\n"
     ]
    },
    {
     "name": "stderr",
     "output_type": "stream",
     "text": [
      "\r",
      "  0%|                                                                                      | 0/3529421 [00:00<?, ?KB/s]"
     ]
    },
    {
     "name": "stdout",
     "output_type": "stream",
     "text": [
      "Downloading 90bc0b15-eea2-4abb-b0d2-f3fdad57bb43...\n"
     ]
    },
    {
     "name": "stderr",
     "output_type": "stream",
     "text": [
      " 43%|█████████████████████████████▍                                       | 1503403/3529421 [55:05<1:14:15, 454.77KB/s]\n"
     ]
    },
    {
     "name": "stdout",
     "output_type": "stream",
     "text": [
      "\n",
      "=============\n",
      ">> download : 10 th\n"
     ]
    },
    {
     "name": "stderr",
     "output_type": "stream",
     "text": [
      "  0%|                                                                           | 1/1869489 [00:00<65:23:44,  7.94KB/s]"
     ]
    },
    {
     "name": "stdout",
     "output_type": "stream",
     "text": [
      "Downloading cafc2ace-a826-4344-8cf9-896ec8bc6120...\n"
     ]
    },
    {
     "name": "stderr",
     "output_type": "stream",
     "text": [
      "100%|█████████████████████████████████████████████████████████████████████| 1869489/1869489 [2:04:56<00:00, 249.37KB/s]\n"
     ]
    },
    {
     "name": "stdout",
     "output_type": "stream",
     "text": [
      "\n",
      "=============\n",
      ">> download : 11 th\n"
     ]
    },
    {
     "name": "stderr",
     "output_type": "stream",
     "text": [
      "\r",
      "  0%|                                                                                      | 0/1850316 [00:00<?, ?KB/s]"
     ]
    },
    {
     "name": "stdout",
     "output_type": "stream",
     "text": [
      "Downloading 936c76f0-b3af-41f0-9b2d-f468f6a71225...\n"
     ]
    },
    {
     "name": "stderr",
     "output_type": "stream",
     "text": [
      "100%|███████████████████████████████████████████████████████████████████████| 1850316/1850316 [50:49<00:00, 606.75KB/s]\n"
     ]
    },
    {
     "name": "stdout",
     "output_type": "stream",
     "text": [
      "\n",
      "=============\n",
      ">> download : 12 th\n"
     ]
    },
    {
     "name": "stderr",
     "output_type": "stream",
     "text": [
      "\r",
      "  0%|                                                                                      | 0/2625253 [00:00<?, ?KB/s]"
     ]
    },
    {
     "name": "stdout",
     "output_type": "stream",
     "text": [
      "Downloading e5bea69e-3b5e-44e9-9307-c182b8caf6db...\n"
     ]
    },
    {
     "name": "stderr",
     "output_type": "stream",
     "text": [
      "100%|███████████████████████████████████████████████████████████████████████| 2625253/2625253 [51:48<00:00, 844.40KB/s]\n"
     ]
    },
    {
     "name": "stdout",
     "output_type": "stream",
     "text": [
      "\n",
      "=============\n",
      ">> download : 13 th\n",
      "Downloading 7953af76-63f4-4b64-984a-adbc67ade280...\n"
     ]
    },
    {
     "name": "stderr",
     "output_type": "stream",
     "text": [
      "100%|█████████████████████████████████████████████████████████████████████| 3307044/3307044 [1:03:08<00:00, 872.92KB/s]\n"
     ]
    },
    {
     "name": "stdout",
     "output_type": "stream",
     "text": [
      "\n",
      "=============\n",
      ">> download : 14 th\n"
     ]
    },
    {
     "name": "stderr",
     "output_type": "stream",
     "text": [
      "\r",
      "  0%|                                                                                      | 0/2018525 [00:00<?, ?KB/s]"
     ]
    },
    {
     "name": "stdout",
     "output_type": "stream",
     "text": [
      "Downloading cc52722b-8649-45b0-a1ea-8727c1687ad5...\n"
     ]
    },
    {
     "name": "stderr",
     "output_type": "stream",
     "text": [
      "100%|███████████████████████████████████████████████████████████████████████| 2018525/2018525 [38:33<00:00, 872.33KB/s]\n"
     ]
    },
    {
     "name": "stdout",
     "output_type": "stream",
     "text": [
      "\n",
      "=============\n",
      ">> download : 15 th\n"
     ]
    },
    {
     "name": "stderr",
     "output_type": "stream",
     "text": [
      "\r",
      "  0%|                                                                                      | 0/1738177 [00:00<?, ?KB/s]"
     ]
    },
    {
     "name": "stdout",
     "output_type": "stream",
     "text": [
      "Downloading 18fe726f-1085-4c93-989b-0f79f084fbe4...\n"
     ]
    },
    {
     "name": "stderr",
     "output_type": "stream",
     "text": [
      "100%|███████████████████████████████████████████████████████████████████████| 1738177/1738177 [35:49<00:00, 808.47KB/s]\n"
     ]
    },
    {
     "name": "stdout",
     "output_type": "stream",
     "text": [
      "\n",
      "=============\n",
      ">> download : 16 th\n"
     ]
    },
    {
     "name": "stderr",
     "output_type": "stream",
     "text": [
      "\r",
      "  0%|                                                                                      | 0/3732177 [00:00<?, ?KB/s]"
     ]
    },
    {
     "name": "stdout",
     "output_type": "stream",
     "text": [
      "Downloading 907e4462-c45d-4a62-8ade-553f2c217312...\n"
     ]
    },
    {
     "name": "stderr",
     "output_type": "stream",
     "text": [
      "100%|█████████████████████████████████████████████████████████████████████| 3732177/3732177 [1:10:38<00:00, 880.59KB/s]\n"
     ]
    },
    {
     "name": "stdout",
     "output_type": "stream",
     "text": [
      "\n",
      "=============\n",
      ">> download : 17 th\n"
     ]
    },
    {
     "name": "stderr",
     "output_type": "stream",
     "text": [
      "\r",
      "  0%|                                                                                      | 0/2899000 [00:00<?, ?KB/s]"
     ]
    },
    {
     "name": "stdout",
     "output_type": "stream",
     "text": [
      "Downloading af169293-1b83-4bd9-a8cf-4708325cdf73...\n"
     ]
    },
    {
     "name": "stderr",
     "output_type": "stream",
     "text": [
      "100%|███████████████████████████████████████████████████████████████████████| 2899000/2899000 [54:33<00:00, 885.68KB/s]\n"
     ]
    },
    {
     "name": "stdout",
     "output_type": "stream",
     "text": [
      "\n",
      "=============\n",
      ">> download : 18 th\n"
     ]
    },
    {
     "name": "stderr",
     "output_type": "stream",
     "text": [
      "\r",
      "  0%|                                                                                      | 0/1738177 [00:00<?, ?KB/s]"
     ]
    },
    {
     "name": "stdout",
     "output_type": "stream",
     "text": [
      "Downloading c22a01be-8903-4ad3-b58d-3781b2d20bf8...\n"
     ]
    },
    {
     "name": "stderr",
     "output_type": "stream",
     "text": [
      "100%|███████████████████████████████████████████████████████████████████████| 1738177/1738177 [33:15<00:00, 871.19KB/s]\n"
     ]
    },
    {
     "name": "stdout",
     "output_type": "stream",
     "text": [
      "\n",
      "=============\n",
      ">> download : 19 th\n"
     ]
    },
    {
     "name": "stderr",
     "output_type": "stream",
     "text": [
      "\r",
      "  0%|                                                                                      | 0/3169761 [00:00<?, ?KB/s]"
     ]
    },
    {
     "name": "stdout",
     "output_type": "stream",
     "text": [
      "Downloading 3b2f97c1-6c7a-41b7-82bb-698f0b6fd3d0...\n"
     ]
    },
    {
     "name": "stderr",
     "output_type": "stream",
     "text": [
      "100%|█████████████████████████████████████████████████████████████████████| 3169761/3169761 [1:00:24<00:00, 874.64KB/s]\n"
     ]
    },
    {
     "name": "stdout",
     "output_type": "stream",
     "text": [
      "\n",
      "=============\n",
      ">> download : 20 th\n"
     ]
    },
    {
     "name": "stderr",
     "output_type": "stream",
     "text": [
      "\r",
      "  0%|                                                                                      | 0/2322510 [00:00<?, ?KB/s]"
     ]
    },
    {
     "name": "stdout",
     "output_type": "stream",
     "text": [
      "Downloading 36ddbca0-c5fd-41a3-854d-4790649d89c2...\n"
     ]
    },
    {
     "name": "stderr",
     "output_type": "stream",
     "text": [
      "100%|███████████████████████████████████████████████████████████████████████| 2322510/2322510 [45:57<00:00, 842.32KB/s]\n"
     ]
    },
    {
     "name": "stdout",
     "output_type": "stream",
     "text": [
      "\n",
      "=============\n",
      ">> download : 21 th\n"
     ]
    },
    {
     "name": "stderr",
     "output_type": "stream",
     "text": [
      "\r",
      "  0%|                                                                                      | 0/1135161 [00:00<?, ?KB/s]"
     ]
    },
    {
     "name": "stdout",
     "output_type": "stream",
     "text": [
      "Downloading c155c00a-80af-421b-ae48-e7ed0dec9777...\n"
     ]
    },
    {
     "name": "stderr",
     "output_type": "stream",
     "text": [
      "100%|███████████████████████████████████████████████████████████████████████| 1135161/1135161 [21:23<00:00, 884.53KB/s]\n"
     ]
    },
    {
     "name": "stdout",
     "output_type": "stream",
     "text": [
      "\n",
      "=============\n",
      ">> download : 22 th\n"
     ]
    },
    {
     "name": "stderr",
     "output_type": "stream",
     "text": [
      "\r",
      "  0%|                                                                                      | 0/1045549 [00:00<?, ?KB/s]"
     ]
    },
    {
     "name": "stdout",
     "output_type": "stream",
     "text": [
      "Downloading d65e98c1-f893-48b5-b093-057b327a410c...\n"
     ]
    },
    {
     "name": "stderr",
     "output_type": "stream",
     "text": [
      "100%|███████████████████████████████████████████████████████████████████████| 1045549/1045549 [22:09<00:00, 786.33KB/s]\n"
     ]
    },
    {
     "name": "stdout",
     "output_type": "stream",
     "text": [
      "\n",
      "=============\n",
      ">> download : 23 th\n"
     ]
    },
    {
     "name": "stderr",
     "output_type": "stream",
     "text": [
      "\r",
      "  0%|                                                                                      | 0/1165033 [00:00<?, ?KB/s]"
     ]
    },
    {
     "name": "stdout",
     "output_type": "stream",
     "text": [
      "Downloading 3c8b5e73-29ab-400d-b397-5f0bca4b7cb6...\n"
     ]
    },
    {
     "name": "stderr",
     "output_type": "stream",
     "text": [
      "100%|███████████████████████████████████████████████████████████████████████| 1165033/1165033 [25:14<00:00, 769.34KB/s]\n"
     ]
    },
    {
     "name": "stdout",
     "output_type": "stream",
     "text": [
      "\n",
      "=============\n",
      ">> download : 24 th\n"
     ]
    },
    {
     "name": "stderr",
     "output_type": "stream",
     "text": [
      "\r",
      "  0%|                                                                                      | 0/1194905 [00:00<?, ?KB/s]"
     ]
    },
    {
     "name": "stdout",
     "output_type": "stream",
     "text": [
      "Downloading 34c9860c-c752-4062-aaf5-530d63272c98...\n"
     ]
    },
    {
     "name": "stderr",
     "output_type": "stream",
     "text": [
      "100%|███████████████████████████████████████████████████████████████████████| 1194905/1194905 [23:56<00:00, 831.79KB/s]\n"
     ]
    },
    {
     "name": "stdout",
     "output_type": "stream",
     "text": [
      "\n",
      "=============\n",
      ">> download : 25 th\n"
     ]
    },
    {
     "name": "stderr",
     "output_type": "stream",
     "text": [
      "  0%|                                                                           | 1/1224777 [00:00<54:03:17,  6.29KB/s]"
     ]
    },
    {
     "name": "stdout",
     "output_type": "stream",
     "text": [
      "Downloading 47a37b36-d970-47b4-ac8c-3b2c8d50d002...\n"
     ]
    },
    {
     "name": "stderr",
     "output_type": "stream",
     "text": [
      "100%|███████████████████████████████████████████████████████████████████████| 1224777/1224777 [26:02<00:00, 784.03KB/s]\n"
     ]
    },
    {
     "name": "stdout",
     "output_type": "stream",
     "text": [
      "\n",
      "=============\n",
      ">> download : 26 th\n"
     ]
    },
    {
     "name": "stderr",
     "output_type": "stream",
     "text": [
      "\r",
      "  0%|                                                                                      | 0/1135161 [00:00<?, ?KB/s]"
     ]
    },
    {
     "name": "stdout",
     "output_type": "stream",
     "text": [
      "Downloading 2448503f-4fda-4e3e-b269-bfffa814962d...\n"
     ]
    },
    {
     "name": "stderr",
     "output_type": "stream",
     "text": [
      "100%|███████████████████████████████████████████████████████████████████████| 1135161/1135161 [26:12<00:00, 722.09KB/s]\n"
     ]
    },
    {
     "name": "stdout",
     "output_type": "stream",
     "text": [
      "\n",
      "=============\n",
      ">> download : 27 th\n"
     ]
    },
    {
     "name": "stderr",
     "output_type": "stream",
     "text": [
      "\r",
      "  0%|                                                                                      | 0/1135161 [00:00<?, ?KB/s]"
     ]
    },
    {
     "name": "stdout",
     "output_type": "stream",
     "text": [
      "Downloading 36cb711d-5a2d-449a-b381-ab01c913055e...\n"
     ]
    },
    {
     "name": "stderr",
     "output_type": "stream",
     "text": [
      "100%|███████████████████████████████████████████████████████████████████████| 1135161/1135161 [23:15<00:00, 813.38KB/s]\n"
     ]
    },
    {
     "name": "stdout",
     "output_type": "stream",
     "text": [
      "\n",
      "=============\n",
      ">> download : 28 th\n"
     ]
    },
    {
     "name": "stderr",
     "output_type": "stream",
     "text": [
      "\r",
      "  0%|                                                                                      | 0/1105289 [00:00<?, ?KB/s]"
     ]
    },
    {
     "name": "stdout",
     "output_type": "stream",
     "text": [
      "Downloading 14b0b5bd-25f4-4e6c-aa50-5a0048a495f8...\n"
     ]
    },
    {
     "name": "stderr",
     "output_type": "stream",
     "text": [
      "100%|█████████████████████████████████████████████████████████████████████| 1105289/1105289 [1:01:54<00:00, 297.60KB/s]\n"
     ]
    },
    {
     "name": "stdout",
     "output_type": "stream",
     "text": [
      "\n",
      "=============\n",
      ">> download : 29 th\n"
     ]
    },
    {
     "name": "stderr",
     "output_type": "stream",
     "text": [
      "\r",
      "  0%|                                                                                      | 0/1045548 [00:00<?, ?KB/s]"
     ]
    },
    {
     "name": "stdout",
     "output_type": "stream",
     "text": [
      "Downloading 826bba6e-8dd3-4b41-a689-c0b2138294db...\n"
     ]
    },
    {
     "name": "stderr",
     "output_type": "stream",
     "text": [
      "100%|███████████████████████████████████████████████████████████████████████| 1045548/1045548 [21:29<00:00, 810.90KB/s]\n"
     ]
    }
   ],
   "source": [
    "for i in range(3,30):\n",
    "    print(\"\\n=============\\n>> download :\", i, \"th\")\n",
    "#     uuid = tables.iloc[i]['UUID']\n",
    "#     url = r'http://mridata.org/download/%s'%uuid\n",
    "#     wget.download(url, out=os.path.join(out_dir, uuid+\".h5\"))\n",
    "    mridata.download(tables.iloc[i]['UUID'], folder=out_dir)"
   ]
  },
  {
   "cell_type": "code",
   "execution_count": null,
   "metadata": {},
   "outputs": [
    {
     "name": "stdout",
     "output_type": "stream",
     "text": [
      "Downloading 90bc0b15-eea2-4abb-b0d2-f3fdad57bb43...\n"
     ]
    },
    {
     "name": "stderr",
     "output_type": "stream",
     "text": [
      "  2%|█▏                                                                   | 60435/3529421 [1:15:51<85:04:15, 11.33KB/s]"
     ]
    }
   ],
   "source": [
    " mridata.download(tables.iloc[9]['UUID'], folder=out_dir)"
   ]
  },
  {
   "cell_type": "code",
   "execution_count": null,
   "metadata": {},
   "outputs": [],
   "source": []
  }
 ],
 "metadata": {
  "kernelspec": {
   "display_name": "Python 3",
   "language": "python",
   "name": "python3"
  },
  "language_info": {
   "codemirror_mode": {
    "name": "ipython",
    "version": 3
   },
   "file_extension": ".py",
   "mimetype": "text/x-python",
   "name": "python",
   "nbconvert_exporter": "python",
   "pygments_lexer": "ipython3",
   "version": "3.7.6"
  },
  "varInspector": {
   "cols": {
    "lenName": 16,
    "lenType": 16,
    "lenVar": 40
   },
   "kernels_config": {
    "python": {
     "delete_cmd_postfix": "",
     "delete_cmd_prefix": "del ",
     "library": "var_list.py",
     "varRefreshCmd": "print(var_dic_list())"
    },
    "r": {
     "delete_cmd_postfix": ") ",
     "delete_cmd_prefix": "rm(",
     "library": "var_list.r",
     "varRefreshCmd": "cat(var_dic_list()) "
    }
   },
   "types_to_exclude": [
    "module",
    "function",
    "builtin_function_or_method",
    "instance",
    "_Feature"
   ],
   "window_display": false
  }
 },
 "nbformat": 4,
 "nbformat_minor": 4
}
