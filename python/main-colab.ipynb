{
  "nbformat": 4,
  "nbformat_minor": 0,
  "metadata": {
    "kernelspec": {
      "display_name": "Python 3",
      "language": "python",
      "name": "python3"
    },
    "language_info": {
      "codemirror_mode": {
        "name": "ipython",
        "version": 3
      },
      "file_extension": ".py",
      "mimetype": "text/x-python",
      "name": "python",
      "nbconvert_exporter": "python",
      "pygments_lexer": "ipython3",
      "version": "3.7.6"
    },
    "varInspector": {
      "cols": {
        "lenName": 16,
        "lenType": 16,
        "lenVar": 40
      },
      "kernels_config": {
        "python": {
          "delete_cmd_postfix": "",
          "delete_cmd_prefix": "del ",
          "library": "var_list.py",
          "varRefreshCmd": "print(var_dic_list())"
        },
        "r": {
          "delete_cmd_postfix": ") ",
          "delete_cmd_prefix": "rm(",
          "library": "var_list.r",
          "varRefreshCmd": "cat(var_dic_list()) "
        }
      },
      "types_to_exclude": [
        "module",
        "function",
        "builtin_function_or_method",
        "instance",
        "_Feature"
      ],
      "window_display": false
    },
    "colab": {
      "name": "main-colab.ipynb",
      "provenance": []
    }
  },
  "cells": [
    {
      "cell_type": "code",
      "metadata": {
        "colab": {
          "base_uri": "https://localhost:8080/"
        },
        "id": "tgMA7Tdw0eYE",
        "outputId": "30355b9f-9023-434a-8d80-5a4f762bb37a"
      },
      "source": [
        "!rm -rf ./mri-reconstruction\n",
        "!git clone https://github.com/MohammadRaziei/mri-reconstruction > /dev/null\n",
        "!cp -r mri-reconstruction/python/* . && rm -r mri-reconstruction/python > /dev/null\n",
        "!pip install -r requirements.txt > /dev/null"
      ],
      "execution_count": 1,
      "outputs": [
        {
          "output_type": "stream",
          "text": [
            "Cloning into 'mri-reconstruction'...\n",
            "remote: Enumerating objects: 41, done.\u001b[K\n",
            "remote: Counting objects: 100% (41/41), done.\u001b[K\n",
            "remote: Compressing objects: 100% (28/28), done.\u001b[K\n",
            "remote: Total 41 (delta 8), reused 31 (delta 3), pack-reused 0\u001b[K\n",
            "Unpacking objects: 100% (41/41), done.\n"
          ],
          "name": "stdout"
        }
      ]
    },
    {
      "cell_type": "code",
      "metadata": {
        "colab": {
          "base_uri": "https://localhost:8080/"
        },
        "id": "JZlBI4tG3W5n",
        "outputId": "df2b5072-5b51-4dbb-f94d-b0e3e5562022"
      },
      "source": [
        "import os, glob, sys, io\n",
        "import numpy as np\n",
        "import pandas as pd\n",
        "import tensorflow as tf\n",
        "import mridatapreprocessing as mdp"
      ],
      "execution_count": 4,
      "outputs": [
        {
          "output_type": "stream",
          "text": [
            "/usr/lib/python3.7/importlib/_bootstrap.py:219: RuntimeWarning: numpy.ufunc size changed, may indicate binary incompatibility. Expected 192 from C header, got 216 from PyObject\n",
            "  return f(*args, **kwds)\n"
          ],
          "name": "stderr"
        }
      ]
    },
    {
      "cell_type": "code",
      "metadata": {
        "id": "vDokjVhC2AIh"
      },
      "source": [
        "data_dir = 'data'\n",
        "dir_mridata_org = os.path.join(data_dir, 'raw/ismrmrd')\n",
        "uuid_txt = io.StringIO(\"cc52722b-8649-45b0-a1ea-8727c1687ad5\")\n"
      ],
      "execution_count": 5,
      "outputs": []
    },
    {
      "cell_type": "code",
      "metadata": {
        "colab": {
          "base_uri": "https://localhost:8080/"
        },
        "id": "izrN5S3F3hZ1",
        "outputId": "3e1d6298-9a38-4212-88d7-1df4e06f00d0"
      },
      "source": [
        "mdp.download_mridata_org_dataset(uuid_txt, dir_mridata_org)"
      ],
      "execution_count": 6,
      "outputs": [
        {
          "output_type": "stream",
          "text": [
            "WARNING:dl-cs:Downloading data mridata.org to existing directory data/raw/ismrmrd...\n",
            "  0%|          | 70/2018525 [00:00<53:35, 627.63KB/s]"
          ],
          "name": "stderr"
        },
        {
          "output_type": "stream",
          "text": [
            "Downloading cc52722b-8649-45b0-a1ea-8727c1687ad5...\n"
          ],
          "name": "stdout"
        },
        {
          "output_type": "stream",
          "text": [
            "100%|██████████| 2018525/2018525 [01:03<00:00, 31848.00KB/s]\n"
          ],
          "name": "stderr"
        }
      ]
    },
    {
      "cell_type": "code",
      "metadata": {
        "id": "4sa_XOBU0W3m"
      },
      "source": [
        "from tensorflow.keras.models import Model\n",
        "from tensorflow.keras.layers import Input\n",
        "from tensorflow.keras.layers import Conv2D, Dense"
      ],
      "execution_count": null,
      "outputs": []
    },
    {
      "cell_type": "code",
      "metadata": {
        "id": "b2tW8uC60W3n"
      },
      "source": [
        "# import ismrmrdtools"
      ],
      "execution_count": null,
      "outputs": []
    },
    {
      "cell_type": "code",
      "metadata": {
        "id": "3Uz10eNN0W3o"
      },
      "source": [
        "import ismrmrd, ismrmrd.xsd\n",
        "import logging as logger\n",
        "from pprint import pprint\n",
        "logger.basicConfig(level=logging.INFO)"
      ],
      "execution_count": null,
      "outputs": []
    },
    {
      "cell_type": "code",
      "metadata": {
        "id": "79ad95v10W3p"
      },
      "source": [
        "def ismrmrd_to_np(filename):\n",
        "    \"\"\"Read ISMRMRD data file to numpy array\"\"\"\n",
        "    logger.debug('Loading file {}...'.format(filename))\n",
        "    dataset = ismrmrd.Dataset(filename, create_if_needed=False)\n",
        "    header = ismrmrd.xsd.CreateFromDocument(dataset.read_xml_header())\n",
        "    num_kx = header.encoding[0].encodedSpace.matrixSize.x\n",
        "    num_ky = header.encoding[0].encodingLimits.kspace_encoding_step_1.maximum\n",
        "    num_slices = header.encoding[0].encodingLimits.slice.maximum + 1\n",
        "    num_channels = header.acquisitionSystemInformation.receiverChannels"
      ],
      "execution_count": null,
      "outputs": []
    },
    {
      "cell_type": "code",
      "metadata": {
        "id": "63gNfgov0W3p",
        "outputId": "853099bb-f926-4579-841e-6ca83a1a5e14"
      },
      "source": [
        "dataset = ismrmrd.Dataset(filename, create_if_needed=False)\n",
        "dataset"
      ],
      "execution_count": null,
      "outputs": [
        {
          "output_type": "execute_result",
          "data": {
            "text/plain": [
              "<ismrmrd.hdf5.Dataset at 0x1a1267f6908>"
            ]
          },
          "metadata": {
            "tags": []
          },
          "execution_count": 21
        }
      ]
    },
    {
      "cell_type": "code",
      "metadata": {
        "id": "laKBTFor0W3q",
        "outputId": "18406f18-f35a-420a-97ed-248e9d215ff5"
      },
      "source": [
        "header = ismrmrd.xsd.CreateFromDocument(dataset.read_xml_header())\n",
        "header"
      ],
      "execution_count": null,
      "outputs": [
        {
          "output_type": "execute_result",
          "data": {
            "text/plain": [
              "ismrmrdHeader(version=None, subjectInformation=None, studyInformation=studyInformationType(studyDate=None, studyTime=XmlTime(7, 56, 53, 0), studyID=None, accessionNumber=None, referringPhysicianName=None, studyDescription=None, studyInstanceUID=None), measurementInformation=measurementInformationType(measurementID='45167_59757578_59757587_1821', seriesDate=None, seriesTime=None, patientPosition=<patientPositionType.FFS: 'FFS'>, initialSeriesNumber=None, protocolName='SAG', seriesDescription=None, measurementDependency=[measurementDependencyType(dependencyType='SenMap', measurementID='45167_59757578_59757587_1815'), measurementDependencyType(dependencyType='Noise', measurementID='45167_59757578_59757587_1815')], seriesInstanceUIDRoot=None, frameOfReferenceUID='1.3.12.2.1107.5.2.19.45167.1.20160817074730264.0.0.0', referencedImageSequence=None), acquisitionSystemInformation=acquisitionSystemInformationType(systemVendor='SIEMENS', systemModel='Skyra', systemFieldStrength_T=2.89362, relativeReceiverNoiseBandwidth=0.793, receiverChannels=15, coilLabel=[coilLabelType(coilNumber=29, coilName='TxRx_15Ch_Knee:1:K5'), coilLabelType(coilNumber=42, coilName='TxRx_15Ch_Knee:1:K15'), coilLabelType(coilNumber=41, coilName='TxRx_15Ch_Knee:1:K9'), coilLabelType(coilNumber=26, coilName='TxRx_15Ch_Knee:1:K4'), coilLabelType(coilNumber=25, coilName='TxRx_15Ch_Knee:1:K7'), coilLabelType(coilNumber=30, coilName='TxRx_15Ch_Knee:1:K8'), coilLabelType(coilNumber=46, coilName='TxRx_15Ch_Knee:1:K1'), coilLabelType(coilNumber=18, coilName='TxRx_15Ch_Knee:1:K6'), coilLabelType(coilNumber=17, coilName='TxRx_15Ch_Knee:1:K14'), coilLabelType(coilNumber=22, coilName='TxRx_15Ch_Knee:1:K10'), coilLabelType(coilNumber=21, coilName='TxRx_15Ch_Knee:1:K13'), coilLabelType(coilNumber=34, coilName='TxRx_15Ch_Knee:1:K3'), coilLabelType(coilNumber=33, coilName='TxRx_15Ch_Knee:1:K2'), coilLabelType(coilNumber=38, coilName='TxRx_15Ch_Knee:1:K12'), coilLabelType(coilNumber=37, coilName='TxRx_15Ch_Knee:1:K11')], institutionName='HJD', stationName=None, deviceId=None), experimentalConditions=experimentalConditionsType(H1resonanceFrequency_Hz=123239246), encoding=[encodingType(encodedSpace=encodingSpaceType(matrixSize=matrixSizeType(x=768, y=770, z=1), fieldOfView_mm=fieldOfViewMm(x=280.0, y=280.700012, z=4.5)), reconSpace=encodingSpaceType(matrixSize=matrixSizeType(x=384, y=384, z=1), fieldOfView_mm=fieldOfViewMm(x=140.0, y=140.0, z=3.0)), encodingLimits=encodingLimitsType(kspace_encoding_step_0=None, kspace_encoding_step_1=limitType(minimum=0, maximum=615, center=308), kspace_encoding_step_2=limitType(minimum=0, maximum=0, center=0), average=limitType(minimum=0, maximum=0, center=0), slice=limitType(minimum=0, maximum=35, center=0), contrast=limitType(minimum=0, maximum=0, center=0), phase=limitType(minimum=0, maximum=0, center=0), repetition=limitType(minimum=0, maximum=0, center=0), set=limitType(minimum=0, maximum=0, center=0), segment=limitType(minimum=0, maximum=0, center=0)), trajectory=<trajectoryType.CARTESIAN: 'cartesian'>, trajectoryDescription=None, parallelImaging=parallelImagingType(accelerationFactor=accelerationFactorType(kspace_encoding_step_1=1, kspace_encoding_step_2=1), calibrationMode=<calibrationModeType.OTHER: 'other'>, interleavingDimension=None), echoTrainLength=None)], sequenceParameters=sequenceParametersType(TR=[2800.0], TE=[22.0], TI=[100.0], flipAngle_deg=[150.0], sequence_type='TurboSpinEcho', echo_spacing=[11.12]), userParameters=userParametersType(userParameterLong=[], userParameterDouble=[userParameterDoubleType(name='MaxwellCoefficient_0', value=0.0), userParameterDoubleType(name='MaxwellCoefficient_1', value=0.0), userParameterDoubleType(name='MaxwellCoefficient_2', value=0.0), userParameterDoubleType(name='MaxwellCoefficient_3', value=0.0), userParameterDoubleType(name='MaxwellCoefficient_4', value=0.0), userParameterDoubleType(name='MaxwellCoefficient_5', value=0.0), userParameterDoubleType(name='MaxwellCoefficient_6', value=0.0), userParameterDoubleType(name='MaxwellCoefficient_7', value=0.0), userParameterDoubleType(name='MaxwellCoefficient_8', value=0.0), userParameterDoubleType(name='MaxwellCoefficient_9', value=0.0), userParameterDoubleType(name='MaxwellCoefficient_10', value=0.0), userParameterDoubleType(name='MaxwellCoefficient_11', value=0.0), userParameterDoubleType(name='MaxwellCoefficient_12', value=0.0), userParameterDoubleType(name='MaxwellCoefficient_13', value=0.0), userParameterDoubleType(name='MaxwellCoefficient_14', value=0.0), userParameterDoubleType(name='MaxwellCoefficient_15', value=0.0)], userParameterString=[], userParameterBase64=[]), waveformInformation=[])"
            ]
          },
          "metadata": {
            "tags": []
          },
          "execution_count": 30
        }
      ]
    },
    {
      "cell_type": "code",
      "metadata": {
        "id": "lx_6Uthv0W3r",
        "outputId": "c9852fea-36c2-4a92-93b3-73cbf5965bb6"
      },
      "source": [
        "header.encoding"
      ],
      "execution_count": null,
      "outputs": [
        {
          "output_type": "execute_result",
          "data": {
            "text/plain": [
              "[encodingType(encodedSpace=encodingSpaceType(matrixSize=matrixSizeType(x=768, y=770, z=1), fieldOfView_mm=fieldOfViewMm(x=280.0, y=280.700012, z=4.5)), reconSpace=encodingSpaceType(matrixSize=matrixSizeType(x=384, y=384, z=1), fieldOfView_mm=fieldOfViewMm(x=140.0, y=140.0, z=3.0)), encodingLimits=encodingLimitsType(kspace_encoding_step_0=None, kspace_encoding_step_1=limitType(minimum=0, maximum=615, center=308), kspace_encoding_step_2=limitType(minimum=0, maximum=0, center=0), average=limitType(minimum=0, maximum=0, center=0), slice=limitType(minimum=0, maximum=35, center=0), contrast=limitType(minimum=0, maximum=0, center=0), phase=limitType(minimum=0, maximum=0, center=0), repetition=limitType(minimum=0, maximum=0, center=0), set=limitType(minimum=0, maximum=0, center=0), segment=limitType(minimum=0, maximum=0, center=0)), trajectory=<trajectoryType.CARTESIAN: 'cartesian'>, trajectoryDescription=None, parallelImaging=parallelImagingType(accelerationFactor=accelerationFactorType(kspace_encoding_step_1=1, kspace_encoding_step_2=1), calibrationMode=<calibrationModeType.OTHER: 'other'>, interleavingDimension=None), echoTrainLength=None)]"
            ]
          },
          "metadata": {
            "tags": []
          },
          "execution_count": 49
        }
      ]
    },
    {
      "cell_type": "code",
      "metadata": {
        "id": "Eq1M4_Ux6mSl"
      },
      "source": [
        "import io\n",
        "fake_file = io.StringIO(\"your text goes here\")"
      ],
      "execution_count": 24,
      "outputs": []
    },
    {
      "cell_type": "code",
      "metadata": {
        "colab": {
          "base_uri": "https://localhost:8080/"
        },
        "id": "OMECXOit6_Te",
        "outputId": "fafdbd35-f113-4ecb-efed-464223f87cec"
      },
      "source": [
        "type(fake_file)"
      ],
      "execution_count": 28,
      "outputs": [
        {
          "output_type": "execute_result",
          "data": {
            "text/plain": [
              "_io.StringIO"
            ]
          },
          "metadata": {
            "tags": []
          },
          "execution_count": 28
        }
      ]
    },
    {
      "cell_type": "code",
      "metadata": {
        "colab": {
          "base_uri": "https://localhost:8080/"
        },
        "id": "rHSwhM8r6r4X",
        "outputId": "072bcf0e-eb41-492c-b0e9-bbf85054792a"
      },
      "source": [
        "isinstance(fake_file, io.StringIO)"
      ],
      "execution_count": 31,
      "outputs": [
        {
          "output_type": "execute_result",
          "data": {
            "text/plain": [
              "True"
            ]
          },
          "metadata": {
            "tags": []
          },
          "execution_count": 31
        }
      ]
    },
    {
      "cell_type": "code",
      "metadata": {
        "id": "0lHzOzhf0W3s"
      },
      "source": [
        "def download_mridata_org_dataset(filename_txt, dir_output):\n",
        "    \"\"\"Download datasets from mridata.org if needed\"\"\"\n",
        "    if os.path.isdir(dir_output):\n",
        "        logger.warning(\n",
        "            'Downloading data mridata.org to existing directory {}...'.format(\n",
        "                dir_output))\n",
        "    else:\n",
        "        os.makedirs(dir_output)\n",
        "        logger.info(\n",
        "            'Downloading data from mridata.org to {}...'.format(dir_output))\n",
        "\n",
        "    uuids = open(filename_txt).read().splitlines()\n",
        "    for uuid in uuids:\n",
        "        if not os.path.exists('{}/{}.h5'.format(dir_output, uuid)):\n",
        "            mridata.download(uuid, folder=dir_output)\n"
      ],
      "execution_count": null,
      "outputs": []
    },
    {
      "cell_type": "code",
      "metadata": {
        "id": "vUedDoBd0W3s",
        "outputId": "1483e14d-603b-482b-e718-0a226af7479e"
      },
      "source": [
        "from mridatapreprocessing import *"
      ],
      "execution_count": null,
      "outputs": [
        {
          "output_type": "error",
          "ename": "ImportError",
          "evalue": "DLL load failed: The specified module could not be found.",
          "traceback": [
            "\u001b[1;31m---------------------------------------------------------------------------\u001b[0m",
            "\u001b[1;31mImportError\u001b[0m                               Traceback (most recent call last)",
            "\u001b[1;32m<ipython-input-50-1e8ab1a3dba8>\u001b[0m in \u001b[0;36m<module>\u001b[1;34m\u001b[0m\n\u001b[1;32m----> 1\u001b[1;33m \u001b[1;32mfrom\u001b[0m \u001b[0mmridatapreprocessing\u001b[0m \u001b[1;32mimport\u001b[0m \u001b[1;33m*\u001b[0m\u001b[1;33m\u001b[0m\u001b[1;33m\u001b[0m\u001b[0m\n\u001b[0m",
            "\u001b[1;32mE:\\Terms\\MSc\\Compressed sensing\\13992\\HWs\\Project\\python\\mridatapreprocessing.py\u001b[0m in \u001b[0;36m<module>\u001b[1;34m\u001b[0m\n\u001b[0;32m     10\u001b[0m \u001b[1;32mimport\u001b[0m \u001b[0mismrmrd\u001b[0m\u001b[1;33m\u001b[0m\u001b[1;33m\u001b[0m\u001b[0m\n\u001b[0;32m     11\u001b[0m \u001b[1;32mimport\u001b[0m \u001b[0mnumpy\u001b[0m \u001b[1;32mas\u001b[0m \u001b[0mnp\u001b[0m\u001b[1;33m\u001b[0m\u001b[1;33m\u001b[0m\u001b[0m\n\u001b[1;32m---> 12\u001b[1;33m \u001b[1;32mimport\u001b[0m \u001b[0msigpy\u001b[0m\u001b[1;33m.\u001b[0m\u001b[0mmri\u001b[0m\u001b[1;33m\u001b[0m\u001b[1;33m\u001b[0m\u001b[0m\n\u001b[0m\u001b[0;32m     13\u001b[0m \u001b[1;33m\u001b[0m\u001b[0m\n\u001b[0;32m     14\u001b[0m \u001b[1;32mimport\u001b[0m \u001b[0mutils\u001b[0m\u001b[1;33m.\u001b[0m\u001b[0mlogging\u001b[0m\u001b[1;33m\u001b[0m\u001b[1;33m\u001b[0m\u001b[0m\n",
            "\u001b[1;32mC:\\ProgramData\\Anaconda3\\lib\\site-packages\\sigpy\\__init__.py\u001b[0m in \u001b[0;36m<module>\u001b[1;34m\u001b[0m\n\u001b[0;32m     10\u001b[0m \"\"\"\n\u001b[0;32m     11\u001b[0m \u001b[1;32mfrom\u001b[0m \u001b[1;33m.\u001b[0m\u001b[0mversion\u001b[0m \u001b[1;32mimport\u001b[0m \u001b[0m__version__\u001b[0m \u001b[1;31m# noqa\u001b[0m\u001b[1;33m\u001b[0m\u001b[1;33m\u001b[0m\u001b[0m\n\u001b[1;32m---> 12\u001b[1;33m \u001b[1;32mfrom\u001b[0m \u001b[0msigpy\u001b[0m \u001b[1;32mimport\u001b[0m \u001b[0malg\u001b[0m\u001b[1;33m,\u001b[0m \u001b[0mapp\u001b[0m\u001b[1;33m,\u001b[0m \u001b[0mconfig\u001b[0m\u001b[1;33m,\u001b[0m \u001b[0mlinop\u001b[0m\u001b[1;33m,\u001b[0m \u001b[0mprox\u001b[0m\u001b[1;33m\u001b[0m\u001b[1;33m\u001b[0m\u001b[0m\n\u001b[0m\u001b[0;32m     13\u001b[0m \u001b[1;33m\u001b[0m\u001b[0m\n\u001b[0;32m     14\u001b[0m from sigpy import (backend, block, conv, interp,\n",
            "\u001b[1;32mC:\\ProgramData\\Anaconda3\\lib\\site-packages\\sigpy\\alg.py\u001b[0m in \u001b[0;36m<module>\u001b[1;34m\u001b[0m\n\u001b[0;32m      6\u001b[0m \u001b[1;32mimport\u001b[0m \u001b[0mnumpy\u001b[0m \u001b[1;32mas\u001b[0m \u001b[0mnp\u001b[0m\u001b[1;33m\u001b[0m\u001b[1;33m\u001b[0m\u001b[0m\n\u001b[0;32m      7\u001b[0m \u001b[1;32mimport\u001b[0m \u001b[0msigpy\u001b[0m \u001b[1;32mas\u001b[0m \u001b[0msp\u001b[0m\u001b[1;33m\u001b[0m\u001b[1;33m\u001b[0m\u001b[0m\n\u001b[1;32m----> 8\u001b[1;33m \u001b[1;32mfrom\u001b[0m \u001b[0msigpy\u001b[0m \u001b[1;32mimport\u001b[0m \u001b[0mbackend\u001b[0m\u001b[1;33m,\u001b[0m \u001b[0mutil\u001b[0m\u001b[1;33m\u001b[0m\u001b[1;33m\u001b[0m\u001b[0m\n\u001b[0m\u001b[0;32m      9\u001b[0m \u001b[1;33m\u001b[0m\u001b[0m\n\u001b[0;32m     10\u001b[0m \u001b[1;33m\u001b[0m\u001b[0m\n",
            "\u001b[1;32mC:\\ProgramData\\Anaconda3\\lib\\site-packages\\sigpy\\backend.py\u001b[0m in \u001b[0;36m<module>\u001b[1;34m\u001b[0m\n\u001b[0;32m      9\u001b[0m \u001b[1;33m\u001b[0m\u001b[0m\n\u001b[0;32m     10\u001b[0m \u001b[1;32mif\u001b[0m \u001b[0mconfig\u001b[0m\u001b[1;33m.\u001b[0m\u001b[0mmpi4py_enabled\u001b[0m\u001b[1;33m:\u001b[0m\u001b[1;33m\u001b[0m\u001b[1;33m\u001b[0m\u001b[0m\n\u001b[1;32m---> 11\u001b[1;33m     \u001b[1;32mfrom\u001b[0m \u001b[0mmpi4py\u001b[0m \u001b[1;32mimport\u001b[0m \u001b[0mMPI\u001b[0m\u001b[1;33m\u001b[0m\u001b[1;33m\u001b[0m\u001b[0m\n\u001b[0m\u001b[0;32m     12\u001b[0m \u001b[1;33m\u001b[0m\u001b[0m\n\u001b[0;32m     13\u001b[0m     \u001b[1;32mif\u001b[0m \u001b[0mconfig\u001b[0m\u001b[1;33m.\u001b[0m\u001b[0mnccl_enabled\u001b[0m\u001b[1;33m:\u001b[0m\u001b[1;33m\u001b[0m\u001b[1;33m\u001b[0m\u001b[0m\n",
            "\u001b[1;31mImportError\u001b[0m: DLL load failed: The specified module could not be found."
          ]
        }
      ]
    },
    {
      "cell_type": "code",
      "metadata": {
        "id": "X8HVJInY0W3t",
        "outputId": "3ce43722-c8b3-4395-f35d-8abce03cdb27"
      },
      "source": [
        "import sigpy.mri"
      ],
      "execution_count": null,
      "outputs": [
        {
          "output_type": "error",
          "ename": "ImportError",
          "evalue": "DLL load failed: The specified module could not be found.",
          "traceback": [
            "\u001b[1;31m---------------------------------------------------------------------------\u001b[0m",
            "\u001b[1;31mImportError\u001b[0m                               Traceback (most recent call last)",
            "\u001b[1;32m<ipython-input-52-d793f44484df>\u001b[0m in \u001b[0;36m<module>\u001b[1;34m\u001b[0m\n\u001b[1;32m----> 1\u001b[1;33m \u001b[1;32mimport\u001b[0m \u001b[0msigpy\u001b[0m\u001b[1;33m.\u001b[0m\u001b[0mmri\u001b[0m\u001b[1;33m\u001b[0m\u001b[1;33m\u001b[0m\u001b[0m\n\u001b[0m",
            "\u001b[1;32mC:\\ProgramData\\Anaconda3\\lib\\site-packages\\sigpy\\__init__.py\u001b[0m in \u001b[0;36m<module>\u001b[1;34m\u001b[0m\n\u001b[0;32m     10\u001b[0m \"\"\"\n\u001b[0;32m     11\u001b[0m \u001b[1;32mfrom\u001b[0m \u001b[1;33m.\u001b[0m\u001b[0mversion\u001b[0m \u001b[1;32mimport\u001b[0m \u001b[0m__version__\u001b[0m \u001b[1;31m# noqa\u001b[0m\u001b[1;33m\u001b[0m\u001b[1;33m\u001b[0m\u001b[0m\n\u001b[1;32m---> 12\u001b[1;33m \u001b[1;32mfrom\u001b[0m \u001b[0msigpy\u001b[0m \u001b[1;32mimport\u001b[0m \u001b[0malg\u001b[0m\u001b[1;33m,\u001b[0m \u001b[0mapp\u001b[0m\u001b[1;33m,\u001b[0m \u001b[0mconfig\u001b[0m\u001b[1;33m,\u001b[0m \u001b[0mlinop\u001b[0m\u001b[1;33m,\u001b[0m \u001b[0mprox\u001b[0m\u001b[1;33m\u001b[0m\u001b[1;33m\u001b[0m\u001b[0m\n\u001b[0m\u001b[0;32m     13\u001b[0m \u001b[1;33m\u001b[0m\u001b[0m\n\u001b[0;32m     14\u001b[0m from sigpy import (backend, block, conv, interp,\n",
            "\u001b[1;32mC:\\ProgramData\\Anaconda3\\lib\\site-packages\\sigpy\\alg.py\u001b[0m in \u001b[0;36m<module>\u001b[1;34m\u001b[0m\n\u001b[0;32m      6\u001b[0m \u001b[1;32mimport\u001b[0m \u001b[0mnumpy\u001b[0m \u001b[1;32mas\u001b[0m \u001b[0mnp\u001b[0m\u001b[1;33m\u001b[0m\u001b[1;33m\u001b[0m\u001b[0m\n\u001b[0;32m      7\u001b[0m \u001b[1;32mimport\u001b[0m \u001b[0msigpy\u001b[0m \u001b[1;32mas\u001b[0m \u001b[0msp\u001b[0m\u001b[1;33m\u001b[0m\u001b[1;33m\u001b[0m\u001b[0m\n\u001b[1;32m----> 8\u001b[1;33m \u001b[1;32mfrom\u001b[0m \u001b[0msigpy\u001b[0m \u001b[1;32mimport\u001b[0m \u001b[0mbackend\u001b[0m\u001b[1;33m,\u001b[0m \u001b[0mutil\u001b[0m\u001b[1;33m\u001b[0m\u001b[1;33m\u001b[0m\u001b[0m\n\u001b[0m\u001b[0;32m      9\u001b[0m \u001b[1;33m\u001b[0m\u001b[0m\n\u001b[0;32m     10\u001b[0m \u001b[1;33m\u001b[0m\u001b[0m\n",
            "\u001b[1;32mC:\\ProgramData\\Anaconda3\\lib\\site-packages\\sigpy\\backend.py\u001b[0m in \u001b[0;36m<module>\u001b[1;34m\u001b[0m\n\u001b[0;32m      9\u001b[0m \u001b[1;33m\u001b[0m\u001b[0m\n\u001b[0;32m     10\u001b[0m \u001b[1;32mif\u001b[0m \u001b[0mconfig\u001b[0m\u001b[1;33m.\u001b[0m\u001b[0mmpi4py_enabled\u001b[0m\u001b[1;33m:\u001b[0m\u001b[1;33m\u001b[0m\u001b[1;33m\u001b[0m\u001b[0m\n\u001b[1;32m---> 11\u001b[1;33m     \u001b[1;32mfrom\u001b[0m \u001b[0mmpi4py\u001b[0m \u001b[1;32mimport\u001b[0m \u001b[0mMPI\u001b[0m\u001b[1;33m\u001b[0m\u001b[1;33m\u001b[0m\u001b[0m\n\u001b[0m\u001b[0;32m     12\u001b[0m \u001b[1;33m\u001b[0m\u001b[0m\n\u001b[0;32m     13\u001b[0m     \u001b[1;32mif\u001b[0m \u001b[0mconfig\u001b[0m\u001b[1;33m.\u001b[0m\u001b[0mnccl_enabled\u001b[0m\u001b[1;33m:\u001b[0m\u001b[1;33m\u001b[0m\u001b[1;33m\u001b[0m\u001b[0m\n",
            "\u001b[1;31mImportError\u001b[0m: DLL load failed: The specified module could not be found."
          ]
        }
      ]
    },
    {
      "cell_type": "code",
      "metadata": {
        "id": "zrO4FS_80W3u",
        "outputId": "1ddcb4a9-b989-4359-f85b-cf428427f1e0"
      },
      "source": [
        "from mpi4py import MPI"
      ],
      "execution_count": null,
      "outputs": [
        {
          "output_type": "error",
          "ename": "ImportError",
          "evalue": "DLL load failed: The specified procedure could not be found.",
          "traceback": [
            "\u001b[1;31m---------------------------------------------------------------------------\u001b[0m",
            "\u001b[1;31mImportError\u001b[0m                               Traceback (most recent call last)",
            "\u001b[1;32m<ipython-input-24-ac4b05198e5f>\u001b[0m in \u001b[0;36m<module>\u001b[1;34m\u001b[0m\n\u001b[1;32m----> 1\u001b[1;33m \u001b[1;32mfrom\u001b[0m \u001b[0mmpi4py\u001b[0m \u001b[1;32mimport\u001b[0m \u001b[0mMPI\u001b[0m\u001b[1;33m\u001b[0m\u001b[1;33m\u001b[0m\u001b[0m\n\u001b[0m",
            "\u001b[1;31mImportError\u001b[0m: DLL load failed: The specified procedure could not be found."
          ]
        }
      ]
    },
    {
      "cell_type": "code",
      "metadata": {
        "id": "97ueDuN40W3u"
      },
      "source": [
        ""
      ],
      "execution_count": null,
      "outputs": []
    },
    {
      "cell_type": "code",
      "metadata": {
        "id": "SYqnRUgo0W3v"
      },
      "source": [
        ""
      ],
      "execution_count": null,
      "outputs": []
    },
    {
      "cell_type": "code",
      "metadata": {
        "id": "iLk55lNG0W3v"
      },
      "source": [
        ""
      ],
      "execution_count": null,
      "outputs": []
    },
    {
      "cell_type": "code",
      "metadata": {
        "id": "oEX3v-oQ0W3v"
      },
      "source": [
        ""
      ],
      "execution_count": null,
      "outputs": []
    },
    {
      "cell_type": "code",
      "metadata": {
        "id": "_VqCisXF0W3v"
      },
      "source": [
        ""
      ],
      "execution_count": null,
      "outputs": []
    }
  ]
}