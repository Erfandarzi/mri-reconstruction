{
  "nbformat": 4,
  "nbformat_minor": 0,
  "metadata": {
    "kernelspec": {
      "display_name": "Python 3",
      "language": "python",
      "name": "python3"
    },
    "language_info": {
      "codemirror_mode": {
        "name": "ipython",
        "version": 3
      },
      "file_extension": ".py",
      "mimetype": "text/x-python",
      "name": "python",
      "nbconvert_exporter": "python",
      "pygments_lexer": "ipython3",
      "version": "3.7.6"
    },
    "varInspector": {
      "cols": {
        "lenName": 16,
        "lenType": 16,
        "lenVar": 40
      },
      "kernels_config": {
        "python": {
          "delete_cmd_postfix": "",
          "delete_cmd_prefix": "del ",
          "library": "var_list.py",
          "varRefreshCmd": "print(var_dic_list())"
        },
        "r": {
          "delete_cmd_postfix": ") ",
          "delete_cmd_prefix": "rm(",
          "library": "var_list.r",
          "varRefreshCmd": "cat(var_dic_list()) "
        }
      },
      "types_to_exclude": [
        "module",
        "function",
        "builtin_function_or_method",
        "instance",
        "_Feature"
      ],
      "window_display": false
    },
    "colab": {
      "name": "main-colab.ipynb",
      "provenance": []
    },
    "widgets": {
      "application/vnd.jupyter.widget-state+json": {
        "634fa05a4945416a9d9dc6208c86a33d": {
          "model_module": "@jupyter-widgets/controls",
          "model_name": "HBoxModel",
          "state": {
            "_view_name": "HBoxView",
            "_dom_classes": [],
            "_model_name": "HBoxModel",
            "_view_module": "@jupyter-widgets/controls",
            "_model_module_version": "1.5.0",
            "_view_count": null,
            "_view_module_version": "1.5.0",
            "box_style": "",
            "layout": "IPY_MODEL_6b9f38f37e1d47818969c9007596384e",
            "_model_module": "@jupyter-widgets/controls",
            "children": [
              "IPY_MODEL_33b5d570e74940d7ac9eb907f861215d",
              "IPY_MODEL_a97cabd8f4c14414af0115c9833ae4e2"
            ]
          }
        },
        "6b9f38f37e1d47818969c9007596384e": {
          "model_module": "@jupyter-widgets/base",
          "model_name": "LayoutModel",
          "state": {
            "_view_name": "LayoutView",
            "grid_template_rows": null,
            "right": null,
            "justify_content": null,
            "_view_module": "@jupyter-widgets/base",
            "overflow": null,
            "_model_module_version": "1.2.0",
            "_view_count": null,
            "flex_flow": null,
            "width": null,
            "min_width": null,
            "border": null,
            "align_items": null,
            "bottom": null,
            "_model_module": "@jupyter-widgets/base",
            "top": null,
            "grid_column": null,
            "overflow_y": null,
            "overflow_x": null,
            "grid_auto_flow": null,
            "grid_area": null,
            "grid_template_columns": null,
            "flex": null,
            "_model_name": "LayoutModel",
            "justify_items": null,
            "grid_row": null,
            "max_height": null,
            "align_content": null,
            "visibility": null,
            "align_self": null,
            "height": null,
            "min_height": null,
            "padding": null,
            "grid_auto_rows": null,
            "grid_gap": null,
            "max_width": null,
            "order": null,
            "_view_module_version": "1.2.0",
            "grid_template_areas": null,
            "object_position": null,
            "object_fit": null,
            "grid_auto_columns": null,
            "margin": null,
            "display": null,
            "left": null
          }
        },
        "33b5d570e74940d7ac9eb907f861215d": {
          "model_module": "@jupyter-widgets/controls",
          "model_name": "FloatProgressModel",
          "state": {
            "_view_name": "ProgressView",
            "style": "IPY_MODEL_a1aa9768455f4a5798a3c5baf94c2bec",
            "_dom_classes": [],
            "description": " 99%",
            "_model_name": "FloatProgressModel",
            "bar_style": "danger",
            "max": 11159,
            "_view_module": "@jupyter-widgets/controls",
            "_model_module_version": "1.5.0",
            "value": 11079,
            "_view_count": null,
            "_view_module_version": "1.5.0",
            "orientation": "horizontal",
            "min": 0,
            "description_tooltip": null,
            "_model_module": "@jupyter-widgets/controls",
            "layout": "IPY_MODEL_c08d0b59596041a09c382fc843f260d4"
          }
        },
        "a97cabd8f4c14414af0115c9833ae4e2": {
          "model_module": "@jupyter-widgets/controls",
          "model_name": "HTMLModel",
          "state": {
            "_view_name": "HTMLView",
            "style": "IPY_MODEL_51605754fc5542b1a8a5e2d98bfa043d",
            "_dom_classes": [],
            "description": "",
            "_model_name": "HTMLModel",
            "placeholder": "​",
            "_view_module": "@jupyter-widgets/controls",
            "_model_module_version": "1.5.0",
            "value": " 11079/11159 [01:20&lt;00:00, 170.76it/s]",
            "_view_count": null,
            "_view_module_version": "1.5.0",
            "description_tooltip": null,
            "_model_module": "@jupyter-widgets/controls",
            "layout": "IPY_MODEL_bc682a3f09a64623b7aa456f87060e45"
          }
        },
        "a1aa9768455f4a5798a3c5baf94c2bec": {
          "model_module": "@jupyter-widgets/controls",
          "model_name": "ProgressStyleModel",
          "state": {
            "_view_name": "StyleView",
            "_model_name": "ProgressStyleModel",
            "description_width": "initial",
            "_view_module": "@jupyter-widgets/base",
            "_model_module_version": "1.5.0",
            "_view_count": null,
            "_view_module_version": "1.2.0",
            "bar_color": null,
            "_model_module": "@jupyter-widgets/controls"
          }
        },
        "c08d0b59596041a09c382fc843f260d4": {
          "model_module": "@jupyter-widgets/base",
          "model_name": "LayoutModel",
          "state": {
            "_view_name": "LayoutView",
            "grid_template_rows": null,
            "right": null,
            "justify_content": null,
            "_view_module": "@jupyter-widgets/base",
            "overflow": null,
            "_model_module_version": "1.2.0",
            "_view_count": null,
            "flex_flow": null,
            "width": null,
            "min_width": null,
            "border": null,
            "align_items": null,
            "bottom": null,
            "_model_module": "@jupyter-widgets/base",
            "top": null,
            "grid_column": null,
            "overflow_y": null,
            "overflow_x": null,
            "grid_auto_flow": null,
            "grid_area": null,
            "grid_template_columns": null,
            "flex": null,
            "_model_name": "LayoutModel",
            "justify_items": null,
            "grid_row": null,
            "max_height": null,
            "align_content": null,
            "visibility": null,
            "align_self": null,
            "height": null,
            "min_height": null,
            "padding": null,
            "grid_auto_rows": null,
            "grid_gap": null,
            "max_width": null,
            "order": null,
            "_view_module_version": "1.2.0",
            "grid_template_areas": null,
            "object_position": null,
            "object_fit": null,
            "grid_auto_columns": null,
            "margin": null,
            "display": null,
            "left": null
          }
        },
        "51605754fc5542b1a8a5e2d98bfa043d": {
          "model_module": "@jupyter-widgets/controls",
          "model_name": "DescriptionStyleModel",
          "state": {
            "_view_name": "StyleView",
            "_model_name": "DescriptionStyleModel",
            "description_width": "",
            "_view_module": "@jupyter-widgets/base",
            "_model_module_version": "1.5.0",
            "_view_count": null,
            "_view_module_version": "1.2.0",
            "_model_module": "@jupyter-widgets/controls"
          }
        },
        "bc682a3f09a64623b7aa456f87060e45": {
          "model_module": "@jupyter-widgets/base",
          "model_name": "LayoutModel",
          "state": {
            "_view_name": "LayoutView",
            "grid_template_rows": null,
            "right": null,
            "justify_content": null,
            "_view_module": "@jupyter-widgets/base",
            "overflow": null,
            "_model_module_version": "1.2.0",
            "_view_count": null,
            "flex_flow": null,
            "width": null,
            "min_width": null,
            "border": null,
            "align_items": null,
            "bottom": null,
            "_model_module": "@jupyter-widgets/base",
            "top": null,
            "grid_column": null,
            "overflow_y": null,
            "overflow_x": null,
            "grid_auto_flow": null,
            "grid_area": null,
            "grid_template_columns": null,
            "flex": null,
            "_model_name": "LayoutModel",
            "justify_items": null,
            "grid_row": null,
            "max_height": null,
            "align_content": null,
            "visibility": null,
            "align_self": null,
            "height": null,
            "min_height": null,
            "padding": null,
            "grid_auto_rows": null,
            "grid_gap": null,
            "max_width": null,
            "order": null,
            "_view_module_version": "1.2.0",
            "grid_template_areas": null,
            "object_position": null,
            "object_fit": null,
            "grid_auto_columns": null,
            "margin": null,
            "display": null,
            "left": null
          }
        }
      }
    }
  },
  "cells": [
    {
      "cell_type": "code",
      "metadata": {
        "colab": {
          "base_uri": "https://localhost:8080/"
        },
        "id": "tgMA7Tdw0eYE",
        "outputId": "30355b9f-9023-434a-8d80-5a4f762bb37a"
      },
      "source": [
        "!rm -rf ./mri-reconstruction\n",
        "!git clone -q https://github.com/MohammadRaziei/mri-reconstruction > /dev/null\n",
        "!cp -r mri-reconstruction/python/* . && rm -r mri-reconstruction/python > /dev/null"
      ],
      "execution_count": 1,
      "outputs": [
        {
          "output_type": "stream",
          "text": [
            "Cloning into 'mri-reconstruction'...\n",
            "remote: Enumerating objects: 41, done.\u001b[K\n",
            "remote: Counting objects: 100% (41/41), done.\u001b[K\n",
            "remote: Compressing objects: 100% (28/28), done.\u001b[K\n",
            "remote: Total 41 (delta 8), reused 31 (delta 3), pack-reused 0\u001b[K\n",
            "Unpacking objects: 100% (41/41), done.\n"
          ],
          "name": "stdout"
        }
      ]
    },
    {
      "cell_type": "code",
      "metadata": {
        "colab": {
          "base_uri": "https://localhost:8080/"
        },
        "id": "kFWOhjUaWOYB",
        "outputId": "66ef4a73-9e8c-44a6-8edd-1268ea5b29a6"
      },
      "source": [
        "!pip install -r requirements.txt > /dev/null\n",
        "!pip install git+https://github.com/ismrmrd/ismrmrd-python-tools.git > /dev/null\n"
      ],
      "execution_count": 28,
      "outputs": [
        {
          "output_type": "stream",
          "text": [
            "  Running command git clone -q https://github.com/ismrmrd/ismrmrd-python-tools.git /tmp/pip-req-build-dn3nggd6\n"
          ],
          "name": "stdout"
        }
      ]
    },
    {
      "cell_type": "code",
      "metadata": {
        "id": "JZlBI4tG3W5n"
      },
      "source": [
        "import os, glob, sys, io\n",
        "from pprint import pprint\n",
        "import numpy as np\n",
        "import pandas as pd\n",
        "import tensorflow as tf\n",
        "\n",
        "import ismrmrd\n",
        "import ismrmrdtools\n",
        "import mridatapreprocessing as mdp"
      ],
      "execution_count": 27,
      "outputs": []
    },
    {
      "cell_type": "code",
      "metadata": {
        "id": "fHcMrH6yMBY7"
      },
      "source": [
        "def toStr(x):\n",
        "  if isinstance(x, bytes): return x.decode(\"utf-8\")\n",
        "  else: return str(x) "
      ],
      "execution_count": 20,
      "outputs": []
    },
    {
      "cell_type": "code",
      "metadata": {
        "id": "vDokjVhC2AIh"
      },
      "source": [
        "data_dir = 'data'\n",
        "dir_mridata_org = os.path.join(data_dir, 'raw/ismrmrd')\n",
        "uuid = \"cc52722b-8649-45b0-a1ea-8727c1687ad5\"\n",
        "filename = os.path.join(dir_mridata_org, uuid+\".h5\")\n",
        "uuid_txt = io.StringIO(uuid)\n"
      ],
      "execution_count": 7,
      "outputs": []
    },
    {
      "cell_type": "code",
      "metadata": {
        "colab": {
          "base_uri": "https://localhost:8080/"
        },
        "id": "izrN5S3F3hZ1",
        "outputId": "3e1d6298-9a38-4212-88d7-1df4e06f00d0"
      },
      "source": [
        "mdp.download_mridata_org_dataset(uuid_txt, dir_mridata_org)"
      ],
      "execution_count": 6,
      "outputs": [
        {
          "output_type": "stream",
          "text": [
            "WARNING:dl-cs:Downloading data mridata.org to existing directory data/raw/ismrmrd...\n",
            "  0%|          | 70/2018525 [00:00<53:35, 627.63KB/s]"
          ],
          "name": "stderr"
        },
        {
          "output_type": "stream",
          "text": [
            "Downloading cc52722b-8649-45b0-a1ea-8727c1687ad5...\n"
          ],
          "name": "stdout"
        },
        {
          "output_type": "stream",
          "text": [
            "100%|██████████| 2018525/2018525 [01:03<00:00, 31848.00KB/s]\n"
          ],
          "name": "stderr"
        }
      ]
    },
    {
      "cell_type": "code",
      "metadata": {
        "id": "xD2QtfEELG-t"
      },
      "source": [
        "dataset = ismrmrd.Dataset(filename, create_if_needed=False)\n",
        "header = ismrmrd.xsd.CreateFromDocument(dataset.read_xml_header())\n",
        "num_kx = header.encoding[0].encodedSpace.matrixSize.x\n",
        "num_ky = header.encoding[0].encodingLimits.kspace_encoding_step_1.maximum\n",
        "num_slices = header.encoding[0].encodingLimits.slice.maximum + 1\n",
        "num_channels = header.acquisitionSystemInformation.receiverChannels\n",
        "num_acq = dataset.number_of_acquisitions()\n",
        "\n"
      ],
      "execution_count": 25,
      "outputs": []
    },
    {
      "cell_type": "code",
      "metadata": {
        "id": "EaXm2R9BLhDN"
      },
      "source": [
        "print(toStr(dataset.read_xml_header()))"
      ],
      "execution_count": null,
      "outputs": []
    },
    {
      "cell_type": "code",
      "metadata": {
        "id": "4sa_XOBU0W3m"
      },
      "source": [
        "from tensorflow.keras.models import Model\n",
        "from tensorflow.keras.layers import Input\n",
        "from tensorflow.keras.layers import Conv2D, Dense"
      ],
      "execution_count": null,
      "outputs": []
    },
    {
      "cell_type": "code",
      "metadata": {
        "id": "b2tW8uC60W3n"
      },
      "source": [
        "# import ismrmrdtools"
      ],
      "execution_count": null,
      "outputs": []
    },
    {
      "cell_type": "code",
      "metadata": {
        "id": "3Uz10eNN0W3o"
      },
      "source": [
        "import ismrmrd, ismrmrd.xsd\n",
        "import logging as logger\n",
        "from pprint import pprint\n",
        "logger.basicConfig(level=logging.INFO)"
      ],
      "execution_count": null,
      "outputs": []
    },
    {
      "cell_type": "code",
      "metadata": {
        "id": "79ad95v10W3p"
      },
      "source": [
        "def ismrmrd_to_np(filename):\n",
        "    \"\"\"Read ISMRMRD data file to numpy array\"\"\"\n",
        "    logger.debug('Loading file {}...'.format(filename))\n",
        "    dataset = ismrmrd.Dataset(filename, create_if_needed=False)\n",
        "    header = ismrmrd.xsd.CreateFromDocument(dataset.read_xml_header())\n",
        "    num_kx = header.encoding[0].encodedSpace.matrixSize.x\n",
        "    num_ky = header.encoding[0].encodingLimits.kspace_encoding_step_1.maximum\n",
        "    num_slices = header.encoding[0].encodingLimits.slice.maximum + 1\n",
        "    num_channels = header.acquisitionSystemInformation.receiverChannels"
      ],
      "execution_count": null,
      "outputs": []
    },
    {
      "cell_type": "code",
      "metadata": {
        "id": "63gNfgov0W3p",
        "outputId": "853099bb-f926-4579-841e-6ca83a1a5e14"
      },
      "source": [
        "dataset = ismrmrd.Dataset(filename, create_if_needed=False)\n",
        "dataset"
      ],
      "execution_count": null,
      "outputs": [
        {
          "output_type": "execute_result",
          "data": {
            "text/plain": [
              "<ismrmrd.hdf5.Dataset at 0x1a1267f6908>"
            ]
          },
          "metadata": {
            "tags": []
          },
          "execution_count": 21
        }
      ]
    },
    {
      "cell_type": "code",
      "metadata": {
        "id": "laKBTFor0W3q",
        "outputId": "18406f18-f35a-420a-97ed-248e9d215ff5"
      },
      "source": [
        "header = ismrmrd.xsd.CreateFromDocument(dataset.read_xml_header())\n",
        "header"
      ],
      "execution_count": null,
      "outputs": [
        {
          "output_type": "execute_result",
          "data": {
            "text/plain": [
              "ismrmrdHeader(version=None, subjectInformation=None, studyInformation=studyInformationType(studyDate=None, studyTime=XmlTime(7, 56, 53, 0), studyID=None, accessionNumber=None, referringPhysicianName=None, studyDescription=None, studyInstanceUID=None), measurementInformation=measurementInformationType(measurementID='45167_59757578_59757587_1821', seriesDate=None, seriesTime=None, patientPosition=<patientPositionType.FFS: 'FFS'>, initialSeriesNumber=None, protocolName='SAG', seriesDescription=None, measurementDependency=[measurementDependencyType(dependencyType='SenMap', measurementID='45167_59757578_59757587_1815'), measurementDependencyType(dependencyType='Noise', measurementID='45167_59757578_59757587_1815')], seriesInstanceUIDRoot=None, frameOfReferenceUID='1.3.12.2.1107.5.2.19.45167.1.20160817074730264.0.0.0', referencedImageSequence=None), acquisitionSystemInformation=acquisitionSystemInformationType(systemVendor='SIEMENS', systemModel='Skyra', systemFieldStrength_T=2.89362, relativeReceiverNoiseBandwidth=0.793, receiverChannels=15, coilLabel=[coilLabelType(coilNumber=29, coilName='TxRx_15Ch_Knee:1:K5'), coilLabelType(coilNumber=42, coilName='TxRx_15Ch_Knee:1:K15'), coilLabelType(coilNumber=41, coilName='TxRx_15Ch_Knee:1:K9'), coilLabelType(coilNumber=26, coilName='TxRx_15Ch_Knee:1:K4'), coilLabelType(coilNumber=25, coilName='TxRx_15Ch_Knee:1:K7'), coilLabelType(coilNumber=30, coilName='TxRx_15Ch_Knee:1:K8'), coilLabelType(coilNumber=46, coilName='TxRx_15Ch_Knee:1:K1'), coilLabelType(coilNumber=18, coilName='TxRx_15Ch_Knee:1:K6'), coilLabelType(coilNumber=17, coilName='TxRx_15Ch_Knee:1:K14'), coilLabelType(coilNumber=22, coilName='TxRx_15Ch_Knee:1:K10'), coilLabelType(coilNumber=21, coilName='TxRx_15Ch_Knee:1:K13'), coilLabelType(coilNumber=34, coilName='TxRx_15Ch_Knee:1:K3'), coilLabelType(coilNumber=33, coilName='TxRx_15Ch_Knee:1:K2'), coilLabelType(coilNumber=38, coilName='TxRx_15Ch_Knee:1:K12'), coilLabelType(coilNumber=37, coilName='TxRx_15Ch_Knee:1:K11')], institutionName='HJD', stationName=None, deviceId=None), experimentalConditions=experimentalConditionsType(H1resonanceFrequency_Hz=123239246), encoding=[encodingType(encodedSpace=encodingSpaceType(matrixSize=matrixSizeType(x=768, y=770, z=1), fieldOfView_mm=fieldOfViewMm(x=280.0, y=280.700012, z=4.5)), reconSpace=encodingSpaceType(matrixSize=matrixSizeType(x=384, y=384, z=1), fieldOfView_mm=fieldOfViewMm(x=140.0, y=140.0, z=3.0)), encodingLimits=encodingLimitsType(kspace_encoding_step_0=None, kspace_encoding_step_1=limitType(minimum=0, maximum=615, center=308), kspace_encoding_step_2=limitType(minimum=0, maximum=0, center=0), average=limitType(minimum=0, maximum=0, center=0), slice=limitType(minimum=0, maximum=35, center=0), contrast=limitType(minimum=0, maximum=0, center=0), phase=limitType(minimum=0, maximum=0, center=0), repetition=limitType(minimum=0, maximum=0, center=0), set=limitType(minimum=0, maximum=0, center=0), segment=limitType(minimum=0, maximum=0, center=0)), trajectory=<trajectoryType.CARTESIAN: 'cartesian'>, trajectoryDescription=None, parallelImaging=parallelImagingType(accelerationFactor=accelerationFactorType(kspace_encoding_step_1=1, kspace_encoding_step_2=1), calibrationMode=<calibrationModeType.OTHER: 'other'>, interleavingDimension=None), echoTrainLength=None)], sequenceParameters=sequenceParametersType(TR=[2800.0], TE=[22.0], TI=[100.0], flipAngle_deg=[150.0], sequence_type='TurboSpinEcho', echo_spacing=[11.12]), userParameters=userParametersType(userParameterLong=[], userParameterDouble=[userParameterDoubleType(name='MaxwellCoefficient_0', value=0.0), userParameterDoubleType(name='MaxwellCoefficient_1', value=0.0), userParameterDoubleType(name='MaxwellCoefficient_2', value=0.0), userParameterDoubleType(name='MaxwellCoefficient_3', value=0.0), userParameterDoubleType(name='MaxwellCoefficient_4', value=0.0), userParameterDoubleType(name='MaxwellCoefficient_5', value=0.0), userParameterDoubleType(name='MaxwellCoefficient_6', value=0.0), userParameterDoubleType(name='MaxwellCoefficient_7', value=0.0), userParameterDoubleType(name='MaxwellCoefficient_8', value=0.0), userParameterDoubleType(name='MaxwellCoefficient_9', value=0.0), userParameterDoubleType(name='MaxwellCoefficient_10', value=0.0), userParameterDoubleType(name='MaxwellCoefficient_11', value=0.0), userParameterDoubleType(name='MaxwellCoefficient_12', value=0.0), userParameterDoubleType(name='MaxwellCoefficient_13', value=0.0), userParameterDoubleType(name='MaxwellCoefficient_14', value=0.0), userParameterDoubleType(name='MaxwellCoefficient_15', value=0.0)], userParameterString=[], userParameterBase64=[]), waveformInformation=[])"
            ]
          },
          "metadata": {
            "tags": []
          },
          "execution_count": 30
        }
      ]
    },
    {
      "cell_type": "code",
      "metadata": {
        "id": "lx_6Uthv0W3r",
        "outputId": "c9852fea-36c2-4a92-93b3-73cbf5965bb6"
      },
      "source": [
        "header.encoding"
      ],
      "execution_count": null,
      "outputs": [
        {
          "output_type": "execute_result",
          "data": {
            "text/plain": [
              "[encodingType(encodedSpace=encodingSpaceType(matrixSize=matrixSizeType(x=768, y=770, z=1), fieldOfView_mm=fieldOfViewMm(x=280.0, y=280.700012, z=4.5)), reconSpace=encodingSpaceType(matrixSize=matrixSizeType(x=384, y=384, z=1), fieldOfView_mm=fieldOfViewMm(x=140.0, y=140.0, z=3.0)), encodingLimits=encodingLimitsType(kspace_encoding_step_0=None, kspace_encoding_step_1=limitType(minimum=0, maximum=615, center=308), kspace_encoding_step_2=limitType(minimum=0, maximum=0, center=0), average=limitType(minimum=0, maximum=0, center=0), slice=limitType(minimum=0, maximum=35, center=0), contrast=limitType(minimum=0, maximum=0, center=0), phase=limitType(minimum=0, maximum=0, center=0), repetition=limitType(minimum=0, maximum=0, center=0), set=limitType(minimum=0, maximum=0, center=0), segment=limitType(minimum=0, maximum=0, center=0)), trajectory=<trajectoryType.CARTESIAN: 'cartesian'>, trajectoryDescription=None, parallelImaging=parallelImagingType(accelerationFactor=accelerationFactorType(kspace_encoding_step_1=1, kspace_encoding_step_2=1), calibrationMode=<calibrationModeType.OTHER: 'other'>, interleavingDimension=None), echoTrainLength=None)]"
            ]
          },
          "metadata": {
            "tags": []
          },
          "execution_count": 49
        }
      ]
    },
    {
      "cell_type": "code",
      "metadata": {
        "id": "Eq1M4_Ux6mSl"
      },
      "source": [
        "import io\n",
        "fake_file = io.StringIO(\"your text goes here\")"
      ],
      "execution_count": 24,
      "outputs": []
    },
    {
      "cell_type": "code",
      "metadata": {
        "colab": {
          "base_uri": "https://localhost:8080/"
        },
        "id": "OMECXOit6_Te",
        "outputId": "fafdbd35-f113-4ecb-efed-464223f87cec"
      },
      "source": [
        "type(fake_file)"
      ],
      "execution_count": 28,
      "outputs": [
        {
          "output_type": "execute_result",
          "data": {
            "text/plain": [
              "_io.StringIO"
            ]
          },
          "metadata": {
            "tags": []
          },
          "execution_count": 28
        }
      ]
    },
    {
      "cell_type": "code",
      "metadata": {
        "colab": {
          "base_uri": "https://localhost:8080/"
        },
        "id": "rHSwhM8r6r4X",
        "outputId": "072bcf0e-eb41-492c-b0e9-bbf85054792a"
      },
      "source": [
        "isinstance(fake_file, io.StringIO)"
      ],
      "execution_count": 31,
      "outputs": [
        {
          "output_type": "execute_result",
          "data": {
            "text/plain": [
              "True"
            ]
          },
          "metadata": {
            "tags": []
          },
          "execution_count": 31
        }
      ]
    },
    {
      "cell_type": "code",
      "metadata": {
        "id": "0lHzOzhf0W3s"
      },
      "source": [
        "def download_mridata_org_dataset(filename_txt, dir_output):\n",
        "    \"\"\"Download datasets from mridata.org if needed\"\"\"\n",
        "    if os.path.isdir(dir_output):\n",
        "        logger.warning(\n",
        "            'Downloading data mridata.org to existing directory {}...'.format(\n",
        "                dir_output))\n",
        "    else:\n",
        "        os.makedirs(dir_output)\n",
        "        logger.info(\n",
        "            'Downloading data from mridata.org to {}...'.format(dir_output))\n",
        "\n",
        "    uuids = open(filename_txt).read().splitlines()\n",
        "    for uuid in uuids:\n",
        "        if not os.path.exists('{}/{}.h5'.format(dir_output, uuid)):\n",
        "            mridata.download(uuid, folder=dir_output)\n"
      ],
      "execution_count": null,
      "outputs": []
    },
    {
      "cell_type": "code",
      "metadata": {
        "id": "vUedDoBd0W3s"
      },
      "source": [
        "logger = mdp.logger\n",
        "import utils.logging\n",
        "# logger.setLevel(utils.logging.logging.DEBUG)\n",
        "from tqdm.auto import tqdm\n",
        "def ismrmrd_to_np(filename):\n",
        "    \"\"\"Read ISMRMRD data file to numpy array\"\"\"\n",
        "    logger.debug('Loading file {}...'.format(filename))\n",
        "    dataset = ismrmrd.Dataset(filename, create_if_needed=False)\n",
        "    header = ismrmrd.xsd.CreateFromDocument(dataset.read_xml_header())\n",
        "    num_kx = header.encoding[0].encodedSpace.matrixSize.x\n",
        "    num_ky = header.encoding[0].encodingLimits.kspace_encoding_step_1.maximum\n",
        "    num_slices = header.encoding[0].encodingLimits.slice.maximum + 1\n",
        "    num_channels = header.acquisitionSystemInformation.receiverChannels\n",
        "\n",
        "    try:\n",
        "        rec_std = dataset.read_array('rec_std', 0)\n",
        "        rec_weight = 1.0 / (rec_std**2)\n",
        "        rec_weight = np.sqrt(rec_weight / np.sum(rec_weight))\n",
        "        logger.debug('  Using rec std...')\n",
        "    except Exception:\n",
        "        rec_weight = np.ones(num_channels)\n",
        "    opt_mat = np.diag(rec_weight)\n",
        "    kspace = np.zeros([num_channels, num_slices, num_ky, num_kx],\n",
        "                      dtype=np.complex64)\n",
        "    num_acq = dataset.number_of_acquisitions()\n",
        "\n",
        "    def wrap(x):\n",
        "        return x\n",
        "\n",
        "    if logger.getEffectiveLevel() is utils.logging.logging.DEBUG:\n",
        "        wrap = tqdm\n",
        "    for i in wrap(range(num_acq//2-1)):\n",
        "        acq = dataset.read_acquisition(i)\n",
        "        i_ky = acq.idx.kspace_encode_step_1  # pylint: disable=E1101\n",
        "        # i_kz = acq.idx.kspace_encode_step_2 # pylint: disable=E1101\n",
        "        i_slice = acq.idx.slice  # pylint: disable=E1101\n",
        "        data = np.matmul(opt_mat.T, acq.data)\n",
        "        kspace[:, i_slice, i_ky, :] = data * ((-1)**i_slice)\n",
        "\n",
        "    dataset.close()\n",
        "    # kspace = fftc.fftc(kspace, axis=1)\n",
        "\n",
        "    return kspace"
      ],
      "execution_count": 48,
      "outputs": []
    },
    {
      "cell_type": "code",
      "metadata": {
        "colab": {
          "base_uri": "https://localhost:8080/",
          "height": 340,
          "referenced_widgets": [
            "634fa05a4945416a9d9dc6208c86a33d",
            "6b9f38f37e1d47818969c9007596384e",
            "33b5d570e74940d7ac9eb907f861215d",
            "a97cabd8f4c14414af0115c9833ae4e2",
            "a1aa9768455f4a5798a3c5baf94c2bec",
            "c08d0b59596041a09c382fc843f260d4",
            "51605754fc5542b1a8a5e2d98bfa043d",
            "bc682a3f09a64623b7aa456f87060e45"
          ]
        },
        "id": "X8HVJInY0W3t",
        "outputId": "992a76ec-ab4e-4942-f8d4-9f4918faa02e"
      },
      "source": [
        "ismrmrd_to_np(filename)"
      ],
      "execution_count": 47,
      "outputs": [
        {
          "output_type": "stream",
          "text": [
            "DEBUG:dl-cs:Loading file data/raw/ismrmrd/cc52722b-8649-45b0-a1ea-8727c1687ad5.h5...\n"
          ],
          "name": "stderr"
        },
        {
          "output_type": "display_data",
          "data": {
            "application/vnd.jupyter.widget-view+json": {
              "model_id": "634fa05a4945416a9d9dc6208c86a33d",
              "version_minor": 0,
              "version_major": 2
            },
            "text/plain": [
              "HBox(children=(FloatProgress(value=0.0, max=11159.0), HTML(value='')))"
            ]
          },
          "metadata": {
            "tags": []
          }
        },
        {
          "output_type": "error",
          "ename": "IndexError",
          "evalue": "ignored",
          "traceback": [
            "\u001b[0;31m---------------------------------------------------------------------------\u001b[0m",
            "\u001b[0;31mIndexError\u001b[0m                                Traceback (most recent call last)",
            "\u001b[0;32m<ipython-input-47-260a3d93bff9>\u001b[0m in \u001b[0;36m<module>\u001b[0;34m()\u001b[0m\n\u001b[0;32m----> 1\u001b[0;31m \u001b[0mismrmrd_to_np\u001b[0m\u001b[0;34m(\u001b[0m\u001b[0mfilename\u001b[0m\u001b[0;34m)\u001b[0m\u001b[0;34m\u001b[0m\u001b[0;34m\u001b[0m\u001b[0m\n\u001b[0m",
            "\u001b[0;32m<ipython-input-45-ee84e98c0b57>\u001b[0m in \u001b[0;36mismrmrd_to_np\u001b[0;34m(filename)\u001b[0m\n\u001b[1;32m     36\u001b[0m         \u001b[0mi_slice\u001b[0m \u001b[0;34m=\u001b[0m \u001b[0macq\u001b[0m\u001b[0;34m.\u001b[0m\u001b[0midx\u001b[0m\u001b[0;34m.\u001b[0m\u001b[0mslice\u001b[0m  \u001b[0;31m# pylint: disable=E1101\u001b[0m\u001b[0;34m\u001b[0m\u001b[0;34m\u001b[0m\u001b[0m\n\u001b[1;32m     37\u001b[0m         \u001b[0mdata\u001b[0m \u001b[0;34m=\u001b[0m \u001b[0mnp\u001b[0m\u001b[0;34m.\u001b[0m\u001b[0mmatmul\u001b[0m\u001b[0;34m(\u001b[0m\u001b[0mopt_mat\u001b[0m\u001b[0;34m.\u001b[0m\u001b[0mT\u001b[0m\u001b[0;34m,\u001b[0m \u001b[0macq\u001b[0m\u001b[0;34m.\u001b[0m\u001b[0mdata\u001b[0m\u001b[0;34m)\u001b[0m\u001b[0;34m\u001b[0m\u001b[0;34m\u001b[0m\u001b[0m\n\u001b[0;32m---> 38\u001b[0;31m         \u001b[0mkspace\u001b[0m\u001b[0;34m[\u001b[0m\u001b[0;34m:\u001b[0m\u001b[0;34m,\u001b[0m \u001b[0mi_slice\u001b[0m\u001b[0;34m,\u001b[0m \u001b[0mi_ky\u001b[0m\u001b[0;34m,\u001b[0m \u001b[0;34m:\u001b[0m\u001b[0;34m]\u001b[0m \u001b[0;34m=\u001b[0m \u001b[0mdata\u001b[0m \u001b[0;34m*\u001b[0m \u001b[0;34m(\u001b[0m\u001b[0;34m(\u001b[0m\u001b[0;34m-\u001b[0m\u001b[0;36m1\u001b[0m\u001b[0;34m)\u001b[0m\u001b[0;34m**\u001b[0m\u001b[0mi_slice\u001b[0m\u001b[0;34m)\u001b[0m\u001b[0;34m\u001b[0m\u001b[0;34m\u001b[0m\u001b[0m\n\u001b[0m\u001b[1;32m     39\u001b[0m \u001b[0;34m\u001b[0m\u001b[0m\n\u001b[1;32m     40\u001b[0m     \u001b[0mdataset\u001b[0m\u001b[0;34m.\u001b[0m\u001b[0mclose\u001b[0m\u001b[0;34m(\u001b[0m\u001b[0;34m)\u001b[0m\u001b[0;34m\u001b[0m\u001b[0;34m\u001b[0m\u001b[0m\n",
            "\u001b[0;31mIndexError\u001b[0m: index 615 is out of bounds for axis 2 with size 615"
          ]
        }
      ]
    },
    {
      "cell_type": "code",
      "metadata": {
        "id": "lsC2pxDQcOiQ",
        "outputId": "8eed93f5-ece9-4e65-fbbe-6c2a89e7a416",
        "colab": {
          "base_uri": "https://localhost:8080/",
          "height": 508
        }
      },
      "source": [
        "import ismrmrdtools.imageviewer\n",
        "ismrmrdtools.imageviewer.read_ismrmrd_image_series(filename, '')"
      ],
      "execution_count": 58,
      "outputs": [
        {
          "output_type": "error",
          "ename": "KeyError",
          "evalue": "ignored",
          "traceback": [
            "\u001b[0;31m---------------------------------------------------------------------------\u001b[0m",
            "\u001b[0;31mKeyError\u001b[0m                                  Traceback (most recent call last)",
            "\u001b[0;32m<ipython-input-58-56d48f31e950>\u001b[0m in \u001b[0;36m<module>\u001b[0;34m()\u001b[0m\n\u001b[1;32m      1\u001b[0m \u001b[0;32mimport\u001b[0m \u001b[0mismrmrdtools\u001b[0m\u001b[0;34m.\u001b[0m\u001b[0mimageviewer\u001b[0m\u001b[0;34m\u001b[0m\u001b[0;34m\u001b[0m\u001b[0m\n\u001b[0;32m----> 2\u001b[0;31m \u001b[0mismrmrdtools\u001b[0m\u001b[0;34m.\u001b[0m\u001b[0mimageviewer\u001b[0m\u001b[0;34m.\u001b[0m\u001b[0mread_ismrmrd_image_series\u001b[0m\u001b[0;34m(\u001b[0m\u001b[0mfilename\u001b[0m\u001b[0;34m,\u001b[0m \u001b[0;34m''\u001b[0m\u001b[0;34m)\u001b[0m\u001b[0;34m\u001b[0m\u001b[0;34m\u001b[0m\u001b[0m\n\u001b[0m",
            "\u001b[0;32m/usr/local/lib/python3.7/dist-packages/ismrmrdtools/imageviewer.py\u001b[0m in \u001b[0;36mread_ismrmrd_image_series\u001b[0;34m(filename, groupname)\u001b[0m\n\u001b[1;32m     10\u001b[0m \u001b[0;32mdef\u001b[0m \u001b[0mread_ismrmrd_image_series\u001b[0m\u001b[0;34m(\u001b[0m\u001b[0mfilename\u001b[0m\u001b[0;34m,\u001b[0m \u001b[0mgroupname\u001b[0m\u001b[0;34m)\u001b[0m\u001b[0;34m:\u001b[0m\u001b[0;34m\u001b[0m\u001b[0;34m\u001b[0m\u001b[0m\n\u001b[1;32m     11\u001b[0m     \u001b[0mf\u001b[0m \u001b[0;34m=\u001b[0m \u001b[0mh5py\u001b[0m\u001b[0;34m.\u001b[0m\u001b[0mFile\u001b[0m\u001b[0;34m(\u001b[0m\u001b[0mfilename\u001b[0m\u001b[0;34m)\u001b[0m\u001b[0;34m\u001b[0m\u001b[0;34m\u001b[0m\u001b[0m\n\u001b[0;32m---> 12\u001b[0;31m     \u001b[0mh\u001b[0m \u001b[0;34m=\u001b[0m \u001b[0mf\u001b[0m\u001b[0;34m[\u001b[0m\u001b[0mgroupname\u001b[0m \u001b[0;34m+\u001b[0m \u001b[0;34m'/header'\u001b[0m\u001b[0;34m]\u001b[0m\u001b[0;34m\u001b[0m\u001b[0;34m\u001b[0m\u001b[0m\n\u001b[0m\u001b[1;32m     13\u001b[0m     \u001b[0md\u001b[0m \u001b[0;34m=\u001b[0m \u001b[0mnp\u001b[0m\u001b[0;34m.\u001b[0m\u001b[0marray\u001b[0m\u001b[0;34m(\u001b[0m\u001b[0mf\u001b[0m\u001b[0;34m[\u001b[0m\u001b[0mgroupname\u001b[0m \u001b[0;34m+\u001b[0m \u001b[0;34m'/data'\u001b[0m\u001b[0;34m]\u001b[0m\u001b[0;34m)\u001b[0m\u001b[0;34m\u001b[0m\u001b[0;34m\u001b[0m\u001b[0m\n\u001b[1;32m     14\u001b[0m     \u001b[0ma\u001b[0m \u001b[0;34m=\u001b[0m \u001b[0mf\u001b[0m\u001b[0;34m[\u001b[0m\u001b[0mgroupname\u001b[0m \u001b[0;34m+\u001b[0m \u001b[0;34m'/attributes'\u001b[0m\u001b[0;34m]\u001b[0m\u001b[0;34m\u001b[0m\u001b[0;34m\u001b[0m\u001b[0m\n",
            "\u001b[0;32mh5py/_objects.pyx\u001b[0m in \u001b[0;36mh5py._objects.with_phil.wrapper\u001b[0;34m()\u001b[0m\n",
            "\u001b[0;32mh5py/_objects.pyx\u001b[0m in \u001b[0;36mh5py._objects.with_phil.wrapper\u001b[0;34m()\u001b[0m\n",
            "\u001b[0;32m/usr/local/lib/python3.7/dist-packages/h5py/_hl/group.py\u001b[0m in \u001b[0;36m__getitem__\u001b[0;34m(self, name)\u001b[0m\n\u001b[1;32m    286\u001b[0m                 \u001b[0;32mraise\u001b[0m \u001b[0mValueError\u001b[0m\u001b[0;34m(\u001b[0m\u001b[0;34m\"Invalid HDF5 object reference\"\u001b[0m\u001b[0;34m)\u001b[0m\u001b[0;34m\u001b[0m\u001b[0;34m\u001b[0m\u001b[0m\n\u001b[1;32m    287\u001b[0m         \u001b[0;32melse\u001b[0m\u001b[0;34m:\u001b[0m\u001b[0;34m\u001b[0m\u001b[0;34m\u001b[0m\u001b[0m\n\u001b[0;32m--> 288\u001b[0;31m             \u001b[0moid\u001b[0m \u001b[0;34m=\u001b[0m \u001b[0mh5o\u001b[0m\u001b[0;34m.\u001b[0m\u001b[0mopen\u001b[0m\u001b[0;34m(\u001b[0m\u001b[0mself\u001b[0m\u001b[0;34m.\u001b[0m\u001b[0mid\u001b[0m\u001b[0;34m,\u001b[0m \u001b[0mself\u001b[0m\u001b[0;34m.\u001b[0m\u001b[0m_e\u001b[0m\u001b[0;34m(\u001b[0m\u001b[0mname\u001b[0m\u001b[0;34m)\u001b[0m\u001b[0;34m,\u001b[0m \u001b[0mlapl\u001b[0m\u001b[0;34m=\u001b[0m\u001b[0mself\u001b[0m\u001b[0;34m.\u001b[0m\u001b[0m_lapl\u001b[0m\u001b[0;34m)\u001b[0m\u001b[0;34m\u001b[0m\u001b[0;34m\u001b[0m\u001b[0m\n\u001b[0m\u001b[1;32m    289\u001b[0m \u001b[0;34m\u001b[0m\u001b[0m\n\u001b[1;32m    290\u001b[0m         \u001b[0motype\u001b[0m \u001b[0;34m=\u001b[0m \u001b[0mh5i\u001b[0m\u001b[0;34m.\u001b[0m\u001b[0mget_type\u001b[0m\u001b[0;34m(\u001b[0m\u001b[0moid\u001b[0m\u001b[0;34m)\u001b[0m\u001b[0;34m\u001b[0m\u001b[0;34m\u001b[0m\u001b[0m\n",
            "\u001b[0;32mh5py/_objects.pyx\u001b[0m in \u001b[0;36mh5py._objects.with_phil.wrapper\u001b[0;34m()\u001b[0m\n",
            "\u001b[0;32mh5py/_objects.pyx\u001b[0m in \u001b[0;36mh5py._objects.with_phil.wrapper\u001b[0;34m()\u001b[0m\n",
            "\u001b[0;32mh5py/h5o.pyx\u001b[0m in \u001b[0;36mh5py.h5o.open\u001b[0;34m()\u001b[0m\n",
            "\u001b[0;31mKeyError\u001b[0m: \"Unable to open object (object 'header' doesn't exist)\""
          ]
        }
      ]
    },
    {
      "cell_type": "code",
      "metadata": {
        "id": "9XbBvYyLt-Rx",
        "outputId": "33e6cbf9-10e1-440d-ff3b-935e6c6eecda",
        "colab": {
          "base_uri": "https://localhost:8080/"
        }
      },
      "source": [
        "https://github.com/ismrmrd/ismrmrd-python-tools/blob/master/recon_ismrmrd_dataset.py"
      ],
      "execution_count": 61,
      "outputs": [
        {
          "output_type": "stream",
          "text": [
            "data/raw/ismrmrd/cc52722b-8649-45b0-a1ea-8727c1687ad5.h5\n"
          ],
          "name": "stdout"
        }
      ]
    },
    {
      "cell_type": "code",
      "metadata": {
        "id": "K8U4xjentl9g"
      },
      "source": [
        ""
      ],
      "execution_count": 55,
      "outputs": []
    },
    {
      "cell_type": "code",
      "metadata": {
        "id": "zrO4FS_80W3u",
        "outputId": "1ddcb4a9-b989-4359-f85b-cf428427f1e0"
      },
      "source": [
        "from mpi4py import MPI"
      ],
      "execution_count": null,
      "outputs": [
        {
          "output_type": "error",
          "ename": "ImportError",
          "evalue": "DLL load failed: The specified procedure could not be found.",
          "traceback": [
            "\u001b[1;31m---------------------------------------------------------------------------\u001b[0m",
            "\u001b[1;31mImportError\u001b[0m                               Traceback (most recent call last)",
            "\u001b[1;32m<ipython-input-24-ac4b05198e5f>\u001b[0m in \u001b[0;36m<module>\u001b[1;34m\u001b[0m\n\u001b[1;32m----> 1\u001b[1;33m \u001b[1;32mfrom\u001b[0m \u001b[0mmpi4py\u001b[0m \u001b[1;32mimport\u001b[0m \u001b[0mMPI\u001b[0m\u001b[1;33m\u001b[0m\u001b[1;33m\u001b[0m\u001b[0m\n\u001b[0m",
            "\u001b[1;31mImportError\u001b[0m: DLL load failed: The specified procedure could not be found."
          ]
        }
      ]
    },
    {
      "cell_type": "code",
      "metadata": {
        "id": "97ueDuN40W3u"
      },
      "source": [
        ""
      ],
      "execution_count": null,
      "outputs": []
    },
    {
      "cell_type": "code",
      "metadata": {
        "id": "SYqnRUgo0W3v"
      },
      "source": [
        ""
      ],
      "execution_count": null,
      "outputs": []
    },
    {
      "cell_type": "code",
      "metadata": {
        "id": "iLk55lNG0W3v"
      },
      "source": [
        ""
      ],
      "execution_count": null,
      "outputs": []
    },
    {
      "cell_type": "code",
      "metadata": {
        "id": "oEX3v-oQ0W3v"
      },
      "source": [
        ""
      ],
      "execution_count": null,
      "outputs": []
    },
    {
      "cell_type": "code",
      "metadata": {
        "id": "_VqCisXF0W3v"
      },
      "source": [
        ""
      ],
      "execution_count": null,
      "outputs": []
    }
  ]
}