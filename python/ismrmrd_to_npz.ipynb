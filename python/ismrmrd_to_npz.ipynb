{
 "cells": [
  {
   "cell_type": "code",
   "execution_count": 1,
   "id": "54a3fb7d",
   "metadata": {},
   "outputs": [],
   "source": [
    "import os, glob, sys, io\n",
    "from pathlib import Path\n",
    "\n",
    "from pprint import pprint\n",
    "import numpy as np\n",
    "import pandas as pd\n",
    "import tensorflow as tf\n",
    "import matplotlib.pyplot as plt\n",
    "\n",
    "import scipy\n",
    "import scipy.signal\n",
    "import scipy.interpolate\n",
    "import cupy as cp\n",
    "\n",
    "import ismrmrd\n",
    "import ismrmrd.xsd\n",
    "\n",
    "from tqdm.auto import tqdm, trange\n",
    "\n",
    "\n",
    "from IPython.core.display import display, HTML"
   ]
  },
  {
   "cell_type": "code",
   "execution_count": 2,
   "id": "dd53e9ce",
   "metadata": {},
   "outputs": [
    {
     "data": {
      "text/html": [
       "<div>\n",
       "<style scoped>\n",
       "    .dataframe tbody tr th:only-of-type {\n",
       "        vertical-align: middle;\n",
       "    }\n",
       "\n",
       "    .dataframe tbody tr th {\n",
       "        vertical-align: top;\n",
       "    }\n",
       "\n",
       "    .dataframe thead th {\n",
       "        text-align: right;\n",
       "    }\n",
       "</style>\n",
       "<table border=\"1\" class=\"dataframe\">\n",
       "  <thead>\n",
       "    <tr style=\"text-align: right;\">\n",
       "      <th></th>\n",
       "      <th>UUID</th>\n",
       "      <th>Downloads</th>\n",
       "      <th>References</th>\n",
       "      <th>Comments</th>\n",
       "      <th>Funding Support</th>\n",
       "      <th>Protocol Name</th>\n",
       "      <th>Series Description</th>\n",
       "      <th>System Vendor</th>\n",
       "      <th>System Model</th>\n",
       "      <th>System Field Strength</th>\n",
       "      <th>...</th>\n",
       "      <th>Number of Contrasts</th>\n",
       "      <th>Trajectory</th>\n",
       "      <th>Parallel Imaging Factor</th>\n",
       "      <th>Repetition Time</th>\n",
       "      <th>Echo Time</th>\n",
       "      <th>Inversion Time</th>\n",
       "      <th>Flip Angle</th>\n",
       "      <th>Sequence Type</th>\n",
       "      <th>Echo Spacing</th>\n",
       "      <th>Upload Date</th>\n",
       "    </tr>\n",
       "  </thead>\n",
       "  <tbody>\n",
       "    <tr>\n",
       "      <th>0</th>\n",
       "      <td>413469fd-9354-400c-88e3-b29e7c711a05</td>\n",
       "      <td>2153</td>\n",
       "      <td>Hammernik K, Klatzer T, Kobler E, Recht M, Sod...</td>\n",
       "      <td>This is part of the training and test data tha...</td>\n",
       "      <td>NIH P41 EB017183</td>\n",
       "      <td>SAG</td>\n",
       "      <td>SAG</td>\n",
       "      <td>SIEMENS</td>\n",
       "      <td>Skyra</td>\n",
       "      <td>2.89362 T</td>\n",
       "      <td>...</td>\n",
       "      <td>1</td>\n",
       "      <td>cartesian</td>\n",
       "      <td>1.0 x 1.0</td>\n",
       "      <td>2800 ms</td>\n",
       "      <td>22 ms</td>\n",
       "      <td>100 ms</td>\n",
       "      <td>150 °</td>\n",
       "      <td>TurboSpinEcho</td>\n",
       "      <td>11.12 ms</td>\n",
       "      <td>Aug. 8, 2018, 7:12 a.m.</td>\n",
       "    </tr>\n",
       "    <tr>\n",
       "      <th>1</th>\n",
       "      <td>6a8fff64-9bba-4ce7-aa58-d024214b4d7a</td>\n",
       "      <td>4757</td>\n",
       "      <td>Hammernik K, Klatzer T, Kobler E, Recht M, Sod...</td>\n",
       "      <td>This is part of the training and test data tha...</td>\n",
       "      <td>NIH P41 EB017183</td>\n",
       "      <td>SAG</td>\n",
       "      <td>SAG</td>\n",
       "      <td>SIEMENS</td>\n",
       "      <td>Skyra</td>\n",
       "      <td>2.89362 T</td>\n",
       "      <td>...</td>\n",
       "      <td>1</td>\n",
       "      <td>cartesian</td>\n",
       "      <td>1.0 x 1.0</td>\n",
       "      <td>2800 ms</td>\n",
       "      <td>22 ms</td>\n",
       "      <td>100 ms</td>\n",
       "      <td>150 °</td>\n",
       "      <td>TurboSpinEcho</td>\n",
       "      <td>11.12 ms</td>\n",
       "      <td>Aug. 8, 2018, 7:12 a.m.</td>\n",
       "    </tr>\n",
       "    <tr>\n",
       "      <th>2</th>\n",
       "      <td>bd01dd30-46e7-4415-bf04-ed4cc6ac2b64</td>\n",
       "      <td>1162</td>\n",
       "      <td>Hammernik K, Klatzer T, Kobler E, Recht M, Sod...</td>\n",
       "      <td>This is part of the training and test data tha...</td>\n",
       "      <td>NIH P41 EB017183</td>\n",
       "      <td>SAG</td>\n",
       "      <td>SAG</td>\n",
       "      <td>SIEMENS</td>\n",
       "      <td>Skyra</td>\n",
       "      <td>2.89362 T</td>\n",
       "      <td>...</td>\n",
       "      <td>1</td>\n",
       "      <td>cartesian</td>\n",
       "      <td>1.0 x 1.0</td>\n",
       "      <td>2800 ms</td>\n",
       "      <td>22 ms</td>\n",
       "      <td>100 ms</td>\n",
       "      <td>150 °</td>\n",
       "      <td>TurboSpinEcho</td>\n",
       "      <td>11.12 ms</td>\n",
       "      <td>Aug. 8, 2018, 7:11 a.m.</td>\n",
       "    </tr>\n",
       "    <tr>\n",
       "      <th>3</th>\n",
       "      <td>6493682f-c9d3-44a7-8c0f-7fdf8b165410</td>\n",
       "      <td>1090</td>\n",
       "      <td>Hammernik K, Klatzer T, Kobler E, Recht M, Sod...</td>\n",
       "      <td>This is part of the training and test data tha...</td>\n",
       "      <td>NIH P41 EB017183</td>\n",
       "      <td>SAG</td>\n",
       "      <td>SAG</td>\n",
       "      <td>SIEMENS</td>\n",
       "      <td>Skyra</td>\n",
       "      <td>2.89362 T</td>\n",
       "      <td>...</td>\n",
       "      <td>1</td>\n",
       "      <td>cartesian</td>\n",
       "      <td>1.0 x 1.0</td>\n",
       "      <td>2800 ms</td>\n",
       "      <td>22 ms</td>\n",
       "      <td>100 ms</td>\n",
       "      <td>150 °</td>\n",
       "      <td>TurboSpinEcho</td>\n",
       "      <td>11.12 ms</td>\n",
       "      <td>Aug. 8, 2018, 7:10 a.m.</td>\n",
       "    </tr>\n",
       "    <tr>\n",
       "      <th>4</th>\n",
       "      <td>48c95dcf-c074-499b-a63c-74f0bf7dff1f</td>\n",
       "      <td>1141</td>\n",
       "      <td>Hammernik K, Klatzer T, Kobler E, Recht M, Sod...</td>\n",
       "      <td>This is part of the training and test data tha...</td>\n",
       "      <td>NIH P41 EB017183</td>\n",
       "      <td>SAG</td>\n",
       "      <td>SAG</td>\n",
       "      <td>SIEMENS</td>\n",
       "      <td>Skyra</td>\n",
       "      <td>2.89362 T</td>\n",
       "      <td>...</td>\n",
       "      <td>1</td>\n",
       "      <td>cartesian</td>\n",
       "      <td>1.0 x 1.0</td>\n",
       "      <td>2800 ms</td>\n",
       "      <td>22 ms</td>\n",
       "      <td>100 ms</td>\n",
       "      <td>150 °</td>\n",
       "      <td>TurboSpinEcho</td>\n",
       "      <td>11.12 ms</td>\n",
       "      <td>Aug. 8, 2018, 7:09 a.m.</td>\n",
       "    </tr>\n",
       "    <tr>\n",
       "      <th>...</th>\n",
       "      <td>...</td>\n",
       "      <td>...</td>\n",
       "      <td>...</td>\n",
       "      <td>...</td>\n",
       "      <td>...</td>\n",
       "      <td>...</td>\n",
       "      <td>...</td>\n",
       "      <td>...</td>\n",
       "      <td>...</td>\n",
       "      <td>...</td>\n",
       "      <td>...</td>\n",
       "      <td>...</td>\n",
       "      <td>...</td>\n",
       "      <td>...</td>\n",
       "      <td>...</td>\n",
       "      <td>...</td>\n",
       "      <td>...</td>\n",
       "      <td>...</td>\n",
       "      <td>...</td>\n",
       "      <td>...</td>\n",
       "      <td>...</td>\n",
       "    </tr>\n",
       "    <tr>\n",
       "      <th>95</th>\n",
       "      <td>a5d10e70-627b-4a4c-943b-0639fd2cee8d</td>\n",
       "      <td>385</td>\n",
       "      <td>Hammernik K, Klatzer T, Kobler E, Recht M, Sod...</td>\n",
       "      <td>This is part of the training and test data tha...</td>\n",
       "      <td>NIH P41 EB017183</td>\n",
       "      <td>COR</td>\n",
       "      <td>COR</td>\n",
       "      <td>SIEMENS</td>\n",
       "      <td>Skyra</td>\n",
       "      <td>2.89362 T</td>\n",
       "      <td>...</td>\n",
       "      <td>1</td>\n",
       "      <td>cartesian</td>\n",
       "      <td>1.0 x 1.0</td>\n",
       "      <td>3170 ms</td>\n",
       "      <td>33 ms</td>\n",
       "      <td>100 ms</td>\n",
       "      <td>180 °</td>\n",
       "      <td>TurboSpinEcho</td>\n",
       "      <td>10.96 ms</td>\n",
       "      <td>Aug. 6, 2018, 12:16 p.m.</td>\n",
       "    </tr>\n",
       "    <tr>\n",
       "      <th>96</th>\n",
       "      <td>9616b2e4-81fc-4bd5-bee0-e3aac05cd0a5</td>\n",
       "      <td>383</td>\n",
       "      <td>Hammernik K, Klatzer T, Kobler E, Recht M, Sod...</td>\n",
       "      <td>This is part of the training and test data tha...</td>\n",
       "      <td>NIH P41 EB017183</td>\n",
       "      <td>COR</td>\n",
       "      <td>COR</td>\n",
       "      <td>SIEMENS</td>\n",
       "      <td>Skyra</td>\n",
       "      <td>2.89362 T</td>\n",
       "      <td>...</td>\n",
       "      <td>1</td>\n",
       "      <td>cartesian</td>\n",
       "      <td>1.0 x 1.0</td>\n",
       "      <td>2870 ms</td>\n",
       "      <td>33 ms</td>\n",
       "      <td>100 ms</td>\n",
       "      <td>180 °</td>\n",
       "      <td>TurboSpinEcho</td>\n",
       "      <td>10.96 ms</td>\n",
       "      <td>Aug. 6, 2018, 12:14 p.m.</td>\n",
       "    </tr>\n",
       "    <tr>\n",
       "      <th>97</th>\n",
       "      <td>4ed55066-656a-46aa-af95-81667b4f565b</td>\n",
       "      <td>381</td>\n",
       "      <td>Hammernik K, Klatzer T, Kobler E, Recht M, Sod...</td>\n",
       "      <td>This is part of the training and test data tha...</td>\n",
       "      <td>NIH P41 EB017183</td>\n",
       "      <td>COR</td>\n",
       "      <td>COR</td>\n",
       "      <td>SIEMENS</td>\n",
       "      <td>Skyra</td>\n",
       "      <td>2.89362 T</td>\n",
       "      <td>...</td>\n",
       "      <td>1</td>\n",
       "      <td>cartesian</td>\n",
       "      <td>1.0 x 1.0</td>\n",
       "      <td>2870 ms</td>\n",
       "      <td>33 ms</td>\n",
       "      <td>100 ms</td>\n",
       "      <td>180 °</td>\n",
       "      <td>TurboSpinEcho</td>\n",
       "      <td>10.96 ms</td>\n",
       "      <td>Aug. 6, 2018, 12:12 p.m.</td>\n",
       "    </tr>\n",
       "    <tr>\n",
       "      <th>98</th>\n",
       "      <td>be92c2de-4b73-4f07-a081-73973bf5d037</td>\n",
       "      <td>385</td>\n",
       "      <td>Hammernik K, Klatzer T, Kobler E, Recht M, Sod...</td>\n",
       "      <td>This is part of the training and test data tha...</td>\n",
       "      <td>NIH P41 EB017183</td>\n",
       "      <td>COR</td>\n",
       "      <td>COR</td>\n",
       "      <td>SIEMENS</td>\n",
       "      <td>Skyra</td>\n",
       "      <td>2.89362 T</td>\n",
       "      <td>...</td>\n",
       "      <td>1</td>\n",
       "      <td>cartesian</td>\n",
       "      <td>1.0 x 1.0</td>\n",
       "      <td>3010 ms</td>\n",
       "      <td>33 ms</td>\n",
       "      <td>100 ms</td>\n",
       "      <td>180 °</td>\n",
       "      <td>TurboSpinEcho</td>\n",
       "      <td>10.96 ms</td>\n",
       "      <td>Aug. 6, 2018, 12:10 p.m.</td>\n",
       "    </tr>\n",
       "    <tr>\n",
       "      <th>99</th>\n",
       "      <td>812594f8-1bbb-4855-8de8-9b24beb68dcc</td>\n",
       "      <td>427</td>\n",
       "      <td>Hammernik K, Klatzer T, Kobler E, Recht M, Sod...</td>\n",
       "      <td>This is part of the training and test data tha...</td>\n",
       "      <td>NIH P41 EB017183</td>\n",
       "      <td>COR</td>\n",
       "      <td>COR</td>\n",
       "      <td>SIEMENS</td>\n",
       "      <td>Skyra</td>\n",
       "      <td>2.89362 T</td>\n",
       "      <td>...</td>\n",
       "      <td>1</td>\n",
       "      <td>cartesian</td>\n",
       "      <td>1.0 x 1.0</td>\n",
       "      <td>3170 ms</td>\n",
       "      <td>33 ms</td>\n",
       "      <td>100 ms</td>\n",
       "      <td>180 °</td>\n",
       "      <td>TurboSpinEcho</td>\n",
       "      <td>10.96 ms</td>\n",
       "      <td>Aug. 6, 2018, 12:08 p.m.</td>\n",
       "    </tr>\n",
       "  </tbody>\n",
       "</table>\n",
       "<p>100 rows × 30 columns</p>\n",
       "</div>"
      ],
      "text/plain": [
       "                                    UUID  Downloads  \\\n",
       "0   413469fd-9354-400c-88e3-b29e7c711a05       2153   \n",
       "1   6a8fff64-9bba-4ce7-aa58-d024214b4d7a       4757   \n",
       "2   bd01dd30-46e7-4415-bf04-ed4cc6ac2b64       1162   \n",
       "3   6493682f-c9d3-44a7-8c0f-7fdf8b165410       1090   \n",
       "4   48c95dcf-c074-499b-a63c-74f0bf7dff1f       1141   \n",
       "..                                   ...        ...   \n",
       "95  a5d10e70-627b-4a4c-943b-0639fd2cee8d        385   \n",
       "96  9616b2e4-81fc-4bd5-bee0-e3aac05cd0a5        383   \n",
       "97  4ed55066-656a-46aa-af95-81667b4f565b        381   \n",
       "98  be92c2de-4b73-4f07-a081-73973bf5d037        385   \n",
       "99  812594f8-1bbb-4855-8de8-9b24beb68dcc        427   \n",
       "\n",
       "                                           References  \\\n",
       "0   Hammernik K, Klatzer T, Kobler E, Recht M, Sod...   \n",
       "1   Hammernik K, Klatzer T, Kobler E, Recht M, Sod...   \n",
       "2   Hammernik K, Klatzer T, Kobler E, Recht M, Sod...   \n",
       "3   Hammernik K, Klatzer T, Kobler E, Recht M, Sod...   \n",
       "4   Hammernik K, Klatzer T, Kobler E, Recht M, Sod...   \n",
       "..                                                ...   \n",
       "95  Hammernik K, Klatzer T, Kobler E, Recht M, Sod...   \n",
       "96  Hammernik K, Klatzer T, Kobler E, Recht M, Sod...   \n",
       "97  Hammernik K, Klatzer T, Kobler E, Recht M, Sod...   \n",
       "98  Hammernik K, Klatzer T, Kobler E, Recht M, Sod...   \n",
       "99  Hammernik K, Klatzer T, Kobler E, Recht M, Sod...   \n",
       "\n",
       "                                             Comments   Funding Support  \\\n",
       "0   This is part of the training and test data tha...  NIH P41 EB017183   \n",
       "1   This is part of the training and test data tha...  NIH P41 EB017183   \n",
       "2   This is part of the training and test data tha...  NIH P41 EB017183   \n",
       "3   This is part of the training and test data tha...  NIH P41 EB017183   \n",
       "4   This is part of the training and test data tha...  NIH P41 EB017183   \n",
       "..                                                ...               ...   \n",
       "95  This is part of the training and test data tha...  NIH P41 EB017183   \n",
       "96  This is part of the training and test data tha...  NIH P41 EB017183   \n",
       "97  This is part of the training and test data tha...  NIH P41 EB017183   \n",
       "98  This is part of the training and test data tha...  NIH P41 EB017183   \n",
       "99  This is part of the training and test data tha...  NIH P41 EB017183   \n",
       "\n",
       "   Protocol Name Series Description System Vendor System Model  \\\n",
       "0            SAG                SAG       SIEMENS        Skyra   \n",
       "1            SAG                SAG       SIEMENS        Skyra   \n",
       "2            SAG                SAG       SIEMENS        Skyra   \n",
       "3            SAG                SAG       SIEMENS        Skyra   \n",
       "4            SAG                SAG       SIEMENS        Skyra   \n",
       "..           ...                ...           ...          ...   \n",
       "95           COR                COR       SIEMENS        Skyra   \n",
       "96           COR                COR       SIEMENS        Skyra   \n",
       "97           COR                COR       SIEMENS        Skyra   \n",
       "98           COR                COR       SIEMENS        Skyra   \n",
       "99           COR                COR       SIEMENS        Skyra   \n",
       "\n",
       "   System Field Strength  ...  Number of Contrasts  Trajectory  \\\n",
       "0              2.89362 T  ...                    1   cartesian   \n",
       "1              2.89362 T  ...                    1   cartesian   \n",
       "2              2.89362 T  ...                    1   cartesian   \n",
       "3              2.89362 T  ...                    1   cartesian   \n",
       "4              2.89362 T  ...                    1   cartesian   \n",
       "..                   ...  ...                  ...         ...   \n",
       "95             2.89362 T  ...                    1   cartesian   \n",
       "96             2.89362 T  ...                    1   cartesian   \n",
       "97             2.89362 T  ...                    1   cartesian   \n",
       "98             2.89362 T  ...                    1   cartesian   \n",
       "99             2.89362 T  ...                    1   cartesian   \n",
       "\n",
       "   Parallel Imaging Factor Repetition Time Echo Time Inversion Time  \\\n",
       "0                1.0 x 1.0         2800 ms     22 ms         100 ms   \n",
       "1                1.0 x 1.0         2800 ms     22 ms         100 ms   \n",
       "2                1.0 x 1.0         2800 ms     22 ms         100 ms   \n",
       "3                1.0 x 1.0         2800 ms     22 ms         100 ms   \n",
       "4                1.0 x 1.0         2800 ms     22 ms         100 ms   \n",
       "..                     ...             ...       ...            ...   \n",
       "95               1.0 x 1.0         3170 ms     33 ms         100 ms   \n",
       "96               1.0 x 1.0         2870 ms     33 ms         100 ms   \n",
       "97               1.0 x 1.0         2870 ms     33 ms         100 ms   \n",
       "98               1.0 x 1.0         3010 ms     33 ms         100 ms   \n",
       "99               1.0 x 1.0         3170 ms     33 ms         100 ms   \n",
       "\n",
       "    Flip Angle  Sequence Type  Echo Spacing               Upload Date  \n",
       "0        150 °  TurboSpinEcho      11.12 ms   Aug. 8, 2018, 7:12 a.m.  \n",
       "1        150 °  TurboSpinEcho      11.12 ms   Aug. 8, 2018, 7:12 a.m.  \n",
       "2        150 °  TurboSpinEcho      11.12 ms   Aug. 8, 2018, 7:11 a.m.  \n",
       "3        150 °  TurboSpinEcho      11.12 ms   Aug. 8, 2018, 7:10 a.m.  \n",
       "4        150 °  TurboSpinEcho      11.12 ms   Aug. 8, 2018, 7:09 a.m.  \n",
       "..         ...            ...           ...                       ...  \n",
       "95       180 °  TurboSpinEcho      10.96 ms  Aug. 6, 2018, 12:16 p.m.  \n",
       "96       180 °  TurboSpinEcho      10.96 ms  Aug. 6, 2018, 12:14 p.m.  \n",
       "97       180 °  TurboSpinEcho      10.96 ms  Aug. 6, 2018, 12:12 p.m.  \n",
       "98       180 °  TurboSpinEcho      10.96 ms  Aug. 6, 2018, 12:10 p.m.  \n",
       "99       180 °  TurboSpinEcho      10.96 ms  Aug. 6, 2018, 12:08 p.m.  \n",
       "\n",
       "[100 rows x 30 columns]"
      ]
     },
     "execution_count": 2,
     "metadata": {},
     "output_type": "execute_result"
    }
   ],
   "source": [
    "import pandas as pd\n",
    "data_dir = r'H:\\Dataset\\Bio\\MRI Reconstruction\\mridata'\n",
    "tables = pd.read_csv('mridata.csv')\n",
    "tables"
   ]
  },
  {
   "cell_type": "code",
   "execution_count": 3,
   "id": "cc5c1a06",
   "metadata": {},
   "outputs": [],
   "source": [
    "def transform_kspace_to_image(k, dim=None, img_shape=None):\n",
    "    \"\"\" Computes the Fourier transform from k-space to image space\n",
    "    along a given or all dimensions\n",
    "\n",
    "    :param k: k-space data\n",
    "    :param dim: vector of dimensions to transform\n",
    "    :param img_shape: desired shape of output image\n",
    "    :returns: data in image space (along transformed dimensions)\n",
    "    \"\"\"\n",
    "    if not dim:\n",
    "        dim = range(k.ndim)\n",
    "\n",
    "    img = cp.fft.fftshift(cp.fft.ifftn(cp.fft.ifftshift(k, axes=dim), s=img_shape, axes=dim), axes=dim)\n",
    "    return img\n",
    "\n",
    "\n",
    "\n",
    "def transform_image_to_kspace(img, dim=None, k_shape=None):\n",
    "    \"\"\" Computes the Fourier transform from image space to k-space space\n",
    "    along a given or all dimensions\n",
    "\n",
    "    :param img: image space data\n",
    "    :param dim: vector of dimensions to transform\n",
    "    :param k_shape: desired shape of output k-space data\n",
    "    :returns: data in k-space (along transformed dimensions)\n",
    "    \"\"\"\n",
    "    if not dim:\n",
    "        dim = range(img.ndim)\n",
    "\n",
    "    k = cp.fft.fftshift(cp.fft.fftn(cp.fft.ifftshift(img, axes=dim), s=k_shape, axes=dim), axes=dim)\n",
    "    return k\n"
   ]
  },
  {
   "cell_type": "code",
   "execution_count": 4,
   "id": "21d8b9af",
   "metadata": {},
   "outputs": [],
   "source": [
    "def convert_ismrmrd_to_cupy_array(filename):\n",
    "    # Load file\n",
    "    if not os.path.isfile(filename):\n",
    "        print(\"%s is not a valid file\" % filename)\n",
    "        raise SystemExit\n",
    "    dset = ismrmrd.Dataset(filename, 'dataset', create_if_needed=False)\n",
    "\n",
    "    header = ismrmrd.xsd.CreateFromDocument(dset.read_xml_header())\n",
    "    enc = header.encoding[0]\n",
    "\n",
    "    # Matrix size\n",
    "    eNx = enc.encodedSpace.matrixSize.x\n",
    "    eNy = enc.encodedSpace.matrixSize.y\n",
    "    eNz = enc.encodedSpace.matrixSize.z\n",
    "    rNx = enc.reconSpace.matrixSize.x\n",
    "    rNy = enc.reconSpace.matrixSize.y\n",
    "    rNz = enc.reconSpace.matrixSize.z\n",
    "\n",
    "    # Field of View\n",
    "    eFOVx = enc.encodedSpace.fieldOfView_mm.x\n",
    "    eFOVy = enc.encodedSpace.fieldOfView_mm.y\n",
    "    eFOVz = enc.encodedSpace.fieldOfView_mm.z\n",
    "    rFOVx = enc.reconSpace.fieldOfView_mm.x\n",
    "    rFOVy = enc.reconSpace.fieldOfView_mm.y\n",
    "    rFOVz = enc.reconSpace.fieldOfView_mm.z\n",
    "\n",
    "    lNx = rNx\n",
    "    lNy = enc.encodingLimits.kspace_encoding_step_1.maximum + 1\n",
    "    lNz = enc.encodingLimits.kspace_encoding_step_2.maximum + 1\n",
    "\n",
    "    # Number of Slices, Reps, Contrasts, etc.\n",
    "    ncoils = header.acquisitionSystemInformation.receiverChannels\n",
    "    if enc.encodingLimits.slice != None:\n",
    "        nslices = enc.encodingLimits.slice.maximum + 1\n",
    "    else:\n",
    "        nslices = 1\n",
    "\n",
    "\n",
    "    if enc.encodingLimits.repetition != None:\n",
    "        nreps = enc.encodingLimits.repetition.maximum + 1\n",
    "    else:\n",
    "        nreps = 1\n",
    "\n",
    "    if enc.encodingLimits.contrast != None:\n",
    "        ncontrasts = enc.encodingLimits.contrast.maximum + 1\n",
    "    else:\n",
    "        ncontrasts = 1\n",
    "\n",
    "\n",
    "    # TODO loop through the acquisitions looking for noise scans\n",
    "    firstacq=0\n",
    "    for acqnum in range(dset.number_of_acquisitions()):\n",
    "        acq = dset.read_acquisition(acqnum)\n",
    "\n",
    "        # TODO: Currently ignoring noise scans\n",
    "        if acq.isFlagSet(ismrmrd.ACQ_IS_NOISE_MEASUREMENT):\n",
    "#             print(\"Found noise scan at acq \", acqnum)\n",
    "            continue\n",
    "        else:\n",
    "            firstacq = acqnum\n",
    "#             print(\"Imaging acquisition starts acq \", acqnum)\n",
    "            break\n",
    "\n",
    "\n",
    "\n",
    "\n",
    "    remove_oversampling_x = True\n",
    "\n",
    "    # Initialiaze a storage array\n",
    "    all_data = cp.zeros((nreps, ncontrasts, nslices, ncoils, lNz, lNy, rNx if remove_oversampling_x else eNx), \n",
    "                        dtype=cp.complex64)\n",
    "\n",
    "    # Loop through the rest of the acquisitions and stuff\n",
    "    for acqnum in trange(firstacq,dset.number_of_acquisitions()):\n",
    "        acq = dset.read_acquisition(acqnum)\n",
    "        data = cp.asarray(acq.data)\n",
    "        # TODO: this is where we would apply noise pre-whitening\n",
    "\n",
    "        # Remove oversampling if needed\n",
    "        if remove_oversampling_x and eNx != rNx:\n",
    "            xline = transform_kspace_to_image(data, [1])\n",
    "            x0 = (eNx - rNx) // 2\n",
    "            x1 = (eNx - rNx) // 2 + rNx\n",
    "            xline = xline[:,x0:x1]\n",
    "            acq.resize(rNx,acq.active_channels,acq.trajectory_dimensions)\n",
    "            acq.center_sample = rNx//2\n",
    "            # need to use the [:] notation here to fill the data\n",
    "            data = transform_image_to_kspace(xline, [1])\n",
    "\n",
    "        # Stuff into the buffer\n",
    "        rep = acq.idx.repetition\n",
    "        contrast = acq.idx.contrast\n",
    "        slice = acq.idx.slice\n",
    "        y = acq.idx.kspace_encode_step_1\n",
    "        z = acq.idx.kspace_encode_step_2\n",
    "        all_data[rep, contrast, slice, :, z, y, :] = data\n",
    "\n",
    "    info = dict(lNx=lNx, lNy=lNy, lNz=lNz,\n",
    "                eNx=eNx, eNy=eNy, eNz=eNz,\n",
    "                rNx=rNx, rNy=rNy, rNz=rNz,\n",
    "                eFOVx=eFOVx, eFOVy=eFOVy, eFOVz=eFOVz,\n",
    "                rFOVx=rFOVx, rFOVy=rFOVy, rFOVz=rFOVz,\n",
    "                ncoils=ncoils, nslices=nslices, nreps=nreps, ncontrasts=ncontrasts)\n",
    "    return all_data, info"
   ]
  },
  {
   "cell_type": "code",
   "execution_count": null,
   "id": "a8d96b3b",
   "metadata": {},
   "outputs": [],
   "source": []
  },
  {
   "cell_type": "code",
   "execution_count": 9,
   "id": "4cb44e8f",
   "metadata": {},
   "outputs": [],
   "source": [
    "out_dir = \"F:/MohammadRaziei/project/Dataset/ismrmrd_to_npz\"\n",
    "\n",
    "uuid = tables.iloc[0]['UUID']\n",
    "filename = os.path.join(data_dir, uuid+\".h5\")\n",
    "\n",
    "all_data, info = convert_ismrmrd_to_cupy_array(filename)\n",
    "np.savez(os.path.join(out_dir, \"%s.npz\"%uuid), kspace=all_data.get(), info = info)"
   ]
  },
  {
   "cell_type": "code",
   "execution_count": 10,
   "id": "62ec9e42",
   "metadata": {},
   "outputs": [
    {
     "data": {
      "text/plain": [
       "(1, 1, 31, 15, 1, 616, 384)"
      ]
     },
     "execution_count": 10,
     "metadata": {},
     "output_type": "execute_result"
    }
   ],
   "source": [
    "import scipy, os\n",
    "import numpy as np\n",
    "\n",
    "out_dir = \"F:/MohammadRaziei/project/Dataset/ismrmrd_to_npz\"\n",
    "uuid = tables.iloc[0]['UUID']\n",
    "filename = os.path.join(data_dir, uuid+\".h5\")\n",
    "\n",
    "source = np.load(os.path.join(out_dir, \"%s.npz\"%uuid), allow_pickle=True)\n",
    "data_all = source['kspace']\n",
    "info = source['info']\n",
    "data_all.shape"
   ]
  },
  {
   "cell_type": "code",
   "execution_count": 16,
   "id": "44207ea6",
   "metadata": {},
   "outputs": [
    {
     "data": {
      "image/png": "[encoded data removed]",
      "text/plain": [
       "<Figure size 432x288 with 1 Axes>"
      ]
     },
     "metadata": {
      "needs_background": "light"
     },
     "output_type": "display_data"
    },
    {
     "name": "stdout",
     "output_type": "stream",
     "text": [
      "Wall time: 2.1 s\n"
     ]
    }
   ],
   "source": [
    "%%time\n",
    "data_orig = np.squeeze(data_all)\n",
    "images = np.fft.fftshift(scipy.fft.fft2(data_orig, workers=os.cpu_count()))\n",
    "im = np.sqrt(np.sum(images**2,1))\n",
    "plt.imshow(np.abs(im[5]), cmap='gray')\n",
    "plt.show()"
   ]
  },
  {
   "cell_type": "code",
   "execution_count": 7,
   "id": "e688c1f6",
   "metadata": {
    "scrolled": false
   },
   "outputs": [
    {
     "name": "stdout",
     "output_type": "stream",
     "text": [
      "\n",
      "[002%]>> process on '14b0b5bd-25f4-4e6c-aa50-5a0048a495f8'\n"
     ]
    },
    {
     "data": {
      "application/vnd.jupyter.widget-view+json": {
       "model_id": "4bef52c8beca4d72855b75c9e4d928f9",
       "version_major": 2,
       "version_minor": 0
      },
      "text/plain": [
       "  0%|          | 0/14652 [00:00<?, ?it/s]"
      ]
     },
     "metadata": {},
     "output_type": "display_data"
    },
    {
     "name": "stdout",
     "output_type": "stream",
     "text": [
      "\n",
      "[004%]>> process on '18fe726f-1085-4c93-989b-0f79f084fbe4'\n"
     ]
    },
    {
     "data": {
      "application/vnd.jupyter.widget-view+json": {
       "model_id": "c7ea9a731bf849adba671930a40ff911",
       "version_major": 2,
       "version_minor": 0
      },
      "text/plain": [
       "  0%|          | 0/19220 [00:00<?, ?it/s]"
      ]
     },
     "metadata": {},
     "output_type": "display_data"
    },
    {
     "name": "stdout",
     "output_type": "stream",
     "text": [
      "\n",
      "[006%]>> process on '2448503f-4fda-4e3e-b269-bfffa814962d'\n"
     ]
    },
    {
     "data": {
      "application/vnd.jupyter.widget-view+json": {
       "model_id": "00af7195a4c8462eafbe0feed72a57e4",
       "version_major": 2,
       "version_minor": 0
      },
      "text/plain": [
       "  0%|          | 0/15048 [00:00<?, ?it/s]"
      ]
     },
     "metadata": {},
     "output_type": "display_data"
    },
    {
     "name": "stdout",
     "output_type": "stream",
     "text": [
      "\n",
      "[008%]>> process on '31040ec1-2c09-4b2d-b772-1079d262cc87'\n"
     ]
    },
    {
     "data": {
      "application/vnd.jupyter.widget-view+json": {
       "model_id": "993a0c9b77c84dda8865742d5a3b9bb7",
       "version_major": 2,
       "version_minor": 0
      },
      "text/plain": [
       "  0%|          | 0/28006 [00:00<?, ?it/s]"
      ]
     },
     "metadata": {},
     "output_type": "display_data"
    },
    {
     "name": "stdout",
     "output_type": "stream",
     "text": [
      "\n",
      "[010%]>> process on '34c9860c-c752-4062-aaf5-530d63272c98'\n"
     ]
    },
    {
     "data": {
      "application/vnd.jupyter.widget-view+json": {
       "model_id": "d8fea01a02274b67a3f5ff0106bcb680",
       "version_major": 2,
       "version_minor": 0
      },
      "text/plain": [
       "  0%|          | 0/15840 [00:00<?, ?it/s]"
      ]
     },
     "metadata": {},
     "output_type": "display_data"
    },
    {
     "name": "stdout",
     "output_type": "stream",
     "text": [
      "\n",
      "[012%]>> process on '36cb711d-5a2d-449a-b381-ab01c913055e'\n"
     ]
    },
    {
     "data": {
      "application/vnd.jupyter.widget-view+json": {
       "model_id": "5d5fc9dc399f4cfe8ed3dcb9581d638a",
       "version_major": 2,
       "version_minor": 0
      },
      "text/plain": [
       "  0%|          | 0/15048 [00:00<?, ?it/s]"
      ]
     },
     "metadata": {},
     "output_type": "display_data"
    },
    {
     "name": "stdout",
     "output_type": "stream",
     "text": [
      "\n",
      "[014%]>> process on '36ddbca0-c5fd-41a3-854d-4790649d89c2'\n"
     ]
    },
    {
     "data": {
      "application/vnd.jupyter.widget-view+json": {
       "model_id": "c81a3deec6094727b7fb50bbb84f7b6b",
       "version_major": 2,
       "version_minor": 0
      },
      "text/plain": [
       "  0%|          | 0/30788 [00:00<?, ?it/s]"
      ]
     },
     "metadata": {},
     "output_type": "display_data"
    },
    {
     "name": "stdout",
     "output_type": "stream",
     "text": [
      "\n",
      "[016%]>> process on '3806b119-5c9b-4ea4-bf53-bb3b6706149b'\n"
     ]
    },
    {
     "data": {
      "application/vnd.jupyter.widget-view+json": {
       "model_id": "cb862c9591ce478aafdcb6f8d4c0fda3",
       "version_major": 2,
       "version_minor": 0
      },
      "text/plain": [
       "  0%|          | 0/14256 [00:00<?, ?it/s]"
      ]
     },
     "metadata": {},
     "output_type": "display_data"
    },
    {
     "name": "stdout",
     "output_type": "stream",
     "text": [
      "\n",
      "[018%]>> process on '3b2f97c1-6c7a-41b7-82bb-698f0b6fd3d0'\n"
     ]
    },
    {
     "data": {
      "application/vnd.jupyter.widget-view+json": {
       "model_id": "3dd9d7ada63941ee8793cb98e74a69a4",
       "version_major": 2,
       "version_minor": 0
      },
      "text/plain": [
       "  0%|          | 0/35050 [00:00<?, ?it/s]"
      ]
     },
     "metadata": {},
     "output_type": "display_data"
    },
    {
     "name": "stdout",
     "output_type": "stream",
     "text": [
      "\n",
      "[020%]>> process on '3c8b5e73-29ab-400d-b397-5f0bca4b7cb6'\n"
     ]
    },
    {
     "data": {
      "application/vnd.jupyter.widget-view+json": {
       "model_id": "1cd7eda3764047f0b54b4a4b34bb0331",
       "version_major": 2,
       "version_minor": 0
      },
      "text/plain": [
       "  0%|          | 0/15444 [00:00<?, ?it/s]"
      ]
     },
     "metadata": {},
     "output_type": "display_data"
    },
    {
     "name": "stdout",
     "output_type": "stream",
     "text": [
      "\n",
      "[022%]>> process on '413469fd-9354-400c-88e3-b29e7c711a05'\n"
     ]
    },
    {
     "data": {
      "application/vnd.jupyter.widget-view+json": {
       "model_id": "5c61508f76804330b361b0ed3a008dff",
       "version_major": 2,
       "version_minor": 0
      },
      "text/plain": [
       "  0%|          | 0/21279 [00:00<?, ?it/s]"
      ]
     },
     "metadata": {},
     "output_type": "display_data"
    },
    {
     "name": "stdout",
     "output_type": "stream",
     "text": [
      "\n",
      "[024%]>> process on '413d7d8f-4644-4bef-86e2-89f01cd84215'\n"
     ]
    },
    {
     "data": {
      "application/vnd.jupyter.widget-view+json": {
       "model_id": "f761b057d8fc4d8fb4f539009eea1eb7",
       "version_major": 2,
       "version_minor": 0
      },
      "text/plain": [
       "  0%|          | 0/35097 [00:00<?, ?it/s]"
      ]
     },
     "metadata": {},
     "output_type": "display_data"
    },
    {
     "name": "stdout",
     "output_type": "stream",
     "text": [
      "\n",
      "[026%]>> process on '47a37b36-d970-47b4-ac8c-3b2c8d50d002'\n"
     ]
    },
    {
     "data": {
      "application/vnd.jupyter.widget-view+json": {
       "model_id": "0d87df6f06ee4cd4b2df9315d3534e6f",
       "version_major": 2,
       "version_minor": 0
      },
      "text/plain": [
       "  0%|          | 0/16236 [00:00<?, ?it/s]"
      ]
     },
     "metadata": {},
     "output_type": "display_data"
    },
    {
     "name": "stdout",
     "output_type": "stream",
     "text": [
      "\n",
      "[028%]>> process on '48c95dcf-c074-499b-a63c-74f0bf7dff1f'\n"
     ]
    },
    {
     "data": {
      "application/vnd.jupyter.widget-view+json": {
       "model_id": "3afdbdf0e61a46be992625860f7fb5fb",
       "version_major": 2,
       "version_minor": 0
      },
      "text/plain": [
       "  0%|          | 0/19840 [00:00<?, ?it/s]"
      ]
     },
     "metadata": {},
     "output_type": "display_data"
    },
    {
     "name": "stdout",
     "output_type": "stream",
     "text": [
      "\n",
      "[030%]>> process on '4b2f85dd-ee7b-485a-b1d9-9ba569adea07'\n"
     ]
    },
    {
     "data": {
      "application/vnd.jupyter.widget-view+json": {
       "model_id": "e9ae29a2b4e4413da969dca8424e5d07",
       "version_major": 2,
       "version_minor": 0
      },
      "text/plain": [
       "  0%|          | 0/15048 [00:00<?, ?it/s]"
      ]
     },
     "metadata": {},
     "output_type": "display_data"
    },
    {
     "name": "stdout",
     "output_type": "stream",
     "text": [
      "\n",
      "[032%]>> process on '4be8d222-d941-4da5-97cf-c9b04dd8b50e'\n"
     ]
    },
    {
     "data": {
      "application/vnd.jupyter.widget-view+json": {
       "model_id": "538b5e7688f24519968d5f2e7a4c5b53",
       "version_major": 2,
       "version_minor": 0
      },
      "text/plain": [
       "  0%|          | 0/17952 [00:00<?, ?it/s]"
      ]
     },
     "metadata": {},
     "output_type": "display_data"
    },
    {
     "name": "stdout",
     "output_type": "stream",
     "text": [
      "\n",
      "[034%]>> process on '4d080529-72a2-4004-a6cb-7f84c5455c98'\n"
     ]
    },
    {
     "data": {
      "application/vnd.jupyter.widget-view+json": {
       "model_id": "729ab2d1cb8046e8b9a732157ad74b31",
       "version_major": 2,
       "version_minor": 0
      },
      "text/plain": [
       "  0%|          | 0/13068 [00:00<?, ?it/s]"
      ]
     },
     "metadata": {},
     "output_type": "display_data"
    },
    {
     "name": "stdout",
     "output_type": "stream",
     "text": [
      "\n",
      "[036%]>> process on '516288da-d22b-4e92-9282-96665134c84a'\n"
     ]
    },
    {
     "data": {
      "application/vnd.jupyter.widget-view+json": {
       "model_id": "33e8e8a880594cc8a8d119f651829188",
       "version_major": 2,
       "version_minor": 0
      },
      "text/plain": [
       "  0%|          | 0/19840 [00:00<?, ?it/s]"
      ]
     },
     "metadata": {},
     "output_type": "display_data"
    },
    {
     "name": "stdout",
     "output_type": "stream",
     "text": [
      "\n",
      "[038%]>> process on '60f071c4-438f-42b7-b06b-cebfae19f3a1'\n"
     ]
    },
    {
     "data": {
      "application/vnd.jupyter.widget-view+json": {
       "model_id": "a7a51581aca04342981eb16281ac7dd1",
       "version_major": 2,
       "version_minor": 0
      },
      "text/plain": [
       "  0%|          | 0/13068 [00:00<?, ?it/s]"
      ]
     },
     "metadata": {},
     "output_type": "display_data"
    },
    {
     "name": "stdout",
     "output_type": "stream",
     "text": [
      "\n",
      "[040%]>> process on '6493682f-c9d3-44a7-8c0f-7fdf8b165410'\n"
     ]
    },
    {
     "data": {
      "application/vnd.jupyter.widget-view+json": {
       "model_id": "a57b74bb8a4c4041863311834ab9ea1c",
       "version_major": 2,
       "version_minor": 0
      },
      "text/plain": [
       "  0%|          | 0/20460 [00:00<?, ?it/s]"
      ]
     },
     "metadata": {},
     "output_type": "display_data"
    },
    {
     "name": "stdout",
     "output_type": "stream",
     "text": [
      "\n",
      "[042%]>> process on '6a8fff64-9bba-4ce7-aa58-d024214b4d7a'\n"
     ]
    },
    {
     "data": {
      "application/vnd.jupyter.widget-view+json": {
       "model_id": "1cab9636876141fe9a89a78cafc4a152",
       "version_major": 2,
       "version_minor": 0
      },
      "text/plain": [
       "  0%|          | 0/19220 [00:00<?, ?it/s]"
      ]
     },
     "metadata": {},
     "output_type": "display_data"
    },
    {
     "name": "stdout",
     "output_type": "stream",
     "text": [
      "\n",
      "[044%]>> process on '7953af76-63f4-4b64-984a-adbc67ade280'\n"
     ]
    },
    {
     "data": {
      "application/vnd.jupyter.widget-view+json": {
       "model_id": "c637bf80c6984a17847deacb4b293352",
       "version_major": 2,
       "version_minor": 0
      },
      "text/plain": [
       "  0%|          | 0/36568 [00:00<?, ?it/s]"
      ]
     },
     "metadata": {},
     "output_type": "display_data"
    },
    {
     "name": "stdout",
     "output_type": "stream",
     "text": [
      "\n",
      "[046%]>> process on '826bba6e-8dd3-4b41-a689-c0b2138294db'\n"
     ]
    },
    {
     "data": {
      "application/vnd.jupyter.widget-view+json": {
       "model_id": "510f5df9948741b3bdff730deb69c184",
       "version_major": 2,
       "version_minor": 0
      },
      "text/plain": [
       "  0%|          | 0/13860 [00:00<?, ?it/s]"
      ]
     },
     "metadata": {},
     "output_type": "display_data"
    },
    {
     "name": "stdout",
     "output_type": "stream",
     "text": [
      "\n",
      "[048%]>> process on '88fa0347-619f-4d6e-b0a6-d243f06ce163'\n"
     ]
    },
    {
     "data": {
      "application/vnd.jupyter.widget-view+json": {
       "model_id": "e649b1e6162643588587c38ca36c9a07",
       "version_major": 2,
       "version_minor": 0
      },
      "text/plain": [
       "  0%|          | 0/16368 [00:00<?, ?it/s]"
      ]
     },
     "metadata": {},
     "output_type": "display_data"
    },
    {
     "name": "stdout",
     "output_type": "stream",
     "text": [
      "\n",
      "[050%]>> process on '8ed409e6-538d-490f-bad6-6929ad1e9151'\n"
     ]
    },
    {
     "data": {
      "application/vnd.jupyter.widget-view+json": {
       "model_id": "40b246d0538845a0a1c8f046d34efd0e",
       "version_major": 2,
       "version_minor": 0
      },
      "text/plain": [
       "  0%|          | 0/13464 [00:00<?, ?it/s]"
      ]
     },
     "metadata": {},
     "output_type": "display_data"
    },
    {
     "name": "stdout",
     "output_type": "stream",
     "text": [
      "\n",
      "[052%]>> process on '8fc09359-0ea0-4b14-b636-e1d34cc971df'\n"
     ]
    },
    {
     "data": {
      "application/vnd.jupyter.widget-view+json": {
       "model_id": "5ee2b3b493484b7491cbfef62bec29f8",
       "version_major": 2,
       "version_minor": 0
      },
      "text/plain": [
       "  0%|          | 0/21120 [00:00<?, ?it/s]"
      ]
     },
     "metadata": {},
     "output_type": "display_data"
    },
    {
     "name": "stdout",
     "output_type": "stream",
     "text": [
      "\n",
      "[054%]>> process on '905567b1-7ea2-4272-96cd-ec9acf195554'\n"
     ]
    },
    {
     "data": {
      "application/vnd.jupyter.widget-view+json": {
       "model_id": "3d6f8017c9a048bba7a4fc1c1c63360d",
       "version_major": 2,
       "version_minor": 0
      },
      "text/plain": [
       "  0%|          | 0/15048 [00:00<?, ?it/s]"
      ]
     },
     "metadata": {},
     "output_type": "display_data"
    },
    {
     "name": "stdout",
     "output_type": "stream",
     "text": [
      "\n",
      "[056%]>> process on '907e4462-c45d-4a62-8ade-553f2c217312'\n"
     ]
    },
    {
     "data": {
      "application/vnd.jupyter.widget-view+json": {
       "model_id": "6e4e52928f174a5fb6926b9927cf825d",
       "version_major": 2,
       "version_minor": 0
      },
      "text/plain": [
       "  0%|          | 0/41269 [00:00<?, ?it/s]"
      ]
     },
     "metadata": {},
     "output_type": "display_data"
    },
    {
     "name": "stdout",
     "output_type": "stream",
     "text": [
      "\n",
      "[058%]>> process on '90bc0b15-eea2-4abb-b0d2-f3fdad57bb43'\n"
     ]
    },
    {
     "data": {
      "application/vnd.jupyter.widget-view+json": {
       "model_id": "c9766bc039c2401c9526f35e05d13623",
       "version_major": 2,
       "version_minor": 0
      },
      "text/plain": [
       "  0%|          | 0/39027 [00:00<?, ?it/s]"
      ]
     },
     "metadata": {},
     "output_type": "display_data"
    },
    {
     "name": "stdout",
     "output_type": "stream",
     "text": [
      "\n",
      "[060%]>> process on '936c76f0-b3af-41f0-9b2d-f468f6a71225'\n"
     ]
    },
    {
     "data": {
      "application/vnd.jupyter.widget-view+json": {
       "model_id": "47bd91c5da97471d9d3bdfae4f027213",
       "version_major": 2,
       "version_minor": 0
      },
      "text/plain": [
       "  0%|          | 0/20460 [00:00<?, ?it/s]"
      ]
     },
     "metadata": {},
     "output_type": "display_data"
    },
    {
     "name": "stdout",
     "output_type": "stream",
     "text": [
      "\n",
      "[062%]>> process on '95560836-9108-4a9d-89ba-a62ba334043e'\n"
     ]
    },
    {
     "data": {
      "application/vnd.jupyter.widget-view+json": {
       "model_id": "fd85fa43e2ca4794be9bb12939993b6e",
       "version_major": 2,
       "version_minor": 0
      },
      "text/plain": [
       "  0%|          | 0/16368 [00:00<?, ?it/s]"
      ]
     },
     "metadata": {},
     "output_type": "display_data"
    },
    {
     "name": "stdout",
     "output_type": "stream",
     "text": [
      "\n",
      "[064%]>> process on '9ee7c421-bf8b-42b2-96c9-00ba0f41cf4b'\n"
     ]
    },
    {
     "data": {
      "application/vnd.jupyter.widget-view+json": {
       "model_id": "35fc8253bbe646c4917e51d97d98657a",
       "version_major": 2,
       "version_minor": 0
      },
      "text/plain": [
       "  0%|          | 0/14256 [00:00<?, ?it/s]"
      ]
     },
     "metadata": {},
     "output_type": "display_data"
    },
    {
     "name": "stdout",
     "output_type": "stream",
     "text": [
      "\n",
      "[066%]>> process on 'a48786e2-75f8-4c09-8dcc-a3ee20b9ae81'\n"
     ]
    },
    {
     "data": {
      "application/vnd.jupyter.widget-view+json": {
       "model_id": "ce0405a7fbe546cd85da19b6a542bbe6",
       "version_major": 2,
       "version_minor": 0
      },
      "text/plain": [
       "  0%|          | 0/19008 [00:00<?, ?it/s]"
      ]
     },
     "metadata": {},
     "output_type": "display_data"
    },
    {
     "name": "stdout",
     "output_type": "stream",
     "text": [
      "\n",
      "[068%]>> process on 'a496da39-848a-4fe8-8954-ff63df6785cb'\n"
     ]
    },
    {
     "data": {
      "application/vnd.jupyter.widget-view+json": {
       "model_id": "10b31a36e11d46f2a897d72c4ecd7f33",
       "version_major": 2,
       "version_minor": 0
      },
      "text/plain": [
       "  0%|          | 0/10044 [00:00<?, ?it/s]"
      ]
     },
     "metadata": {},
     "output_type": "display_data"
    },
    {
     "name": "stdout",
     "output_type": "stream",
     "text": [
      "\n",
      "[070%]>> process on 'ac9a60ce-3d72-41c8-a0e7-a29d2022fd86'\n"
     ]
    },
    {
     "data": {
      "application/vnd.jupyter.widget-view+json": {
       "model_id": "428fe9e23f084bea8e93ff6035c66658",
       "version_major": 2,
       "version_minor": 0
      },
      "text/plain": [
       "  0%|          | 0/13068 [00:00<?, ?it/s]"
      ]
     },
     "metadata": {},
     "output_type": "display_data"
    },
    {
     "name": "stdout",
     "output_type": "stream",
     "text": [
      "\n",
      "[072%]>> process on 'af169293-1b83-4bd9-a8cf-4708325cdf73'\n"
     ]
    },
    {
     "data": {
      "application/vnd.jupyter.widget-view+json": {
       "model_id": "c2806f8825a4420d8935190dd82a1541",
       "version_major": 2,
       "version_minor": 0
      },
      "text/plain": [
       "  0%|          | 0/32056 [00:00<?, ?it/s]"
      ]
     },
     "metadata": {},
     "output_type": "display_data"
    },
    {
     "name": "stdout",
     "output_type": "stream",
     "text": [
      "\n",
      "[074%]>> process on 'b1a090b2-8399-43a4-bf84-c36af47b7e36'\n"
     ]
    },
    {
     "data": {
      "application/vnd.jupyter.widget-view+json": {
       "model_id": "4219b53fd3da45a1ba4980eb7a15382a",
       "version_major": 2,
       "version_minor": 0
      },
      "text/plain": [
       "  0%|          | 0/13860 [00:00<?, ?it/s]"
      ]
     },
     "metadata": {},
     "output_type": "display_data"
    },
    {
     "name": "stdout",
     "output_type": "stream",
     "text": [
      "\n",
      "[076%]>> process on 'bd01dd30-46e7-4415-bf04-ed4cc6ac2b64'\n"
     ]
    },
    {
     "data": {
      "application/vnd.jupyter.widget-view+json": {
       "model_id": "8da5baa997cc4cf0960fc2adee416ce5",
       "version_major": 2,
       "version_minor": 0
      },
      "text/plain": [
       "  0%|          | 0/20460 [00:00<?, ?it/s]"
      ]
     },
     "metadata": {},
     "output_type": "display_data"
    },
    {
     "name": "stdout",
     "output_type": "stream",
     "text": [
      "\n",
      "[078%]>> process on 'bde64419-c4c3-4a7f-be23-b38ae6f67454'\n"
     ]
    },
    {
     "data": {
      "application/vnd.jupyter.widget-view+json": {
       "model_id": "3f23ae53db754a49a654ec8659081d0c",
       "version_major": 2,
       "version_minor": 0
      },
      "text/plain": [
       "  0%|          | 0/18480 [00:00<?, ?it/s]"
      ]
     },
     "metadata": {},
     "output_type": "display_data"
    },
    {
     "name": "stdout",
     "output_type": "stream",
     "text": [
      "\n",
      "[080%]>> process on 'c155c00a-80af-421b-ae48-e7ed0dec9777'\n"
     ]
    },
    {
     "data": {
      "application/vnd.jupyter.widget-view+json": {
       "model_id": "f5c655c81ea24accba05b3f12c3fdb99",
       "version_major": 2,
       "version_minor": 0
      },
      "text/plain": [
       "  0%|          | 0/15048 [00:00<?, ?it/s]"
      ]
     },
     "metadata": {},
     "output_type": "display_data"
    },
    {
     "name": "stdout",
     "output_type": "stream",
     "text": [
      "\n",
      "[082%]>> process on 'c22a01be-8903-4ad3-b58d-3781b2d20bf8'\n"
     ]
    },
    {
     "data": {
      "application/vnd.jupyter.widget-view+json": {
       "model_id": "02721fb1c611419a99e93529e107c1c8",
       "version_major": 2,
       "version_minor": 0
      },
      "text/plain": [
       "  0%|          | 0/19220 [00:00<?, ?it/s]"
      ]
     },
     "metadata": {},
     "output_type": "display_data"
    },
    {
     "name": "stdout",
     "output_type": "stream",
     "text": [
      "\n",
      "[084%]>> process on 'cafc2ace-a826-4344-8cf9-896ec8bc6120'\n"
     ]
    },
    {
     "data": {
      "application/vnd.jupyter.widget-view+json": {
       "model_id": "9e4c79b6830e4ef08bed534b1e22a1c3",
       "version_major": 2,
       "version_minor": 0
      },
      "text/plain": [
       "  0%|          | 0/20672 [00:00<?, ?it/s]"
      ]
     },
     "metadata": {},
     "output_type": "display_data"
    },
    {
     "name": "stdout",
     "output_type": "stream",
     "text": [
      "\n",
      "[086%]>> process on 'cc52722b-8649-45b0-a1ea-8727c1687ad5'\n"
     ]
    },
    {
     "data": {
      "application/vnd.jupyter.widget-view+json": {
       "model_id": "0f5164ba21b542aba2da23ded623da92",
       "version_major": 2,
       "version_minor": 0
      },
      "text/plain": [
       "  0%|          | 0/22320 [00:00<?, ?it/s]"
      ]
     },
     "metadata": {},
     "output_type": "display_data"
    },
    {
     "name": "stdout",
     "output_type": "stream",
     "text": [
      "\n",
      "[088%]>> process on 'd65e98c1-f893-48b5-b093-057b327a410c'\n"
     ]
    },
    {
     "data": {
      "application/vnd.jupyter.widget-view+json": {
       "model_id": "bc64a6f837f14bb6beb451c832231d8f",
       "version_major": 2,
       "version_minor": 0
      },
      "text/plain": [
       "  0%|          | 0/13860 [00:00<?, ?it/s]"
      ]
     },
     "metadata": {},
     "output_type": "display_data"
    },
    {
     "name": "stdout",
     "output_type": "stream",
     "text": [
      "\n",
      "[090%]>> process on 'de6d23d9-b1c4-46af-bc79-ce828f5cd63a'\n"
     ]
    },
    {
     "data": {
      "application/vnd.jupyter.widget-view+json": {
       "model_id": "e77da406c0a443a692eb11fcafbb1afd",
       "version_major": 2,
       "version_minor": 0
      },
      "text/plain": [
       "  0%|          | 0/20460 [00:00<?, ?it/s]"
      ]
     },
     "metadata": {},
     "output_type": "display_data"
    },
    {
     "name": "stdout",
     "output_type": "stream",
     "text": [
      "\n",
      "[092%]>> process on 'e3573a0f-34f7-4718-827a-027bf9dd4dea'\n"
     ]
    },
    {
     "data": {
      "application/vnd.jupyter.widget-view+json": {
       "model_id": "efa12657d0ae400ba4eecdf95c176979",
       "version_major": 2,
       "version_minor": 0
      },
      "text/plain": [
       "  0%|          | 0/8928 [00:00<?, ?it/s]"
      ]
     },
     "metadata": {},
     "output_type": "display_data"
    },
    {
     "name": "stdout",
     "output_type": "stream",
     "text": [
      "\n",
      "[094%]>> process on 'e5bea69e-3b5e-44e9-9307-c182b8caf6db'\n"
     ]
    },
    {
     "data": {
      "application/vnd.jupyter.widget-view+json": {
       "model_id": "6de938d2d40c4e36aa1c1fe0c400bc17",
       "version_major": 2,
       "version_minor": 0
      },
      "text/plain": [
       "  0%|          | 0/29029 [00:00<?, ?it/s]"
      ]
     },
     "metadata": {},
     "output_type": "display_data"
    },
    {
     "name": "stdout",
     "output_type": "stream",
     "text": [
      "\n",
      "[096%]>> process on 'eef301df-b4d5-4a69-b627-84a324e29631'\n"
     ]
    },
    {
     "data": {
      "application/vnd.jupyter.widget-view+json": {
       "model_id": "12165f287e334b52bbe77b5e09a05cd3",
       "version_major": 2,
       "version_minor": 0
      },
      "text/plain": [
       "  0%|          | 0/19008 [00:00<?, ?it/s]"
      ]
     },
     "metadata": {},
     "output_type": "display_data"
    },
    {
     "name": "stdout",
     "output_type": "stream",
     "text": [
      "\n",
      "[098%]>> process on 'fa38d775-b213-4c99-847b-9a9ec9ace97c'\n"
     ]
    },
    {
     "data": {
      "application/vnd.jupyter.widget-view+json": {
       "model_id": "7e34e982bb244c3faaef3965abe6b014",
       "version_major": 2,
       "version_minor": 0
      },
      "text/plain": [
       "  0%|          | 0/18480 [00:00<?, ?it/s]"
      ]
     },
     "metadata": {},
     "output_type": "display_data"
    },
    {
     "name": "stdout",
     "output_type": "stream",
     "text": [
      "\n",
      "[100%]>> process on 'fc58f24a-e6c7-4895-ac6d-60457badaa95'\n"
     ]
    },
    {
     "data": {
      "application/vnd.jupyter.widget-view+json": {
       "model_id": "b01c4f386d1a458aa249807eabfba578",
       "version_major": 2,
       "version_minor": 0
      },
      "text/plain": [
       "  0%|          | 0/13068 [00:00<?, ?it/s]"
      ]
     },
     "metadata": {},
     "output_type": "display_data"
    }
   ],
   "source": [
    "out_dir = \"F:/MohammadRaziei/project/Dataset/ismrmrd_to_npz\"\n",
    "filenames = glob.glob(data_dir+\"/*h5\")\n",
    "\n",
    "for i, filename in enumerate(filenames): \n",
    "    cp.get_default_memory_pool().free_all_blocks()\n",
    "    cp.get_default_pinned_memory_pool().free_all_blocks()\n",
    "    cp.fft.config.get_plan_cache().clear()\n",
    "\n",
    "    uuid = Path(filename).stem\n",
    "    print(\"\\n[{:03.0f}%]>> process on '{}'\".format(100*(i+1)/len(filenames),uuid))\n",
    "    all_data, info = convert_ismrmrd_to_cupy_array(filename)\n",
    "    np.savez(os.path.join(out_dir, \"%s.npz\"%uuid), kspace=all_data.get(), info = info, allow_pickle=True)\n",
    "#     all_data, info = convert_ismrmrd_to_cupy_array(filename)\n",
    "#     np.savez(os.path.join(out_dir, \"%s.npz\"%uuid), kspace=all_data.get(), info = info)"
   ]
  },
  {
   "cell_type": "code",
   "execution_count": 47,
   "id": "143c23c7",
   "metadata": {},
   "outputs": [],
   "source": []
  }
 ],
 "metadata": {
  "kernelspec": {
   "display_name": "Python 3 (ipykernel)",
   "language": "python",
   "name": "python3"
  },
  "language_info": {
   "codemirror_mode": {
    "name": "ipython",
    "version": 3
   },
   "file_extension": ".py",
   "mimetype": "text/x-python",
   "name": "python",
   "nbconvert_exporter": "python",
   "pygments_lexer": "ipython3",
   "version": "3.8.8"
  }
 },
 "nbformat": 4,
 "nbformat_minor": 5
}
