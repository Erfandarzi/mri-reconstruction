{
 "cells": [
  {
   "cell_type": "code",
   "execution_count": 21,
   "metadata": {},
   "outputs": [],
   "source": [
    "import tensorflow as tf\n",
    "from tensorflow.keras import layers\n",
    "import matplotlib.pyplot as plt"
   ]
  },
  {
   "cell_type": "code",
   "execution_count": 4,
   "metadata": {},
   "outputs": [],
   "source": [
    "# declaring the input layer\n",
    "# In the original paper the network consisted of only one channel.\n",
    "inputs = layers.Input(shape=(572, 572, 1))\n",
    "# first part of the U - contracting part\n",
    "c0 = layers.Conv2D(64, activation='relu', kernel_size=3)(inputs)\n",
    "c1 = layers.Conv2D(64, activation='relu', kernel_size=3)(c0)  # This layer for concatenating in the expansive part\n",
    "c2 = layers.MaxPool2D(pool_size=(2, 2), strides=(2, 2), padding='valid')(c1)\n",
    "\n",
    "c3 = layers.Conv2D(128, activation='relu', kernel_size=3)(c2)\n",
    "c4 = layers.Conv2D(128, activation='relu', kernel_size=3)(c3)  # This layer for concatenating in the expansive part\n",
    "c5 = layers.MaxPool2D(pool_size=(2, 2), strides=(2, 2), padding='valid')(c4)\n",
    "\n",
    "c6 = layers.Conv2D(256, activation='relu', kernel_size=3)(c5)\n",
    "c7 = layers.Conv2D(256, activation='relu', kernel_size=3)(c6)  # This layer for concatenating in the expansive part\n",
    "c8 = layers.MaxPool2D(pool_size=(2, 2), strides=(2, 2), padding='valid')(c7)\n",
    "\n",
    "c9 = layers.Conv2D(512, activation='relu', kernel_size=3)(c8)\n",
    "c10 = layers.Conv2D(512, activation='relu', kernel_size=3)(c9)  # This layer for concatenating in the expansive part\n",
    "c11 = layers.MaxPool2D(pool_size=(2, 2), strides=(2, 2), padding='valid')(c10)\n",
    "\n",
    "c12 = layers.Conv2D(1024, activation='relu', kernel_size=3)(c11)\n",
    "c13 = layers.Conv2D(1024, activation='relu', kernel_size=3, padding='valid')(c12)\n",
    "\n",
    "# We will now start the second part of the U - expansive part\n",
    "t01 = layers.Conv2DTranspose(512, kernel_size=2, strides=(2, 2), activation='relu')(c13)\n",
    "crop01 = layers.Cropping2D(cropping=(4, 4))(c10)\n",
    "\n",
    "concat01 = layers.concatenate([t01, crop01], axis=-1)\n",
    "\n",
    "c14 = layers.Conv2D(512, activation='relu', kernel_size=3)(concat01)\n",
    "c15 = layers.Conv2D(512, activation='relu', kernel_size=3)(c14)\n",
    "\n",
    "t02 = layers.Conv2DTranspose(256, kernel_size=2, strides=(2, 2), activation='relu')(c15)\n",
    "crop02 = layers.Cropping2D(cropping=(16, 16))(c7)\n",
    "\n",
    "concat02 = layers.concatenate([t02, crop02], axis=-1)\n",
    "\n",
    "c16 = layers.Conv2D(256, activation='relu', kernel_size=3)(concat02)\n",
    "c17 = layers.Conv2D(256, activation='relu', kernel_size=3)(c16)\n",
    "\n",
    "t03 = layers.Conv2DTranspose(128, kernel_size=2, strides=(2, 2), activation='relu')(c17)\n",
    "crop03 = layers.Cropping2D(cropping=(40, 40))(c4)\n",
    "\n",
    "concat03 = layers.concatenate([t03, crop03], axis=-1)\n",
    "\n",
    "c18 = layers.Conv2D(128, activation='relu', kernel_size=3)(concat03)\n",
    "c19 = layers.Conv2D(128, activation='relu', kernel_size=3)(c18)\n",
    "\n",
    "t04 = layers.Conv2DTranspose(64, kernel_size=2, strides=(2, 2), activation='relu')(c19)\n",
    "crop04 = layers.Cropping2D(cropping=(88, 88))(c1)\n",
    "\n",
    "concat04 = layers.concatenate([t04, crop04], axis=-1)\n",
    "\n",
    "c20 = layers.Conv2D(64, activation='relu', kernel_size=3)(concat04)\n",
    "c21 = layers.Conv2D(64, activation='relu', kernel_size=3)(c20)\n",
    "\n",
    "outputs = layers.Conv2D(2, kernel_size=1)(c21)\n",
    "\n",
    "model = tf.keras.Model(inputs=inputs, outputs=outputs, name=\"u-netmodel\")"
   ]
  },
  {
   "cell_type": "code",
   "execution_count": 20,
   "metadata": {},
   "outputs": [
    {
     "name": "stdout",
     "output_type": "stream",
     "text": [
      "('Failed to import pydot. You must `pip install pydot` and install graphviz (https://graphviz.gitlab.io/download/), ', 'for `pydotprint` to work.')\n"
     ]
    }
   ],
   "source": [
    "tf.keras.utils.plot_model(model, \"unet.png\", True)"
   ]
  }
 ],
 "metadata": {
  "kernelspec": {
   "display_name": "Python 3 (ipykernel)",
   "language": "python",
   "name": "python3"
  },
  "language_info": {
   "codemirror_mode": {
    "name": "ipython",
    "version": 3
   },
   "file_extension": ".py",
   "mimetype": "text/x-python",
   "name": "python",
   "nbconvert_exporter": "python",
   "pygments_lexer": "ipython3",
   "version": "3.8.8"
  },
  "varInspector": {
   "cols": {
    "lenName": 16,
    "lenType": 16,
    "lenVar": 40
   },
   "kernels_config": {
    "python": {
     "delete_cmd_postfix": "",
     "delete_cmd_prefix": "del ",
     "library": "var_list.py",
     "varRefreshCmd": "print(var_dic_list())"
    },
    "r": {
     "delete_cmd_postfix": ") ",
     "delete_cmd_prefix": "rm(",
     "library": "var_list.r",
     "varRefreshCmd": "cat(var_dic_list()) "
    }
   },
   "types_to_exclude": [
    "module",
    "function",
    "builtin_function_or_method",
    "instance",
    "_Feature"
   ],
   "window_display": false
  }
 },
 "nbformat": 4,
 "nbformat_minor": 4
}
