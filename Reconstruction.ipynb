{
  "nbformat": 4,
  "nbformat_minor": 0,
  "metadata": {
    "colab": {
      "name": "Reconstruction.ipynb",
      "provenance": [],
      "collapsed_sections": [],
      "mount_file_id": "1e42M87MkAmAYh7cGZw4QmpuXMdVk5S0R",
      "authorship_tag": "ABX9TyNWgPvLx5Wbpj7Qxnb6NXRc",
      "include_colab_link": true
    },
    "kernelspec": {
      "name": "python3",
      "display_name": "Python 3"
    },
    "language_info": {
      "name": "python"
    },
    "accelerator": "GPU"
  },
  "cells": [
    {
      "cell_type": "markdown",
      "metadata": {
        "id": "view-in-github",
        "colab_type": "text"
      },
      "source": [
        "<a href=\"https://colab.research.google.com/github/Erfandarzi/mri-reconstruction/blob/master/Reconstruction.ipynb\" target=\"_parent\"><img src=\"https://colab.research.google.com/assets/colab-badge.svg\" alt=\"Open In Colab\"/></a>"
      ]
    },
    {
      "cell_type": "code",
      "metadata": {
        "id": "vJ-OXP_CbbLP"
      },
      "source": [
        "!cp -r /content/drive/MyDrive/Reconstruction/ /content"
      ],
      "execution_count": 2,
      "outputs": []
    },
    {
      "cell_type": "markdown",
      "metadata": {
        "id": "7ENXLimvA_JJ"
      },
      "source": [
        ""
      ]
    },
    {
      "cell_type": "code",
      "metadata": {
        "id": "W5EPCgvQcErx"
      },
      "source": [
        "\n",
        "import os, glob, sys, io\n",
        "import pathlib\n",
        "\n",
        "from pprint import pprint\n",
        "import numpy as np\n",
        "import random\n",
        "import pandas as pd\n",
        "import tensorflow as tf\n",
        "import matplotlib.pyplot as plt\n",
        "\n",
        "import scipy\n",
        "import scipy.signal\n",
        "import scipy.interpolate\n",
        "\n",
        "import pickle\n",
        "from tqdm.auto import tqdm, trange\n",
        "\n",
        "\n",
        "from IPython.core.display import display, HTML"
      ],
      "execution_count": null,
      "outputs": []
    },
    {
      "cell_type": "code",
      "metadata": {
        "colab": {
          "base_uri": "https://localhost:8080/"
        },
        "id": "yQ3DHDxGlaOT",
        "outputId": "c99f0164-5d7f-455e-d691-a38db14db81f"
      },
      "source": [
        "out_dir = \"F:/MohammadRaziei/project/Dataset/ismrmrd_to_npz\"\n",
        "# out_dir = \"H:/Dataset/Bio/MRI Reconstruction/ismrmrd_to_npz\"\n",
        "pickle_dir = \"F:/MohammadRaziei/project/Dataset/npz_to_pickle\"\n",
        "# pickle_dir = \"H:/Dataset/Bio/MRI Reconstruction/npz_to_pickle\"\n",
        "pickle_batch_root = \"F:/MohammadRaziei/project/Dataset/pickle_batch_root\"\n",
        "\n",
        "filenames = glob.glob(out_dir+\"/*.npz\")\n",
        "len(filenames)"
      ],
      "execution_count": null,
      "outputs": [
        {
          "output_type": "execute_result",
          "data": {
            "text/plain": [
              "0"
            ]
          },
          "metadata": {},
          "execution_count": 5
        }
      ]
    },
    {
      "cell_type": "code",
      "metadata": {
        "id": "I7Ld7Yhfm-bs"
      },
      "source": [
        "batch_size = 64\n",
        "data_root = os.path.join(pickle_batch_root, str(batch_size))\n",
        "pathlib.Path(data_root).mkdir(parents=True, exist_ok=True)"
      ],
      "execution_count": null,
      "outputs": []
    },
    {
      "cell_type": "code",
      "metadata": {
        "colab": {
          "base_uri": "https://localhost:8080/",
          "height": 32
        },
        "id": "JvYdFTLJluuD",
        "outputId": "c9f708df-0e56-4860-c5db-1e4c0d63daf2"
      },
      "source": [
        "all_info = [np.load(fname, allow_pickle=True)['info'].item() for fname in filenames]\n",
        "pd_info = pd.DataFrame(all_info)\n",
        "pd_info"
      ],
      "execution_count": null,
      "outputs": [
        {
          "output_type": "execute_result",
          "data": {
            "text/html": [
              "<div>\n",
              "<style scoped>\n",
              "    .dataframe tbody tr th:only-of-type {\n",
              "        vertical-align: middle;\n",
              "    }\n",
              "\n",
              "    .dataframe tbody tr th {\n",
              "        vertical-align: top;\n",
              "    }\n",
              "\n",
              "    .dataframe thead th {\n",
              "        text-align: right;\n",
              "    }\n",
              "</style>\n",
              "<table border=\"1\" class=\"dataframe\">\n",
              "  <thead>\n",
              "    <tr style=\"text-align: right;\">\n",
              "      <th></th>\n",
              "    </tr>\n",
              "  </thead>\n",
              "  <tbody>\n",
              "  </tbody>\n",
              "</table>\n",
              "</div>"
            ],
            "text/plain": [
              "Empty DataFrame\n",
              "Columns: []\n",
              "Index: []"
            ]
          },
          "metadata": {},
          "execution_count": 7
        }
      ]
    },
    {
      "cell_type": "code",
      "metadata": {
        "colab": {
          "base_uri": "https://localhost:8080/",
          "height": 269
        },
        "id": "H_nYJwJ1omxp",
        "outputId": "b06e74e2-ef07-452e-eed5-15fc16fb8c2a"
      },
      "source": [
        "mNx, mNy = (384, 616)\n",
        "\n",
        "mask_k = np.zeros((mNy, mNx))\n",
        "mask_k[::4,:] = 1\n",
        "\n",
        "w = 10;\n",
        "mask_w = np.zeros((mNy, mNx))\n",
        "mask_w[mNy//2-w:mNy//2+w,:] = 1\n",
        "\n",
        "mask_t = np.logical_or(mask_k, mask_w)\n",
        "\n",
        "plt.imshow(mask_t, cmap='gray')#,interpolation='none')\n",
        "plt.show()"
      ],
      "execution_count": null,
      "outputs": [
        {
          "output_type": "display_data",
          "data": {
            "image/png": "[encoded data removed]",
            "text/plain": [
              "<Figure size 432x288 with 1 Axes>"
            ]
          },
          "metadata": {
            "needs_background": "light"
          }
        }
      ]
    },
    {
      "cell_type": "code",
      "metadata": {
        "id": "RFUc8-EVoXZd"
      },
      "source": [
        "class KSpaceCatGenerator(tf.keras.utils.Sequence):\n",
        "    def __init__(self, pickle_root_dir, mask, axis, data_format=\"channels_first\"):\n",
        "        self.filenames = glob.glob(pickle_root_dir+\"/*.pickle\")\n",
        "        self.mask = mask\n",
        "        self.data_root = pickle_root_dir\n",
        "        self.axis = axis\n",
        "        assert(data_format in [\"channels_first\", \"channels_last\"])\n",
        "        self.data_format = data_format\n",
        "        \n",
        "    def __len__(self):\n",
        "        return len(self.filenames)\n",
        "    \n",
        "    def __getitem__(self, index):\n",
        "        return self.getitem(index)\n",
        "        \n",
        "    def getitem(self, index):\n",
        "        with open(self.filenames[index], 'rb') as f:\n",
        "            padded = pickle.load(f)\n",
        "        inp = padded*self.mask\n",
        "        out1 = padded\n",
        "        if self.data_format ==\"channels_last\":\n",
        "            inp = inp.transpose([0,2,3,1])\n",
        "            out1 = out1.transpose([0,2,3,1])        \n",
        "        inp = self.to_float(inp, self.axis)\n",
        "        out1 = self.to_float(out1, self.axis)\n",
        "        return inp, out1\n",
        "    \n",
        "    \n",
        "    def get_batch_size(self):\n",
        "        return int(pathlib.Path(self.data_root).stem)\n",
        "    \n",
        "    @staticmethod\n",
        "    def to_float(X, axis):\n",
        "        return np.concatenate([X.real, X.imag], axis=axis)\n",
        "    @staticmethod\n",
        "    def to_float(X, axis):\n",
        "        return np.concatenate([X.real, X.imag], axis=axis)\n",
        "    @staticmethod\n",
        "    def to_complex(X, axis):\n",
        "        ax = np.mod(axis, 4)\n",
        "        n = X.shape[ax] // 2\n",
        "        if   ax == 0: a = X[:n,:,:,:] + 1j * X[n:,:,:,:]\n",
        "        elif ax == 1: a = X[:,:n,:,:] + 1j * X[:,n:,:,:]\n",
        "        elif ax == 2: a = X[:,:,:n,:] + 1j * X[:,:,n:,:]\n",
        "        elif ax == 3: a = X[:,:,:,:n] + 1j * X[:,:,:,n:]\n",
        "        else: raise Exception(\"not suported axis\")\n",
        "        return a\n",
        "        \n",
        "    def transform_to_image_coils(self, data):\n",
        "        axes = (-2,-1) if self.data_format == \"channels_first\" else (1,2)\n",
        "        return np.fft.fftshift(scipy.fft.ifft2(self.to_complex(data, self.axis), axes=axes,\n",
        "                                              workers=os.cpu_count()))\n",
        "    def combine_coil_images(self, im):\n",
        "        return np.sqrt(np.sum(im**2,1 if self.data_format == \"channels_first\" else 3))\n",
        "    def transform_to_images(self, data):\n",
        "        return self.combine_coil_images(self.transform_to_image_coils(data))\n"
      ],
      "execution_count": null,
      "outputs": []
    },
    {
      "cell_type": "code",
      "metadata": {
        "id": "mZcTmZXkuFOJ"
      },
      "source": [
        "pathlib.Path(data_root).mkdir(parents=True, exist_ok=True)"
      ],
      "execution_count": null,
      "outputs": []
    },
    {
      "cell_type": "code",
      "metadata": {
        "id": "Vc1Ta6MGqDUv"
      },
      "source": [
        "batch_size = 64\n",
        "pickle_batch_root = '/content/pickle_batch_root'\n",
        "data_root = os.path.join(pickle_batch_root, str(batch_size))\n",
        "pathlib.Path(data_root).mkdir(parents=True, exist_ok=True)"
      ],
      "execution_count": null,
      "outputs": []
    },
    {
      "cell_type": "code",
      "metadata": {
        "id": "o_2A9eVotUkO"
      },
      "source": [
        "!mv /content/Reconstruction/0000.pickle /content/pickle_batch_root/64/0000.pickle"
      ],
      "execution_count": null,
      "outputs": []
    },
    {
      "cell_type": "code",
      "metadata": {
        "colab": {
          "base_uri": "https://localhost:8080/"
        },
        "id": "0R_RKn6ip7gE",
        "outputId": "a348a53d-c3e3-4f3c-b8f3-5535941fa1fa"
      },
      "source": [
        "kspacegen = KSpaceCatGenerator(data_root, mask_t,1)\n",
        "print(len(kspacegen))\n",
        "print(kspacegen.get_batch_size())"
      ],
      "execution_count": null,
      "outputs": [
        {
          "output_type": "stream",
          "name": "stdout",
          "text": [
            "1\n",
            "64\n"
          ]
        }
      ]
    },
    {
      "cell_type": "code",
      "metadata": {
        "colab": {
          "base_uri": "https://localhost:8080/"
        },
        "id": "wX4UjCvOt6Ja",
        "outputId": "eb801195-4771-479c-b111-53bdf750f095"
      },
      "source": [
        "%time X,Y = kspacegen[0]\n"
      ],
      "execution_count": null,
      "outputs": [
        {
          "output_type": "stream",
          "name": "stdout",
          "text": [
            "CPU times: user 2.4 s, sys: 3.39 s, total: 5.78 s\n",
            "Wall time: 35.5 s\n"
          ]
        }
      ]
    },
    {
      "cell_type": "code",
      "metadata": {
        "id": "0FMESIGSjv4J"
      },
      "source": [
        "data_root_A= '/content/Reconstruction/data/train/A'\n",
        "pathlib.Path(data_root_A).mkdir(parents=True, exist_ok=True)"
      ],
      "execution_count": null,
      "outputs": []
    },
    {
      "cell_type": "code",
      "metadata": {
        "id": "lgwLICFRkE5L"
      },
      "source": [
        "data_root_B= '/content/Reconstruction/data/train/B'\n",
        "pathlib.Path(data_root_B).mkdir(parents=True, exist_ok=True)"
      ],
      "execution_count": null,
      "outputs": []
    },
    {
      "cell_type": "code",
      "metadata": {
        "id": "j5IZiXDJSlL7"
      },
      "source": [
        "from PIL import Image\n",
        "import os\n",
        "\n",
        "for i in range (len(Y)):\n",
        "    path=os.path.join(data_root_A,str(i)+'_'+batch_name+'.pickle')\n",
        "    with open(path, \"wb\") as f_out:\n",
        "        pickle.dump(Y[i], f_out)\n",
        "  "
      ],
      "execution_count": null,
      "outputs": []
    },
    {
      "cell_type": "code",
      "metadata": {
        "id": "nhnaYHrZk5DF"
      },
      "source": [
        "for i in range (len(X)):\n",
        "    path=os.path.join(data_root_B,str(i)+'_'+batch_name+'.pickle')\n",
        "    with open(path, \"wb\") as f_out:\n",
        "        pickle.dump(X[i], f_out)"
      ],
      "execution_count": null,
      "outputs": []
    },
    {
      "cell_type": "code",
      "metadata": {
        "colab": {
          "base_uri": "https://localhost:8080/"
        },
        "id": "dQFki289lHGK",
        "outputId": "76d67448-b1e0-4f08-bf30-72075c575400"
      },
      "source": [
        "with open(\"/content/Reconstruction/data/train/A/11_0000.pickle\", \"rb\") as f_in:\n",
        "    arr_new = pickle.load(f_in)\n",
        "    print (arr_new.shape)"
      ],
      "execution_count": null,
      "outputs": [
        {
          "output_type": "stream",
          "name": "stdout",
          "text": [
            "(30, 616, 384)\n"
          ]
        }
      ]
    },
    {
      "cell_type": "code",
      "metadata": {
        "colab": {
          "base_uri": "https://localhost:8080/"
        },
        "id": "qPtJ0N6ou6T5",
        "outputId": "622a5d54-fa59-478a-9fa4-4c04c3a143a9"
      },
      "source": [
        "X.shape"
      ],
      "execution_count": null,
      "outputs": [
        {
          "output_type": "execute_result",
          "data": {
            "text/plain": [
              "(64, 15, 616, 384)"
            ]
          },
          "metadata": {},
          "execution_count": 14
        }
      ]
    },
    {
      "cell_type": "code",
      "metadata": {
        "colab": {
          "base_uri": "https://localhost:8080/",
          "height": 589
        },
        "id": "hCxvTKhZvCeN",
        "outputId": "df4fc834-7273-4a52-b93f-33ba4e88e072"
      },
      "source": [
        "%time images = KSpaceGenerator.transform_to_images(Y)\n",
        "plt.imshow(np.abs(images[21]), cmap='gray')\n",
        "plt.show()\n",
        "%time images_alias = KSpaceGenerator.transform_to_images(X)\n",
        "plt.imshow(np.abs(images_alias[21]), cmap='gray')\n",
        "plt.show()"
      ],
      "execution_count": null,
      "outputs": [
        {
          "output_type": "stream",
          "name": "stdout",
          "text": [
            "CPU times: user 13.9 s, sys: 2.2 s, total: 16.1 s\n",
            "Wall time: 9.98 s\n"
          ]
        },
        {
          "output_type": "display_data",
          "data": {
            "image/png": "[encoded data removed]",
            "text/plain": [
              "<Figure size 432x288 with 1 Axes>"
            ]
          },
          "metadata": {
            "needs_background": "light"
          }
        },
        {
          "output_type": "stream",
          "name": "stdout",
          "text": [
            "CPU times: user 17.4 s, sys: 770 ms, total: 18.1 s\n",
            "Wall time: 10.5 s\n"
          ]
        },
        {
          "output_type": "display_data",
          "data": {
            "image/png": "[encoded data removed]",
            "text/plain": [
              "<Figure size 432x288 with 1 Axes>"
            ]
          },
          "metadata": {
            "needs_background": "light"
          }
        }
      ]
    },
    {
      "cell_type": "code",
      "metadata": {
        "id": "vB9svrAWYFoq"
      },
      "source": [
        "!mkdir '/content/Reconstruction/output'"
      ],
      "execution_count": null,
      "outputs": []
    },
    {
      "cell_type": "code",
      "metadata": {
        "id": "KDrKWVRF_EbB"
      },
      "source": [
        "%cd /content/Reconstruction\n",
        "!python train.py  --dataroot /content/Reconstruction/data --cuda --input_nc=30 --output_nc 30 --epoch 1 --n_cpu=2"
      ],
      "execution_count": null,
      "outputs": []
    },
    {
      "cell_type": "code",
      "metadata": {
        "id": "vYo_LuqPejgU"
      },
      "source": [
        "######## TEST ##########\n",
        "\n",
        "import torch\n",
        "import pickle\n",
        "import numpy as np\n",
        "from PIL import Image\n",
        "sample_pickle='/content/Reconstruction/data/train/A/12_0000.pickle'\n",
        "\n",
        "with open(sample_pickle, 'rb') as pickle_file:\n",
        "    item_B = pickle.load(pickle_file)\n",
        "\n",
        "item_B_resized=np.zeros((30,287,287))\n",
        "\n",
        "for i in range (len(item_B)):\n",
        "    item_B_pil= Image.fromarray(item_B[i])\n",
        "    item_B_resized[i]= np.array(item_B_pil.resize((287,287),Image.BICUBIC))\n",
        "item_B= torch.tensor(item_B_resized)\n",
        "netG_A2B= torch.load('/content/Reconstruction/output/netG_A2B.pth')"
      ],
      "execution_count": 10,
      "outputs": []
    },
    {
      "cell_type": "code",
      "metadata": {
        "colab": {
          "base_uri": "https://localhost:8080/",
          "height": 164
        },
        "id": "tvHfLa6IM7KP",
        "outputId": "5ac4c21c-fa83-45ff-c1e2-dc5fe6161608"
      },
      "source": [
        ""
      ],
      "execution_count": 12,
      "outputs": [
        {
          "output_type": "error",
          "ename": "TypeError",
          "evalue": "ignored",
          "traceback": [
            "\u001b[0;31m---------------------------------------------------------------------------\u001b[0m",
            "\u001b[0;31mTypeError\u001b[0m                                 Traceback (most recent call last)",
            "\u001b[0;32m<ipython-input-12-9f6f5c0b8a48>\u001b[0m in \u001b[0;36m<module>\u001b[0;34m()\u001b[0m\n\u001b[0;32m----> 1\u001b[0;31m \u001b[0moutput\u001b[0m\u001b[0;34m=\u001b[0m\u001b[0mnetG_A2B\u001b[0m\u001b[0;34m(\u001b[0m\u001b[0mitem_B\u001b[0m\u001b[0;34m[\u001b[0m\u001b[0;34m'A'\u001b[0m\u001b[0;34m]\u001b[0m\u001b[0;34m)\u001b[0m\u001b[0;34m\u001b[0m\u001b[0;34m\u001b[0m\u001b[0m\n\u001b[0m",
            "\u001b[0;31mTypeError\u001b[0m: new(): invalid data type 'str'"
          ]
        }
      ]
    },
    {
      "cell_type": "code",
      "metadata": {
        "id": "GiHfYVnNfG2h"
      },
      "source": [
        "netG_A2B ()"
      ],
      "execution_count": null,
      "outputs": []
    },
    {
      "cell_type": "code",
      "metadata": {
        "id": "jLp5V9OQzoSJ"
      },
      "source": [
        "!cp -r /content/Reconstruction  /content/drive/MyDrive"
      ],
      "execution_count": null,
      "outputs": []
    },
    {
      "cell_type": "code",
      "metadata": {
        "id": "r9JB2nQz_5mQ"
      },
      "source": [
        "!mkdir \"/content/drive/MyDrive/Reconstruction\""
      ],
      "execution_count": null,
      "outputs": []
    },
    {
      "cell_type": "code",
      "metadata": {
        "id": "Ijazu4RD9wVo"
      },
      "source": [
        "####### HATMAN NORMALIZATiON preprpcessing ro anjam bede (0.5,0.5,0.5)"
      ],
      "execution_count": null,
      "outputs": []
    },
    {
      "cell_type": "markdown",
      "metadata": {
        "id": "CVcF7MapAa6d"
      },
      "source": [
        ""
      ]
    }
  ]
}